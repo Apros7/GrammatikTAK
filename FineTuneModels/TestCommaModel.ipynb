{
 "cells": [
  {
   "cell_type": "code",
   "execution_count": 2,
   "metadata": {},
   "outputs": [],
   "source": [
    "import pandas as pd\n",
    "import os\n",
    "import torch\n",
    "from transformers import Trainer, BertTokenizer\n",
    "import numpy as np"
   ]
  },
  {
   "cell_type": "code",
   "execution_count": 3,
   "metadata": {},
   "outputs": [],
   "source": [
    "os.chdir(\"/Users/lucasvilsen/Desktop/GrammatikTAK/GrammatiktakDatasets/checkedDatasets/\")\n",
    "data = pd.read_csv(\"CommaDevelopmentset.csv\", sep=\";\")"
   ]
  },
  {
   "cell_type": "code",
   "execution_count": 4,
   "metadata": {},
   "outputs": [],
   "source": [
    "X = list(data[\"comment_text\"].values)\n",
    "Y = list(data[\"label\"].values)\n",
    "\n",
    "class Dataset(torch.utils.data.Dataset):\n",
    "    def __init__(self, encodings, labels=None):\n",
    "        self.encodings = encodings\n",
    "        self.labels = labels\n",
    "\n",
    "    def __getitem__(self, idx):\n",
    "        item = {key: torch.tensor(val[idx]) for key, val in self.encodings.items()}\n",
    "        if self.labels:\n",
    "            item[\"labels\"] = torch.tensor(self.labels[idx])\n",
    "        return item\n",
    "\n",
    "    def __len__(self):\n",
    "        return len(self.encodings[\"input_ids\"])"
   ]
  },
  {
   "cell_type": "code",
   "execution_count": 5,
   "metadata": {},
   "outputs": [
    {
     "data": {
      "text/plain": [
       "device(type='mps')"
      ]
     },
     "execution_count": 5,
     "metadata": {},
     "output_type": "execute_result"
    }
   ],
   "source": [
    "def load_model():\n",
    "    os.chdir(\"/Users/lucasvilsen/Desktop/GrammatikTAK/FineTuneModels/Models/\")\n",
    "    models = [\"commaModel2\", \"commaModel4\", \"commaModel5\", \"commaModel6\"]\n",
    "    # punctuation model, padding and scope should match model and dataset\n",
    "    # should have padding so that every word except the last is checked\n",
    "    # else the logic in finding \"find_comma_mistakes\" needs to be changed\n",
    "    punc_models = []\n",
    "    for model in models:\n",
    "        loaded_model = torch.load(model, map_location=torch.device('cpu'))\n",
    "        punc_models.append(loaded_model)\n",
    "    scope = 6\n",
    "    padding = int(scope/2-1)\n",
    "\n",
    "    punc_trainers = []\n",
    "    for model in punc_models:\n",
    "        model.eval()\n",
    "        model.to(device)\n",
    "        punc_trainers.append(Trainer(model))\n",
    "    return punc_trainers, scope, padding, models\n",
    "\n",
    "device = \"mps\"\n",
    "torch.device(device)"
   ]
  },
  {
   "cell_type": "code",
   "execution_count": 6,
   "metadata": {},
   "outputs": [],
   "source": [
    "from tqdm import tqdm\n",
    "\n",
    "class PunctuationCorrector():\n",
    "    def __init__(self) -> None:\n",
    "        self.models, self.scope, self.padding, self.model_names = load_model()\n",
    "        self.tokenizer = BertTokenizer.from_pretrained(\"Maltehb/danish-bert-botxo\")\n",
    "    \n",
    "    def add_padding(self, words):\n",
    "        return [\"<PAD>\"]*self.padding + words + [\"<PAD>\"]*self.padding\n",
    "\n",
    "    # prepares dataset and get predictions\n",
    "    def get_predictions(self, test_data) -> list:\n",
    "        final_predictions = []\n",
    "        print(\"Tokenizing\")\n",
    "        tokenized_data = self.tokenizer(test_data, padding=True, truncation=True, max_length=15)\n",
    "        final_dataset = Dataset(tokenized_data)\n",
    "        for i in tqdm(range(len(self.models))):\n",
    "            model = self.models[i]\n",
    "            print(\"Predicting\")\n",
    "            raw_predictions, _, _ = model.predict(final_dataset)\n",
    "            final_prediction = np.argmax(raw_predictions, axis=1)\n",
    "            final_predictions.append(final_prediction)\n",
    "        return final_predictions\n",
    "    \n",
    "    def get_accuracy_for_each_model(self, X, y):\n",
    "        predictions_lsts = self.get_predictions(X)\n",
    "        accuracy = [np.mean(predictions == y) for predictions in predictions_lsts]\n",
    "        print(*[f\"{self.model_names[i]} accuracy: {round(accuracy[i], 4)*100}%\" for i in range(len(accuracy))], sep=\"\\n\")\n",
    "\n",
    "puncCorrector = PunctuationCorrector()"
   ]
  },
  {
   "cell_type": "code",
   "execution_count": 7,
   "metadata": {},
   "outputs": [
    {
     "name": "stdout",
     "output_type": "stream",
     "text": [
      "Tokenizing\n"
     ]
    },
    {
     "name": "stderr",
     "output_type": "stream",
     "text": [
      "  0%|          | 0/4 [00:00<?, ?it/s]"
     ]
    },
    {
     "name": "stdout",
     "output_type": "stream",
     "text": [
      "Predicting\n"
     ]
    },
    {
     "data": {
      "application/vnd.jupyter.widget-view+json": {
       "model_id": "c6f7daf798b644b4bcbf4b2540b3b4db",
       "version_major": 2,
       "version_minor": 0
      },
      "text/plain": [
       "  0%|          | 0/170 [00:00<?, ?it/s]"
      ]
     },
     "metadata": {},
     "output_type": "display_data"
    },
    {
     "name": "stderr",
     "output_type": "stream",
     "text": [
      " 25%|██▌       | 1/4 [00:20<01:00, 20.21s/it]"
     ]
    },
    {
     "name": "stdout",
     "output_type": "stream",
     "text": [
      "Predicting\n"
     ]
    },
    {
     "data": {
      "application/vnd.jupyter.widget-view+json": {
       "model_id": "30222dd3ab164882afef80b64ea97f67",
       "version_major": 2,
       "version_minor": 0
      },
      "text/plain": [
       "  0%|          | 0/170 [00:00<?, ?it/s]"
      ]
     },
     "metadata": {},
     "output_type": "display_data"
    },
    {
     "name": "stderr",
     "output_type": "stream",
     "text": [
      " 50%|█████     | 2/4 [00:41<00:42, 21.03s/it]"
     ]
    },
    {
     "name": "stdout",
     "output_type": "stream",
     "text": [
      "Predicting\n"
     ]
    },
    {
     "data": {
      "application/vnd.jupyter.widget-view+json": {
       "model_id": "affdd128202b4d5d8f75a619769f27a8",
       "version_major": 2,
       "version_minor": 0
      },
      "text/plain": [
       "  0%|          | 0/170 [00:00<?, ?it/s]"
      ]
     },
     "metadata": {},
     "output_type": "display_data"
    },
    {
     "name": "stderr",
     "output_type": "stream",
     "text": [
      " 75%|███████▌  | 3/4 [01:03<00:21, 21.53s/it]"
     ]
    },
    {
     "name": "stdout",
     "output_type": "stream",
     "text": [
      "Predicting\n"
     ]
    },
    {
     "data": {
      "application/vnd.jupyter.widget-view+json": {
       "model_id": "07559bb744154bc68c03f3de5ee0064d",
       "version_major": 2,
       "version_minor": 0
      },
      "text/plain": [
       "  0%|          | 0/170 [00:00<?, ?it/s]"
      ]
     },
     "metadata": {},
     "output_type": "display_data"
    },
    {
     "name": "stderr",
     "output_type": "stream",
     "text": [
      "100%|██████████| 4/4 [01:23<00:00, 20.80s/it]"
     ]
    },
    {
     "name": "stdout",
     "output_type": "stream",
     "text": [
      "commaModel2 accuracy: 0.8294%\n",
      "commaModel4 accuracy: 0.8257%\n",
      "commaModel5 accuracy: 0.9669%\n",
      "commaModel6 accuracy: 0.9743%\n"
     ]
    },
    {
     "name": "stderr",
     "output_type": "stream",
     "text": [
      "\n"
     ]
    }
   ],
   "source": [
    "puncCorrector.get_accuracy_for_each_model(X, Y)"
   ]
  },
  {
   "cell_type": "code",
   "execution_count": null,
   "metadata": {},
   "outputs": [],
   "source": []
  }
 ],
 "metadata": {
  "kernelspec": {
   "display_name": "Python 3.11.2 64-bit",
   "language": "python",
   "name": "python3"
  },
  "language_info": {
   "codemirror_mode": {
    "name": "ipython",
    "version": 3
   },
   "file_extension": ".py",
   "mimetype": "text/x-python",
   "name": "python",
   "nbconvert_exporter": "python",
   "pygments_lexer": "ipython3",
   "version": "3.11.2"
  },
  "orig_nbformat": 4,
  "vscode": {
   "interpreter": {
    "hash": "b0fa6594d8f4cbf19f97940f81e996739fb7646882a419484c72d19e05852a7e"
   }
  }
 },
 "nbformat": 4,
 "nbformat_minor": 2
}
