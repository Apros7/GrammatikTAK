{
 "cells": [
  {
   "cell_type": "code",
   "execution_count": 2,
   "metadata": {},
   "outputs": [],
   "source": [
    "import pandas as pd\n",
    "import os\n",
    "import torch\n",
    "from transformers import Trainer, BertTokenizer\n",
    "import numpy as np"
   ]
  },
  {
   "cell_type": "code",
   "execution_count": 3,
   "metadata": {},
   "outputs": [
    {
     "data": {
      "text/plain": [
       "['CommaDevelopmentset20.csv',\n",
       " 'CommaDevelopmentset8.csv',\n",
       " 'CommaDevelopmentset6.csv',\n",
       " 'CommaDevelopmentset10.csv']"
      ]
     },
     "execution_count": 3,
     "metadata": {},
     "output_type": "execute_result"
    }
   ],
   "source": [
    "os.chdir(\"/Users/lucasvilsen/Desktop/GrammatikTAK/GrammatiktakDatasets/checkedDatasets/\")\n",
    "os.listdir()"
   ]
  },
  {
   "cell_type": "code",
   "execution_count": 4,
   "metadata": {},
   "outputs": [],
   "source": [
    "def load_data(filename):\n",
    "    os.chdir(\"/Users/lucasvilsen/Desktop/GrammatikTAK/GrammatiktakDatasets/checkedDatasets/\")\n",
    "    data = pd.read_csv(filename, sep=\";\")\n",
    "\n",
    "    X = list(data[\"comment_text\"].values)\n",
    "    Y = list(data[\"label\"].values)\n",
    "    \n",
    "    return X, Y\n",
    "\n",
    "class Dataset(torch.utils.data.Dataset):\n",
    "    def __init__(self, encodings, labels=None):\n",
    "        self.encodings = encodings\n",
    "        self.labels = labels\n",
    "\n",
    "    def __getitem__(self, idx):\n",
    "        item = {key: torch.tensor(val[idx]) for key, val in self.encodings.items()}\n",
    "        if self.labels:\n",
    "            item[\"labels\"] = torch.tensor(self.labels[idx])\n",
    "        return item\n",
    "\n",
    "    def __len__(self):\n",
    "        return len(self.encodings[\"input_ids\"])\n",
    "\n"
   ]
  },
  {
   "cell_type": "code",
   "execution_count": 5,
   "metadata": {},
   "outputs": [
    {
     "data": {
      "text/plain": [
       "device(type='mps')"
      ]
     },
     "execution_count": 5,
     "metadata": {},
     "output_type": "execute_result"
    }
   ],
   "source": [
    "def load_model():\n",
    "    os.chdir(\"/Users/lucasvilsen/Desktop/GrammatikTAK/FineTuneModels/Models/\")\n",
    "    models = [\"commaModel4\", \"commaModel7\", \"commaModel8\",  \"commaModel9\"]\n",
    "    model_par = [(6, 15), (10, 21), (20, 55), (10, 21)]\n",
    "    # punctuation model, padding and scope should match model and dataset\n",
    "    # should have padding so that every word except the last is checked\n",
    "    # else the logic in finding \"find_comma_mistakes\" needs to be changed\n",
    "    punc_models = []\n",
    "    for model in models:\n",
    "        loaded_model = torch.load(model, map_location=torch.device('cpu'))\n",
    "        punc_models.append(loaded_model)\n",
    "    scope = 6\n",
    "    padding = int(scope/2-1)\n",
    "\n",
    "    punc_trainers = []\n",
    "    for model in punc_models:\n",
    "        model.eval()\n",
    "        model.to(device)\n",
    "        punc_trainers.append(Trainer(model))\n",
    "    return punc_trainers, scope, padding, models, model_par\n",
    "\n",
    "device = \"mps\"\n",
    "torch.device(device)"
   ]
  },
  {
   "cell_type": "code",
   "execution_count": 6,
   "metadata": {},
   "outputs": [],
   "source": [
    "from tqdm import tqdm\n",
    "from sklearn.metrics import f1_score, recall_score, precision_score\n",
    "\n",
    "class PunctuationCorrector():\n",
    "    def __init__(self) -> None:\n",
    "        self.models, self.scope, self.padding, self.model_names, self.model_par = load_model()\n",
    "        self.tokenizer = BertTokenizer.from_pretrained(\"Maltehb/danish-bert-botxo\")\n",
    "    \n",
    "    def add_padding(self, words):\n",
    "        return [\"<PAD>\"]*self.padding + words + [\"<PAD>\"]*self.padding\n",
    "\n",
    "    # prepares dataset and get predictions\n",
    "    def get_predictions(self) -> list:\n",
    "        final_predictions = []\n",
    "        ys = []\n",
    "        for i in tqdm(range(len(self.models))):\n",
    "            test_data, y = load_data(f\"CommaDevelopmentset{self.model_par[i][0]}.csv\")\n",
    "            ys.append(y)\n",
    "            model = self.models[i]\n",
    "            tokenized_data = self.tokenizer(test_data, padding=True, truncation=True, max_length=self.model_par[i][1])\n",
    "            final_dataset = Dataset(tokenized_data)\n",
    "            raw_predictions, _, _ = model.predict(final_dataset)\n",
    "            final_prediction = np.argmax(raw_predictions, axis=1)\n",
    "            final_predictions.append(final_prediction)\n",
    "        return final_predictions, ys\n",
    "    \n",
    "    def get_accuracy_for_each_model(self):\n",
    "        predictions_lsts, y = self.get_predictions()\n",
    "        accuracy = [np.mean(predictions == y[i]) for i, predictions in enumerate(predictions_lsts)]\n",
    "        f1_scores = [f1_score(y[i], predictions, average=\"macro\") for i, predictions in enumerate(predictions_lsts)]\n",
    "        recall = [recall_score(y[i], predictions, average=\"macro\") for i, predictions in enumerate(predictions_lsts)]\n",
    "        precision = [precision_score(y[i], predictions, average=\"macro\") for i, predictions in enumerate(predictions_lsts)]\n",
    "\n",
    "        print(\"Accuracy:\\n\")\n",
    "        print(*[f\"{self.model_names[i]} accuracy: {round(accuracy[i], 4)*100}%\" for i in range(len(accuracy))], sep=\"\\n\")\n",
    "        print(\"\\nF1-score:\\n\")\n",
    "        print(*[f\"{self.model_names[i]} f1-score: {round(f1_scores[i], 3)}\" for i in range(len(f1_scores))], sep=\"\\n\")\n",
    "        print(\"\\nRecall:\\n\")\n",
    "        print(*[f\"{self.model_names[i]} recall: {round(recall[i], 3)}\" for i in range(len(recall))], sep=\"\\n\")\n",
    "        print(\"\\nPrecision:\\n\")\n",
    "        print(*[f\"{self.model_names[i]} precision: {round(precision[i], 3)}\" for i in range(len(precision))], sep=\"\\n\")\n",
    "\n",
    "puncCorrector = PunctuationCorrector()"
   ]
  },
  {
   "cell_type": "code",
   "execution_count": 7,
   "metadata": {},
   "outputs": [
    {
     "name": "stderr",
     "output_type": "stream",
     "text": [
      "  0%|          | 0/4 [00:00<?, ?it/s]"
     ]
    },
    {
     "data": {
      "application/vnd.jupyter.widget-view+json": {
       "model_id": "e5ec46e3a231447bb16e6f5c95a61c30",
       "version_major": 2,
       "version_minor": 0
      },
      "text/plain": [
       "  0%|          | 0/170 [00:00<?, ?it/s]"
      ]
     },
     "metadata": {},
     "output_type": "display_data"
    },
    {
     "name": "stderr",
     "output_type": "stream",
     "text": [
      " 25%|██▌       | 1/4 [00:25<01:17, 25.87s/it]"
     ]
    },
    {
     "data": {
      "application/vnd.jupyter.widget-view+json": {
       "model_id": "7cad5efa74ac46c099fceb23d337c3c7",
       "version_major": 2,
       "version_minor": 0
      },
      "text/plain": [
       "  0%|          | 0/170 [00:00<?, ?it/s]"
      ]
     },
     "metadata": {},
     "output_type": "display_data"
    },
    {
     "name": "stderr",
     "output_type": "stream",
     "text": [
      " 50%|█████     | 2/4 [00:51<00:51, 25.84s/it]"
     ]
    },
    {
     "data": {
      "application/vnd.jupyter.widget-view+json": {
       "model_id": "35052d7cf6254ee8864403c914aab928",
       "version_major": 2,
       "version_minor": 0
      },
      "text/plain": [
       "  0%|          | 0/170 [00:00<?, ?it/s]"
      ]
     },
     "metadata": {},
     "output_type": "display_data"
    },
    {
     "name": "stderr",
     "output_type": "stream",
     "text": [
      " 75%|███████▌  | 3/4 [01:42<00:37, 37.03s/it]"
     ]
    },
    {
     "data": {
      "application/vnd.jupyter.widget-view+json": {
       "model_id": "a9edc79185b3494798a097f077b300fa",
       "version_major": 2,
       "version_minor": 0
      },
      "text/plain": [
       "  0%|          | 0/170 [00:00<?, ?it/s]"
      ]
     },
     "metadata": {},
     "output_type": "display_data"
    },
    {
     "name": "stderr",
     "output_type": "stream",
     "text": [
      "100%|██████████| 4/4 [02:04<00:00, 31.12s/it]"
     ]
    },
    {
     "name": "stdout",
     "output_type": "stream",
     "text": [
      "Accuracy:\n",
      "\n",
      "commaModel4 accuracy: 94.19%\n",
      "commaModel7 accuracy: 97.64%\n",
      "commaModel8 accuracy: 97.41%\n",
      "commaModel9 accuracy: 98.09%\n",
      "\n",
      "F1-score:\n",
      "\n",
      "commaModel4 f1-score: 0.828\n",
      "commaModel7 f1-score: 0.915\n",
      "commaModel8 f1-score: 0.905\n",
      "commaModel9 f1-score: 0.931\n",
      "\n",
      "Recall:\n",
      "\n",
      "commaModel4 recall: 0.913\n",
      "commaModel7 recall: 0.927\n",
      "commaModel8 recall: 0.911\n",
      "commaModel9 recall: 0.943\n",
      "\n",
      "Precision:\n",
      "\n",
      "commaModel4 precision: 0.777\n",
      "commaModel7 precision: 0.904\n",
      "commaModel8 precision: 0.9\n",
      "commaModel9 precision: 0.92\n"
     ]
    },
    {
     "name": "stderr",
     "output_type": "stream",
     "text": [
      "\n"
     ]
    }
   ],
   "source": [
    "puncCorrector.get_accuracy_for_each_model()"
   ]
  },
  {
   "cell_type": "code",
   "execution_count": null,
   "metadata": {},
   "outputs": [],
   "source": []
  }
 ],
 "metadata": {
  "kernelspec": {
   "display_name": "Python 3.11.2 64-bit",
   "language": "python",
   "name": "python3"
  },
  "language_info": {
   "codemirror_mode": {
    "name": "ipython",
    "version": 3
   },
   "file_extension": ".py",
   "mimetype": "text/x-python",
   "name": "python",
   "nbconvert_exporter": "python",
   "pygments_lexer": "ipython3",
   "version": "3.11.2"
  },
  "orig_nbformat": 4,
  "vscode": {
   "interpreter": {
    "hash": "b0fa6594d8f4cbf19f97940f81e996739fb7646882a419484c72d19e05852a7e"
   }
  }
 },
 "nbformat": 4,
 "nbformat_minor": 2
}
