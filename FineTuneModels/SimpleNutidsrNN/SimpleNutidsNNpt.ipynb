{
 "cells": [
  {
   "cell_type": "code",
   "execution_count": 4,
   "metadata": {},
   "outputs": [],
   "source": [
    "import torch.nn as nn\n",
    "import torch\n",
    "import os\n",
    "import pandas as pd\n",
    "from sklearn.model_selection import train_test_split\n",
    "import random\n",
    "from tqdm import tqdm\n",
    "import numpy as np\n",
    "import pickle"
   ]
  },
  {
   "cell_type": "code",
   "execution_count": 5,
   "metadata": {},
   "outputs": [
    {
     "name": "stdout",
     "output_type": "stream",
     "text": [
      "Loading df...\n"
     ]
    }
   ],
   "source": [
    "os.chdir(\"/Users/lucasvilsen/Desktop/GrammatikTAK/Datasets/\")\n",
    "filename = \"EuroparlNutidsr_trainset_verbs.csv\"\n",
    "print(\"Loading df...\")\n",
    "df = pd.read_csv(filename, encoding=\"UTF-8\", sep=\";\")\n",
    "pos = list(df[\"comment_text\"].values)\n",
    "labels = list(df[\"label\"].values)\n",
    "\n",
    "X_train, X_test, y_train, y_test = train_test_split(pos, labels, test_size=0.1, random_state=42)\n",
    "\n",
    "unique_pos = ['NOUN','PUNCT','VERB','PRON','NUM','ADP','X','<PAD>','CCONJ','PROPN','AUX','SCONJ','INTJ','ADV','ADJ','PART','SYM','DET']"
   ]
  },
  {
   "cell_type": "code",
   "execution_count": 6,
   "metadata": {},
   "outputs": [
    {
     "name": "stdout",
     "output_type": "stream",
     "text": [
      "Initializing tokenizer...\n",
      "Tokenizer initialized.\n",
      "Tokenizing train...\n"
     ]
    },
    {
     "name": "stderr",
     "output_type": "stream",
     "text": [
      "100%|██████████| 1716972/1716972 [01:03<00:00, 27168.73it/s]\n"
     ]
    },
    {
     "name": "stdout",
     "output_type": "stream",
     "text": [
      "Tokenizing test...\n"
     ]
    },
    {
     "name": "stderr",
     "output_type": "stream",
     "text": [
      "100%|██████████| 190775/190775 [00:14<00:00, 13410.62it/s]"
     ]
    },
    {
     "name": "stdout",
     "output_type": "stream",
     "text": [
      "Done Tokenizing.\n"
     ]
    },
    {
     "name": "stderr",
     "output_type": "stream",
     "text": [
      "\n"
     ]
    }
   ],
   "source": [
    "class NutidsrTokenizer():\n",
    "    def __init__(self) -> None:\n",
    "        print(\"Initializing tokenizer...\")\n",
    "        self.tokenize_table = {x: i for i, x in enumerate(unique_pos)}\n",
    "        print(\"Tokenizer initialized.\")\n",
    "\n",
    "    def __call__(self, pos_list, one_hot_encode=False):\n",
    "        for pos_string in tqdm(pos_list):\n",
    "            splitted_pos = pos_string.split()\n",
    "            numbers = [self.tokenize_table[x] for x in splitted_pos]\n",
    "            if one_hot_encode:\n",
    "                yield [y for x in numbers for y in self._one_hot_encode(x)]\n",
    "            else: \n",
    "                yield numbers\n",
    "    \n",
    "    def _one_hot_encode(self, number):\n",
    "        return [1 if i == number else 0 for i in range(18)]\n",
    "\n",
    "    def one_hot_decode(self, encoded):\n",
    "        for i in range(len(encoded)):\n",
    "            if encoded[i] == 1:\n",
    "                yield i % 18\n",
    "\n",
    "tokenizer = NutidsrTokenizer()\n",
    "print(\"Tokenizing train...\")\n",
    "x_train_tokenized = list(tokenizer(X_train, one_hot_encode=True))\n",
    "print(\"Tokenizing test...\")\n",
    "x_test_tokenized = list(tokenizer(X_test, one_hot_encode=True))\n",
    "print(\"Done Tokenizing.\")"
   ]
  },
  {
   "cell_type": "code",
   "execution_count": 11,
   "metadata": {},
   "outputs": [],
   "source": [
    "class NutidsrModel(nn.Module):\n",
    "    def __init__(self) -> None:\n",
    "        super(NutidsrModel, self).__init__()\n",
    "        number_of_unique_pos = 18\n",
    "        number_of_pos_including_padding = 21\n",
    "        self.l1 = nn.Linear(number_of_pos_including_padding*number_of_unique_pos, 1024)\n",
    "        self.l2 = nn.Linear(1024, 2048)\n",
    "        self.l3 = nn.Linear(2048, 2048)\n",
    "        self.l4 = nn.Linear(2048, 512)\n",
    "        self.l5 = nn.Linear(512, 128)\n",
    "        self.l6 = nn.Linear(128, 1)\n",
    "        self.dropout1 = nn.Dropout(0.2)\n",
    "        self.dropout2 = nn.Dropout(0.2)\n",
    "        self.dropout3 = nn.Dropout(0.2)\n",
    "        self.dropout4 = nn.Dropout(0.2)\n",
    "        self.dropout5 = nn.Dropout(0.2)\n",
    "        self.activation = nn.Tanh()\n",
    "        self.sigmoid = nn.Sigmoid()\n",
    "\n",
    "    def forward(self, x):\n",
    "        x = self.l1(x)\n",
    "        x = self.activation(x)\n",
    "        x = self.dropout1(x)\n",
    "        x = self.l2(x)\n",
    "        x = self.activation(x)\n",
    "        x = self.dropout2(x)\n",
    "        x = self.l3(x)\n",
    "        x = self.activation(x)\n",
    "        x = self.dropout3(x)\n",
    "        x = self.l4(x)\n",
    "        x = self.sigmoid(x)\n",
    "        x = self.dropout4(x)\n",
    "        x = self.l5(x)\n",
    "        x = self.sigmoid(x)\n",
    "        x = self.dropout5(x)\n",
    "        x = self.l6(x)\n",
    "        x = self.sigmoid(x)\n",
    "        return x"
   ]
  },
  {
   "cell_type": "code",
   "execution_count": 12,
   "metadata": {},
   "outputs": [
    {
     "name": "stdout",
     "output_type": "stream",
     "text": [
      "Training model...\n",
      "INFO: Epochs:  3 . Batch size:  128 . Steps pr. epoch:  13413 . Eval steps:  1490\n",
      "Total training steps:  40239\n",
      "Number of parameters:  11522\n"
     ]
    }
   ],
   "source": [
    "EPOCHS, BATCH_SIZE = 3, 128\n",
    "\n",
    "model = NutidsrModel()\n",
    "\n",
    "## LOAD MODEL ##\n",
    "# model.load_state_dict(torch.load(PATH))\n",
    "##            ## \n",
    "optimizer = torch.optim.Adam(model.parameters(),lr=0.0001, weight_decay=0.0001) #, betas = (0.5, 0.999))\n",
    "device = \"cpu\"\n",
    "loss_fn = nn.BCELoss()\n",
    "torch.device(device)\n",
    "model.to(device)\n",
    "n_steps = len(x_train_tokenized) // BATCH_SIZE\n",
    "eval_steps = len(x_test_tokenized) // BATCH_SIZE\n",
    "\n",
    "print(\"Training model...\")\n",
    "print(\"INFO: Epochs: \", EPOCHS, \". Batch size: \", BATCH_SIZE, \". Steps pr. epoch: \", n_steps, \". Eval steps: \", eval_steps)\n",
    "print(\"Total training steps: \", n_steps*EPOCHS)\n",
    "print(\"Number of parameters: \", sum([len(param) for param in model.parameters()]))"
   ]
  },
  {
   "cell_type": "code",
   "execution_count": 16,
   "metadata": {},
   "outputs": [],
   "source": [
    "def get_batch(x, y):\n",
    "    indexes = random.sample(range(len(x)), BATCH_SIZE)\n",
    "    x_batch = [x[i] for i in indexes]\n",
    "    y_batch = [y[i] for i in indexes]\n",
    "    return x_batch, y_batch\n",
    "\n",
    "def train_model(xb, yb):\n",
    "    yb = torch.tensor(yb, dtype=torch.float32)\n",
    "    optimizer.zero_grad()\n",
    "    xb = torch.tensor(xb, dtype=torch.float32)\n",
    "    output = model.forward(xb)\n",
    "    loss = loss_fn(output, yb.unsqueeze(1).float())\n",
    "    loss.backward()\n",
    "    optimizer.step()\n",
    "    return loss\n",
    "\n",
    "def test_model(eval_accuracies):\n",
    "    accuracies = []\n",
    "    for _ in tqdm(range(eval_steps)):\n",
    "        xb, yb = get_batch(x_test_tokenized, y_test)\n",
    "        xb = torch.tensor(xb, dtype=torch.float32)\n",
    "        output = list(model.forward(xb))\n",
    "        accuracy = sum([1 if to_binary(o) == y else 0 for (o,y) in zip(output, yb)])/len(output)\n",
    "        accuracies.append(accuracy)\n",
    "        del xb, yb, output, accuracy\n",
    "    eval_accuracies.append(round(sum(accuracies)/len(accuracies)*100, 2))\n",
    "    print(\"Eval accuracy: \", round(sum(accuracies)/len(accuracies)*100, 2), \"%\")\n",
    "    return eval_accuracies\n",
    "\n",
    "def to_binary(o):\n",
    "    return 1 if float(o) > 0.5 else 0\n",
    "\n",
    "def save_model(epoch):\n",
    "    os.chdir(\"/Users/lucasvilsen/Desktop/GrammatikTAK/FineTuneModels/SimpleNutidsrNN/\")\n",
    "    os.makedirs(\"simpleNNmodelsPT\", exist_ok=True)\n",
    "    torch.save(model.state_dict(), f\"simpleNNmodelsPT/model_{epoch}.pt\")"
   ]
  },
  {
   "cell_type": "code",
   "execution_count": 17,
   "metadata": {},
   "outputs": [
    {
     "name": "stdout",
     "output_type": "stream",
     "text": [
      "Accuracy before training: \n"
     ]
    },
    {
     "name": "stderr",
     "output_type": "stream",
     "text": [
      "100%|██████████| 1490/1490 [00:23<00:00, 64.46it/s]"
     ]
    },
    {
     "name": "stdout",
     "output_type": "stream",
     "text": [
      "Eval accuracy:  57.05 %\n"
     ]
    },
    {
     "name": "stderr",
     "output_type": "stream",
     "text": [
      "\n"
     ]
    }
   ],
   "source": [
    "eval_accuracy = []\n",
    "losses = []\n",
    "\n",
    "print(\"Accuracy before training: \")\n",
    "eval_accuracy = test_model(eval_accuracy)\n",
    "save_model(0)"
   ]
  },
  {
   "cell_type": "code",
   "execution_count": 18,
   "metadata": {},
   "outputs": [
    {
     "name": "stderr",
     "output_type": "stream",
     "text": [
      "  0%|          | 0/13413 [00:00<?, ?it/s]/var/folders/pl/7f1cr2657p3bnpdt3bnm_9w00000gn/T/ipykernel_95604/1218301816.py:10: UserWarning: To copy construct from a tensor, it is recommended to use sourceTensor.clone().detach() or sourceTensor.clone().detach().requires_grad_(True), rather than torch.tensor(sourceTensor).\n",
      "  xb = torch.tensor(xb, dtype=torch.float32)\n",
      "100%|██████████| 13413/13413 [11:17<00:00, 19.81it/s]\n"
     ]
    },
    {
     "name": "stdout",
     "output_type": "stream",
     "text": [
      "Done with Epoch 0\n",
      "Evaluating...\n"
     ]
    },
    {
     "name": "stderr",
     "output_type": "stream",
     "text": [
      "100%|██████████| 1490/1490 [00:16<00:00, 91.03it/s]\n"
     ]
    },
    {
     "name": "stdout",
     "output_type": "stream",
     "text": [
      "Eval accuracy:  95.76 %\n"
     ]
    },
    {
     "name": "stderr",
     "output_type": "stream",
     "text": [
      " 26%|██▌       | 3453/13413 [02:56<09:11, 18.04it/s]"
     ]
    }
   ],
   "source": [
    "for epoch in range(EPOCHS):\n",
    "    temp_losses = []\n",
    "    model.train()\n",
    "    for i in tqdm(range(n_steps)):\n",
    "        xb, yb = get_batch(x_train_tokenized, y_train)\n",
    "        xb = torch.tensor(xb)\n",
    "        loss = train_model(xb, yb)\n",
    "        temp_losses.append(float(loss))\n",
    "        if i % 3000 == 0:\n",
    "            if len(temp_losses) > 0:\n",
    "                losses.append(sum(temp_losses)/len(temp_losses))\n",
    "                # print(f\"Loss at step {i}: {sum(temp_losses)/len(temp_losses)}\")\n",
    "            temp_losses = []\n",
    "    \n",
    "    print(f\"Done with Epoch {epoch}\")\n",
    "    print(\"Evaluating...\")\n",
    "    model.eval()\n",
    "\n",
    "    eval_accuracy = test_model(eval_accuracy)\n",
    "    save_model(epoch+1)"
   ]
  },
  {
   "cell_type": "code",
   "execution_count": 10,
   "metadata": {},
   "outputs": [
    {
     "data": {
      "image/png": "[encoded data removed]",
      "text/plain": [
       "<Figure size 640x480 with 1 Axes>"
      ]
     },
     "metadata": {},
     "output_type": "display_data"
    }
   ],
   "source": [
    "import matplotlib.pyplot as plt\n",
    "plt.plot(losses)\n",
    "plt.title(\"Losses\")\n",
    "plt.show()"
   ]
  },
  {
   "cell_type": "code",
   "execution_count": 11,
   "metadata": {},
   "outputs": [
    {
     "data": {
      "image/png": "[encoded data removed]",
      "text/plain": [
       "<Figure size 640x480 with 1 Axes>"
      ]
     },
     "metadata": {},
     "output_type": "display_data"
    }
   ],
   "source": [
    "plt.plot(eval_accuracy)\n",
    "plt.title(\"Eval accuracy over time\")\n",
    "plt.show()"
   ]
  },
  {
   "cell_type": "code",
   "execution_count": null,
   "metadata": {},
   "outputs": [],
   "source": []
  }
 ],
 "metadata": {
  "kernelspec": {
   "display_name": "Python 3.11.2 64-bit",
   "language": "python",
   "name": "python3"
  },
  "language_info": {
   "codemirror_mode": {
    "name": "ipython",
    "version": 3
   },
   "file_extension": ".py",
   "mimetype": "text/x-python",
   "name": "python",
   "nbconvert_exporter": "python",
   "pygments_lexer": "ipython3",
   "version": "3.11.2"
  },
  "orig_nbformat": 4,
  "vscode": {
   "interpreter": {
    "hash": "b0fa6594d8f4cbf19f97940f81e996739fb7646882a419484c72d19e05852a7e"
   }
  }
 },
 "nbformat": 4,
 "nbformat_minor": 2
}
