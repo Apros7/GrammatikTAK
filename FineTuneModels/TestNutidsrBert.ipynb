{
 "cells": [
  {
   "cell_type": "code",
   "execution_count": 87,
   "metadata": {},
   "outputs": [],
   "source": [
    "import pandas as pd\n",
    "import os\n",
    "import torch\n",
    "from transformers import Trainer, BertTokenizer\n",
    "import numpy as np\n",
    "\n",
    "\n",
    "os.chdir(\"/Users/lucasvilsen/Desktop/GrammatikTAK/\")\n",
    "\n",
    "test_sentences_verbs = pd.read_csv(\"Datasets/nutids-r-reviewed.csv\", sep=\"|\")\n",
    "no_guess_df = pd.read_csv(\"Datasets/no_guess_df.csv\", sep=\";\")\n",
    "no_guess_lst = list(no_guess_df[\"comment_text\"].values)"
   ]
  },
  {
   "cell_type": "code",
   "execution_count": 88,
   "metadata": {},
   "outputs": [
    {
     "data": {
      "text/plain": [
       "array(['Det er ikke altid nemt at forsvare din opførsel',\n",
       "       'Mange drenge interesserer sig for fodbold'], dtype=object)"
      ]
     },
     "execution_count": 88,
     "metadata": {},
     "output_type": "execute_result"
    }
   ],
   "source": [
    "correct_sentences = test_sentences_verbs[\"correct\"].values\n",
    "correct_sentences[:2]"
   ]
  },
  {
   "cell_type": "code",
   "execution_count": 89,
   "metadata": {},
   "outputs": [],
   "source": [
    "os.chdir(\"/Users/lucasvilsen/Desktop/GrammatikTAK/Datasets/\")\n",
    "filename = \"europarl-v7.da-en.da\"\n",
    "with open(filename, \"r\", encoding=\"UTF-8\") as file:\n",
    "    lines = file.readlines()"
   ]
  },
  {
   "cell_type": "code",
   "execution_count": 90,
   "metadata": {},
   "outputs": [
    {
     "data": {
      "text/plain": [
       "['Livscyklussen, miljøbelastningen ved fremstilling af biobrændstoffer bliver nævnt.',\n",
       " 'Hvem udregner livscyklussen for traditionelle brændstoffer?']"
      ]
     },
     "execution_count": 90,
     "metadata": {},
     "output_type": "execute_result"
    }
   ],
   "source": [
    "correct_sentences = lines[300000:305000]\n",
    "correct_sentences = [line.strip(\"\\n\") for line in correct_sentences]\n",
    "correct_sentences[:2]"
   ]
  },
  {
   "cell_type": "code",
   "execution_count": 91,
   "metadata": {},
   "outputs": [
    {
     "name": "stdout",
     "output_type": "stream",
     "text": [
      "pos_caching.pkl already exists\n"
     ]
    }
   ],
   "source": [
    "os.chdir(\"/Users/lucasvilsen/Desktop/GrammatikTAK/\")\n",
    "\n",
    "import pickle\n",
    "import stanza\n",
    "from tqdm import tqdm\n",
    "\n",
    "def get_pos(x):\n",
    "    with open(\"FineTuneModels/pos_caching.pkl\", \"rb\") as f:\n",
    "        pos_list = pickle.load(f)\n",
    "    if len(pos_list) != len(x):\n",
    "        pos_list = []\n",
    "        pos_tagger = stanza.Pipeline(\"da\", processors='tokenize,pos', use_gpu=True, cache_directory='./cache', tokenize_pretokenized=True, n_process=4)\n",
    "        for sentence in tqdm(x):\n",
    "            pos = get_pos_tags(sentence, pos_tagger)\n",
    "            pos_list.append(pos)\n",
    "        print(len(pos_list))\n",
    "        print(\"Updating\")\n",
    "        with open(\"FineTuneModels/pos_caching.pkl\", \"wb\") as f:\n",
    "            pickle.dump(pos_list, f)\n",
    "        print(\"Updated\")\n",
    "    else:\n",
    "        print(\"pos_caching.pkl already exists\")\n",
    "    return pos_list\n",
    "\n",
    "def get_pos_tags(sentence, pos_tagger):\n",
    "    doc = pos_tagger(sentence)\n",
    "    features = [word.feats if word.feats else None for sentence in doc.sentences for word in sentence.words]\n",
    "    feature_dicts = turn_features_to_dicts(features)\n",
    "    results = [(word.upos, [word.start_char, word.end_char], feature_dicts[i]) for sentence in doc.sentences for i, word in enumerate(sentence.words)]\n",
    "    return results\n",
    "\n",
    "def turn_features_to_dicts(features):\n",
    "    feature_dicts = []\n",
    "    current_tense = None\n",
    "    for feature in features:\n",
    "        if feature is None:\n",
    "            feature_dicts.append({})\n",
    "            continue\n",
    "        feature_dict = {}\n",
    "        current_features = feature.split(\"|\")\n",
    "        for current_feature in current_features:\n",
    "            key, value = current_feature.split(\"=\")\n",
    "            if key == \"Tense\" and current_tense is None:\n",
    "                current_tense = value\n",
    "            feature_dict[key] = value\n",
    "        if \"Tense\" not in feature_dict and \"VerbForm\" in feature_dict and key is not None:\n",
    "            feature_dict[\"Tense\"] = \"Pres\" if current_tense is None else current_tense\n",
    "        feature_dicts.append(feature_dict)\n",
    "    return feature_dicts\n",
    "\n",
    "all_pos = get_pos(correct_sentences)"
   ]
  },
  {
   "cell_type": "code",
   "execution_count": 92,
   "metadata": {},
   "outputs": [],
   "source": [
    "os.chdir(\"/Users/lucasvilsen/Desktop/GrammatikTAK/Datasets/\")\n",
    "filename = \"europarl-v7.da-en.da\"\n",
    "with open(filename, \"r\", encoding=\"UTF-8\") as file:\n",
    "    lines = file.readlines()\n",
    "with open(\"nutids_r_bøjninger.pickle\", \"rb\") as f:\n",
    "    nutids_r_bøjninger = pickle.load(f)\n",
    "with open(\"nutids_r_stem.pickle\", \"rb\") as f:\n",
    "    nutids_r_stem = pickle.load(f)"
   ]
  },
  {
   "cell_type": "code",
   "execution_count": 101,
   "metadata": {},
   "outputs": [
    {
     "name": "stderr",
     "output_type": "stream",
     "text": [
      "100%|██████████| 5000/5000 [00:49<00:00, 101.21it/s]\n"
     ]
    }
   ],
   "source": [
    "from tqdm import tqdm\n",
    "\n",
    "testset = []\n",
    "labels = []\n",
    "\n",
    "padded_words = []\n",
    "\n",
    "padding_left = 10\n",
    "padding_right = 4\n",
    "\n",
    "def get_pos_tags(index):\n",
    "    current_pos = all_pos[index]\n",
    "    return [current_pos[i][0] for i in range(len(current_pos))]\n",
    "\n",
    "og_index = 0\n",
    "no_guess_lst_index = 0\n",
    "comma_right_before_index = 0\n",
    "\n",
    "for i in tqdm(range(len(correct_sentences))):\n",
    "    line = correct_sentences[i]\n",
    "    if len(str(line)) < 1 or str(line) == \"nan\":\n",
    "        continue\n",
    "    line = line.strip(\"\\n\")\n",
    "    true_words = line.split()\n",
    "    pos = get_pos_tags(i)\n",
    "    words = [\"<PAD>\"]*padding_left + pos + [\"<PAD>\"]*padding_right\n",
    "    true_padded_words = [\"<PAD>\"]*padding_left + true_words + [\"<PAD>\"]*padding_right\n",
    "    for i, word in enumerate(true_words):\n",
    "        try: stemmed = nutids_r_stem[word]\n",
    "        except: continue\n",
    "        if word[-1] == \"s\" or words[i+padding_left] != \"VERB\":\n",
    "            continue\n",
    "        if true_words[i-1].lower().strip() == \"og\": \n",
    "            og_index += 1\n",
    "            continue\n",
    "        if words in no_guess_lst:\n",
    "            no_guess_lst_index += 1\n",
    "            continue\n",
    "        if true_words[i-1][-1] == \",\":\n",
    "            comma_right_before_index += 1\n",
    "            continue\n",
    "        if nutids_r_bøjninger[stemmed][0] == word:\n",
    "            labels.append(1)\n",
    "        else:\n",
    "            labels.append(0)\n",
    "        testset.append(\" \".join(words[i:i+padding_left+padding_right+1]))\n",
    "        padded_words.append(\" \".join(true_padded_words[i:i+padding_left+padding_right+1]))"
   ]
  },
  {
   "cell_type": "code",
   "execution_count": 102,
   "metadata": {},
   "outputs": [
    {
     "data": {
      "text/plain": [
       "(250, 0, 220)"
      ]
     },
     "execution_count": 102,
     "metadata": {},
     "output_type": "execute_result"
    }
   ],
   "source": [
    "og_index, no_guess_lst_index, comma_right_before_index"
   ]
  },
  {
   "cell_type": "code",
   "execution_count": 103,
   "metadata": {},
   "outputs": [
    {
     "name": "stdout",
     "output_type": "stream",
     "text": [
      "Test size:  6650\n",
      "Label distribution: \n"
     ]
    },
    {
     "data": {
      "text/plain": [
       "1    3676\n",
       "0    2974\n",
       "Name: label, dtype: int64"
      ]
     },
     "execution_count": 103,
     "metadata": {},
     "output_type": "execute_result"
    }
   ],
   "source": [
    "df = pd.DataFrame(zip(testset, labels), columns=[\"comment_text\", \"label\"])\n",
    "print(\"Test size: \", len(df))\n",
    "print(\"Label distribution: \")\n",
    "df[\"label\"].value_counts()"
   ]
  },
  {
   "cell_type": "code",
   "execution_count": 104,
   "metadata": {},
   "outputs": [
    {
     "data": {
      "application/vnd.jupyter.widget-view+json": {
       "model_id": "a019a90ec0e146a28581d81793caedc2",
       "version_major": 2,
       "version_minor": 0
      },
      "text/plain": [
       "  0%|          | 0/832 [00:00<?, ?it/s]"
      ]
     },
     "metadata": {},
     "output_type": "display_data"
    }
   ],
   "source": [
    "os.chdir(\"/Users/lucasvilsen/Desktop/GrammatikTAK/\")\n",
    "model_path = \"FineTuneModels/models/nutidsrModel7-BERT\"\n",
    "model_name = \"Model 7-BERT\"\n",
    "\n",
    "class Dataset(torch.utils.data.Dataset):\n",
    "    def __init__(self, encodings, labels=None):\n",
    "        self.encodings = encodings\n",
    "        self.labels = labels\n",
    "\n",
    "    def __getitem__(self, idx):\n",
    "        item = {key: torch.tensor(val[idx]) for key, val in self.encodings.items()}\n",
    "        if self.labels:\n",
    "            item[\"labels\"] = torch.tensor(self.labels[idx])\n",
    "        return item\n",
    "\n",
    "    def __len__(self):\n",
    "        return len(self.encodings[\"input_ids\"])\n",
    "\n",
    "def load_model(path):\n",
    "    device = \"mps\"\n",
    "    torch.device(device)\n",
    "    classifier = torch.load(path, map_location=torch.device('cpu'))\n",
    "    classifier.eval()\n",
    "    classifier.to(device)\n",
    "    return Trainer(classifier)\n",
    "\n",
    "\n",
    "model = load_model(model_path)\n",
    "tokenizer = BertTokenizer.from_pretrained('Maltehb/danish-bert-botxo')\n",
    "\n",
    "def convert_dataset_to_dataloader(dataset):\n",
    "    test_dataset = Dataset(dataset)\n",
    "    return test_dataset\n",
    "\n",
    "def tokenize_sentences(sentences):\n",
    "    X_tokenized = tokenizer(sentences, padding=True, truncation=True)\n",
    "    return X_tokenized\n",
    "\n",
    "def get_predictions(dataloader):\n",
    "    raw_predictions, _, _ = model.predict(dataloader)\n",
    "    scores = torch.softmax(torch.from_numpy(raw_predictions), dim=1)\n",
    "    max_scores, final_prediction = torch.max(scores, dim=1)\n",
    "    final_prediction = np.argmax(raw_predictions, axis=1)\n",
    "    return [(p, s) for p, s in zip(final_prediction, max_scores)]\n",
    "\n",
    "\n",
    "def verbs_to_check(words, pos):\n",
    "    pos = pos\n",
    "    verbs = []\n",
    "    for i in range(len(pos)):\n",
    "        if pos[i][0] != \"VERB\":\n",
    "            verbs.append(False)\n",
    "        elif \"Tense\" not in pos[i][2].keys():\n",
    "            verbs.append(False)\n",
    "        elif pos[i][2][\"Tense\"] != \"Pres\":\n",
    "            verbs.append(False)\n",
    "        else:\n",
    "            verbs.append(True)\n",
    "    for i, bool in enumerate(verbs):\n",
    "        if not bool:\n",
    "            continue\n",
    "        word = words[i].strip(\",.!?():;\")\n",
    "        try: stemmed_verb = nutids_r_stem[word]\n",
    "        except: verbs[i] = False; continue\n",
    "    return verbs\n",
    "\n",
    "tokenized = tokenize_sentences(testset)\n",
    "dataloader = convert_dataset_to_dataloader(tokenized)\n",
    "predictions = get_predictions(dataloader)"
   ]
  },
  {
   "cell_type": "code",
   "execution_count": 106,
   "metadata": {},
   "outputs": [
    {
     "name": "stdout",
     "output_type": "stream",
     "text": [
      "  Evaluation Measure     Value\n",
      "0           Accuracy  0.985113\n",
      "1          Precision  0.989062\n",
      "2             Recall  0.983950\n",
      "3           F1 Score  0.986499\n"
     ]
    }
   ],
   "source": [
    "true_predictions = [p for (p, s) in predictions]\n",
    "true_score = [s for (p, s) in predictions]\n",
    "\n",
    "import pandas as pd\n",
    "from sklearn.metrics import accuracy_score, precision_score, recall_score, f1_score\n",
    "\n",
    "accuracy = accuracy_score(labels, true_predictions)\n",
    "precision = precision_score(labels, true_predictions)\n",
    "recall = recall_score(labels, true_predictions)\n",
    "f1 = f1_score(labels, true_predictions)\n",
    "\n",
    "data = {\n",
    "    'Evaluation Measure': ['Accuracy', 'Precision', 'Recall', 'F1 Score'],\n",
    "    'Value': [accuracy, precision, recall, f1]\n",
    "}\n",
    "df = pd.DataFrame(data)\n",
    "\n",
    "print(df)"
   ]
  },
  {
   "cell_type": "markdown",
   "metadata": {},
   "source": [
    "Accuracy before disqualifying \"og: 97.8%\n",
    "\n",
    "Accuracy after disqualifying \"og\" and before \",\" lst: 98.2%\n",
    "\n",
    "Accuracy final: 98.5%"
   ]
  },
  {
   "cell_type": "code",
   "execution_count": 107,
   "metadata": {},
   "outputs": [
    {
     "data": {
      "image/png": "[encoded data removed]",
      "text/plain": [
       "<Figure size 640x480 with 1 Axes>"
      ]
     },
     "metadata": {},
     "output_type": "display_data"
    },
    {
     "data": {
      "image/png": "[encoded data removed]",
      "text/plain": [
       "<Figure size 640x480 with 1 Axes>"
      ]
     },
     "metadata": {},
     "output_type": "display_data"
    },
    {
     "data": {
      "image/png": "[encoded data removed]",
      "text/plain": [
       "<Figure size 640x480 with 1 Axes>"
      ]
     },
     "metadata": {},
     "output_type": "display_data"
    }
   ],
   "source": [
    "import matplotlib.pyplot as plt\n",
    "\n",
    "def calculate_growth(previous, current):\n",
    "    if previous == 0:\n",
    "        return 0\n",
    "    return (current - previous) / previous * 100\n",
    "\n",
    "def test_cutoff(value):\n",
    "    new_predictions = [p if s > value else None for (p, s) in predictions]\n",
    "    true = sum([1 if p == t else 0 for (p, t) in zip(new_predictions, labels)])\n",
    "    no_guess = sum([1 if p is None else 0 for p in new_predictions])\n",
    "    wrong = sum([1 if p != t and p is not None else 0 for (p, t) in zip(new_predictions, labels)])\n",
    "    return true/len(labels), no_guess/len(labels), wrong/len(labels)\n",
    "\n",
    "def test_all_values():\n",
    "    values = range(900, 1000)\n",
    "    trues, no_guesss, wrongs = [], [], []\n",
    "    for value in values:\n",
    "        true, no_guess, wrong = test_cutoff(value/1000)\n",
    "        trues.append(true)\n",
    "        no_guesss.append(no_guess)\n",
    "        wrongs.append(wrong)\n",
    "\n",
    "    plt.plot(values, trues, label='True Predictions')\n",
    "    plt.plot(values, no_guesss, label='No Guess')\n",
    "    plt.plot(values, wrongs, label='Wrong Predictions')\n",
    "\n",
    "    plt.xlabel('Threshold Value')\n",
    "    plt.ylabel('Count')\n",
    "    plt.title('Counts vs. Threshold Value')\n",
    "    plt.legend()\n",
    "    plt.grid(True)\n",
    "    plt.show()\n",
    "\n",
    "    previous_true = 0\n",
    "    previous_no_guess = 0\n",
    "    previous_wrong = 0\n",
    "\n",
    "    trues, no_guesss, wrongs = [], [], []\n",
    "\n",
    "    for value in values:\n",
    "        true, no_guess, wrong = test_cutoff(value/1000)\n",
    "        true_growth = calculate_growth(previous_true, true)\n",
    "        no_guess_growth = calculate_growth(previous_no_guess, no_guess)\n",
    "        wrong_growth = calculate_growth(previous_wrong, wrong)\n",
    "\n",
    "        trues.append(true_growth)\n",
    "        no_guesss.append(no_guess_growth)\n",
    "        wrongs.append(wrong_growth)\n",
    "\n",
    "        previous_true = true\n",
    "        previous_no_guess = no_guess\n",
    "        previous_wrong = wrong\n",
    "\n",
    "    plt.plot(values, trues, label='True Predictions')\n",
    "    plt.xlabel('Threshold Value')\n",
    "    plt.ylabel('Relative Growth (%)')\n",
    "    plt.title('Relative growth')\n",
    "    plt.legend()\n",
    "    plt.grid(True)\n",
    "    plt.show()\n",
    "\n",
    "    plt.plot(values, no_guesss, label='No Guess')\n",
    "    plt.plot(values, wrongs, label='Wrong Predictions')\n",
    "\n",
    "    plt.xlabel('Threshold Value')\n",
    "    plt.ylabel('Relative Growth (%)')\n",
    "    plt.title('Relative growth')\n",
    "    plt.legend()\n",
    "    plt.grid(True)\n",
    "    plt.show()\n",
    "\n",
    "test_all_values()\n",
    "    \n"
   ]
  },
  {
   "cell_type": "code",
   "execution_count": 108,
   "metadata": {},
   "outputs": [
    {
     "name": "stdout",
     "output_type": "stream",
     "text": [
      "|   Cutoff |   Correct (%) |   No Guess (%) |   Wrong (%) |\n",
      "|---------:|--------------:|---------------:|------------:|\n",
      "|     0.5  |         98.51 |           0    |        1.49 |\n",
      "|     0.7  |         98.39 |           0.21 |        1.4  |\n",
      "|     0.8  |         98.21 |           0.53 |        1.26 |\n",
      "|     0.9  |         97.67 |           1.37 |        0.96 |\n",
      "|     0.95 |         97.01 |           2.29 |        0.71 |\n",
      "|     0.98 |         95.43 |           4.15 |        0.42 |\n",
      "|     0.99 |         93.56 |           6.11 |        0.33 |\n"
     ]
    }
   ],
   "source": [
    "from tabulate import tabulate\n",
    "\n",
    "table_data = [\n",
    "    (\"0.50\", test_cutoff(0.50)),\n",
    "    (\"0.70\", test_cutoff(0.70)),\n",
    "    (\"0.80\", test_cutoff(0.80)),\n",
    "    (\"0.90\", test_cutoff(0.90)),\n",
    "    (\"0.95\", test_cutoff(0.95)),\n",
    "    (\"0.98\", test_cutoff(0.98)),\n",
    "    (\"0.99\", test_cutoff(0.99))\n",
    "]\n",
    "\n",
    "for i in range(len(table_data)):\n",
    "    _1 = round(table_data[i][1][0]*100, 2)\n",
    "    _2 = round(table_data[i][1][1]*100, 2)\n",
    "    _3 = round(table_data[i][1][2]*100, 2)\n",
    "    table_data[i] = (table_data[i][0], (_1, _2, _3))\n",
    "\n",
    "# Find the highest accuracy, lowest wrong, and lowest no-guess percentages\n",
    "highest_accuracy = max(table_data, key=lambda x: x[1][0])\n",
    "lowest_wrong = min(table_data, key=lambda x: x[1][2])\n",
    "lowest_no_guess = min(table_data, key=lambda x: x[1][1])\n",
    "\n",
    "# Create the table\n",
    "table = []\n",
    "headers = [\"Cutoff\", \"Correct (%)\", \"No Guess (%)\", \"Wrong (%)\"]\n",
    "\n",
    "for data in table_data:\n",
    "    row = [data[0]] + list(data[1])\n",
    "    table.append(row)\n",
    "\n",
    "table_str = tabulate(table, headers, tablefmt=\"pipe\")\n",
    "\n",
    "# Print the table\n",
    "print(table_str)"
   ]
  },
  {
   "cell_type": "markdown",
   "metadata": {},
   "source": [
    "## Error display:"
   ]
  },
  {
   "cell_type": "code",
   "execution_count": 109,
   "metadata": {},
   "outputs": [
    {
     "name": "stdout",
     "output_type": "stream",
     "text": [
      "vi kan i det mindste i et vist omfang selv betjene og sikre vores brændstofmarked\n",
      "\n",
      "<PAD> <PAD> <PAD> <PAD> <PAD> <PAD> <PAD> <PAD> <PAD> Jeg så gerne, at kontoret for\n",
      "\n",
      "<PAD> <PAD> <PAD> <PAD> <PAD> <PAD> <PAD> <PAD> <PAD> Jeg så gerne, at den skabelon\n",
      "\n",
      "min appel til Rådet, som har slået på subsidiariteten - løse dem gennem tilsvarende initiativer\n",
      "\n",
      "der udsletter grænserne, efterlader os uden dem, og praktisk talt udsletter biografsalene. <PAD> <PAD> <PAD>\n",
      "\n",
      "sektorer, som jeg lige har nævnt, ikke på nuværende tidspunkt acceptere forslaget om at udvide\n",
      "\n",
      "at det er fint at indgå forpligtelser, at ansætte for få folk til at sikre\n",
      "\n",
      "heraf, give Kommissionen skylden for det og ved årets udgang få et par milliarder tilbage.\n",
      "\n",
      "enighed om, at man i første omgang lader dette punkt stå åbent, ikke mindst så\n",
      "\n",
      "<PAD> <PAD> <PAD> <PAD> <PAD> <PAD> <PAD> <PAD> 3: Jeg takker fru Buitenweg og hr.\n",
      "\n",
      "for også at sige dette i Danmark i går - viser åbenhed over for Europa-Parlamentets\n",
      "\n",
      "at stille budgetmidler til rådighed på dette område og endelig finder en retning, som Rådet\n",
      "\n",
      "for de tre områder, der er til drøftelse, og Rådet overhører det hele. <PAD> <PAD>\n",
      "\n",
      "<PAD> <PAD> <PAD> <PAD> <PAD> <PAD> <PAD> <PAD> Lad Unionen indskrænke sig til de politiske\n",
      "\n",
      "lofter, der bl.a. blev fastsat i Edinburgh - og så stå i denne situation. <PAD>\n",
      "\n",
      "ser på et budgetårs forløb, kan man nogle gange godt spørge sig selv, om budgetmyndighedernes\n",
      "\n",
      "af Budgetudvalget, men også kollegerne i fagudvalgene - hele året sørge for og støtte Kommissionen\n",
      "\n",
      "<PAD> <PAD> Og det er muligt, hvis vi lader os lede af vores sunde fornuft.\n",
      "\n",
      "Europæiske Råds møde i Bruxelles i oktober inden for EU nå til enighed om en\n",
      "\n",
      "Derfor er samordningen af og enigheden om de rationaliseringsbestræbelser, der foregår i alle institutionerne, af\n",
      "\n",
      "gør, som vi har gjort igennem mange år, og ikke tillader afbrydelser på grund af\n",
      "\n",
      "været nogle af, også efter min gruppes mening - men tvinger mig til først og\n",
      "\n",
      "<PAD> <PAD> <PAD> <PAD> <PAD> <PAD> <PAD> <PAD> Hvis det løfte realiseres, vil Spanien kunne\n",
      "\n",
      "De har ignoreret virkeligheden, er utilgivelig i politik, og derfor afspejler den større euroskepticisme og\n",
      "\n",
      "har været upåagtet, men som fortjener at blive fremhævet. Det drejer sig om punkt 6,\n",
      "\n",
      "skridt i den rigtige retning at lade Det Europæiske Råd koncentrere sig om hovedopgaven, nemlig\n",
      "\n",
      "<PAD> <PAD> <PAD> <PAD> <PAD> I Sevilla lod regeringscheferne sig slæbe lidt med i en\n",
      "\n",
      "uhensigtsmæssige og pegede i den forkerte retning, og i stedet træffe praktiske og operationelle afgørelser.\n",
      "\n",
      "om spørgsmål, som er helt afgørende for Unionens fremtid. Det være sig den nødvendige reform\n",
      "\n",
      "forbindelse med Nice-traktaten og - som kolleger har sagt - vinde det irske folks hjerte\n",
      "\n",
      "et halvår med behandling, med simpel forvaltning eller passiv laden stå til. <PAD> <PAD> <PAD>\n",
      "\n",
      "Kommissionen bestemt ikke vil nedlægge Generaldirektoratet for Udvikling, men tværtimod styrke det. <PAD> <PAD> <PAD>\n",
      "\n",
      "weekenden, ligesom der er mulighed for at benytte vandvejene, det være sig have eller kanaler.\n",
      "\n",
      "udtalt mig til fordel for at lade bestemmelserne om kørselsforbud falde ind under medlemsstaternes kompetence.\n",
      "\n",
      "i weekender og på søn- og helligdage, for allerede nu resulterer de stigende trafikmængder i\n",
      "\n",
      "<PAD> <PAD> <PAD> <PAD> Han var sømand, og i nat så jeg ham i en\n",
      "\n",
      "uden at der samtidig sker en forhøjelse af budgetterne, nemt give anledning til skuffelser og\n",
      "\n",
      "faktisk ikke nødvendigt med EU-regler, for det skal medlemsstaterne selv kunne klare. <PAD> <PAD> <PAD>\n",
      "\n",
      "<PAD> For lidt siden lukkede jeg dog øjnene, og da så jeg, at han var\n",
      "\n",
      "<PAD> <PAD> <PAD> <PAD> <PAD> På det tidspunkt, hvor jeg så ham i min drøm,\n",
      "\n",
      "om euroens appreciering vil bidrage til at lette inflationspresset, fortsat overvåge alle relevante udviklingstendenser nøje\n",
      "\n",
      "2002, der lige er blevet godkendt i Sevilla, lægger med rette vægten på behovet for\n",
      "\n",
      "kan agere som katalysator for godt samarbejde, men i princippet henhører tilsyn under subsidiaritetsprincippet. <PAD>\n",
      "\n",
      "manipulerer med gener, er resultatet sorter og arter, som ikke opstår i naturen af sig\n",
      "\n",
      "virkelig se dem som myndige forbrugere og under ingen omstændigheder umyndiggøre dem. <PAD> <PAD> <PAD>\n",
      "\n",
      "os fra ethvert spektakulært og medierettet initiativ og i stedet støtte en pragmatisk og videnskabelig\n",
      "\n",
      "<PAD> <PAD> <PAD> <PAD> Jeg vil endnu en gang gerne minde om debatten om nonfoodforordningen\n",
      "\n",
      "formand, den dominerende holdning i Miljøudvalget - ikke mindst takket være vores ordførers glimrende arbejde\n",
      "\n",
      "med analytisk sporbart DNA eller modificerede proteiner - og således vende op og ned på\n",
      "\n",
      "to betænkninger, som vi i dag har til behandling, kun skaber problemer omkring fødevaresikkerhed. <PAD>\n",
      "\n",
      "fremtiden er det sandsynligt, at flere og flere foderstoffer vil hidrører fra genetisk modificerede afgrøder.\n",
      "\n",
      "ordentlig og praktisk ordning om sporbarhed og mærkning af GMO'er gå fra os. <PAD> <PAD>\n",
      "\n",
      "<PAD> <PAD> <PAD> <PAD> Kommissionens strategi om at fremme CSR bygger på virksomhedsbestræbelsernes frivillige karakter.\n",
      "\n",
      "De europæiske instanser med beføjelser på menneskerettighedsområdet har godkendt meget vide grænser for varetægtsfængsling, helt\n",
      "\n",
      "medlemsstat til en anden, hvad kan en individuel forbruger så gøre uden at måtte gennem\n",
      "\n",
      "drik, som tilsættes ætylalkohol, i sin præsentation på ingen måde føre den generelle betegnelse frugtbrændevin.\n",
      "\n",
      "om at undersøge sagen nærmere og især også ved lejlighed meddele mig, hvilke specialiteter der\n",
      "\n",
      "til at holde fanen højt nogle måneder og derfor ikke skiller sig af med de\n",
      "\n",
      "der bliver tale om en langvarig konflikt med USA? Eller tror De på, at EU's\n",
      "\n",
      "artikel 30, ændre artikel 31, dekretere stop for tvistbilæggelse eller fastlægge en ordning med afvigelser.\n",
      "\n",
      "En ændring af artikel 31 ville set fra den synsvinkel have en større fremtid end\n",
      "\n",
      "fiskeristop eller træffer foranstaltninger til bevarelse af bestandene, og desuden åbner mulighed for, at enorme\n",
      "\n",
      "<PAD> <PAD> Som De ved, lod det sig desværre ikke gøre at forny denne aftale,\n",
      "\n",
      "fællesskabsflåden arbejder på at bevare ressourcerne - er retfærdig? Eller mener De, at det er\n",
      "\n",
      "er, at produkters genetisk modificerede oprindelse er noget, der virkelig betyder noget for et stort\n",
      "\n",
      "Det er en vigtig sondring, som jeg gerne ser Parlamentet tage til efterretning. <PAD> <PAD>\n",
      "\n",
      "lykkelige over, for det var på høje tid, at Europa så at sige \"behandlede sin\n",
      "\n",
      "<PAD> <PAD> <PAD> <PAD> <PAD> Nu er dommen faldet, budgettet bliver således på 312 millioner\n",
      "\n",
      "at harmonisere tiltagene uden at harmonisere de bagvedliggende filosofier, aldrig kunne lykkes. <PAD> <PAD> <PAD>\n",
      "\n",
      "følgende spørgsmål: Skal tilvejebringelsen af information være en envejsaktivitet eller mener vi, at ansvarlige borgere\n",
      "\n",
      "det store og hele deles af Rådet - og ikke betragte det foreliggende forslag som\n",
      "\n",
      "man ikke kan blive gravid ved det første samleje, eller får deres seksuelle opdragelse gennem\n",
      "\n",
      "ret til at bestemme over en andens liv. Anderledeslydende krav modsiger ånden i vores humanistiske\n",
      "\n",
      "<PAD> <PAD> <PAD> Ingen har lyst til at abortere, ingen ønsker en abort for nogen\n",
      "\n",
      "fortsat er kvinderne, som i sidste ende bestemmer, hvad der sker med deres krop. <PAD>\n",
      "\n",
      "var sammen med et medlem af den russiske Duma, som kunne meddele, at efter at\n",
      "\n",
      "i denne betænkning foreslår, at medlemslandene indfører, vil altså ikke føre til flere, men til\n",
      "\n",
      "ved opfordringer og vejledninger for ikke at sige afgørelser - behandler emner, der ikke ligger\n",
      "\n",
      "at legalisere aborter eller at undlade at retsforfølge kvinder, der får foretaget illegal svangerskabsafbrydelse, eller\n",
      "\n",
      "meget vigtigt, at denne betænkning bliver vedtaget, og vi at mærker Europas solidaritet i en\n",
      "\n",
      "<PAD> <PAD> <PAD> <PAD> <PAD> <PAD> Det er det, der deler os, ikke den persons\n",
      "\n",
      "er de konservative og religiøse kredses aktioner, der for tiden oversvømmer os med forskellige tryksager\n",
      "\n",
      "EU-institutionerne, at de skal overtage medlemsstaternes kompetencer og ansvar, men anbefaler dem en forebyggelsespolitik -\n",
      "\n",
      "hvor vi skal definere disse rettigheder, og i den retning støtter WHO's opfattelse af sundhed\n",
      "\n",
      "kompetencer mellem Fællesskabet og medlemsstaterne, og vi bør derfor selv gennemføre det, vi har vedtaget.\n",
      "\n",
      "naturligvis i ofte meget vanskelige situationer i det virkelige liv bevæge sig fra at absorbere\n",
      "\n",
      "<PAD> <PAD> <PAD> <PAD> <PAD> Det er offentlige penge, skatteyderne finansierer forskningsaktiviteter. <PAD> <PAD> <PAD>\n",
      "\n",
      "<PAD> <PAD> <PAD> <PAD> <PAD> <PAD> <PAD> <PAD> <PAD> Ansvar så ud til at være\n",
      "\n",
      "<PAD> <PAD> <PAD> <PAD> <PAD> Jeg vil gerne ligesom De understrege det spanske formandskab og\n",
      "\n",
      "vise \"best practice\" og i virkeligheden kun opfordre, men ikke gå direkte ind. <PAD> <PAD>\n",
      "\n",
      "så afgjort - hvilket vi gør med denne meddelelse - fortsætte med at anmode medlemsstaterne\n",
      "\n",
      "de mål, som vi har centralt for arbejdsmarkedspolitikken, men også lytte til de problemer der\n",
      "\n",
      "<PAD> <PAD> <PAD> Et andet element er den støtte, Kommissionen giver til de lokale aktører,\n",
      "\n",
      "sociale spørgsmål ikke bliver misbrugt til protektionistiske formål eller ikke tjener som undskyldning for øget\n",
      "\n",
      "<PAD> <PAD> <PAD> Desværre er det ikke alle lande, der deler vores syn på arbejdstagerrettighederne.\n",
      "\n",
      "et globalt forbillede og som en fremmende faktor og også gør brug af de internationale\n",
      "\n",
      "en stakkels arbejdstager i et land i den tredje verden gøre en arbejdstager i et\n",
      "\n",
      "anbefalede foranstaltninger ikke gælder for nye maskiner og kun undtagelsesvis gælder for ældre apparater. <PAD>\n",
      "\n",
      "med dette tiltag om forfejlet udvidelse af definitionen af racisme frygte et tankepoliti på europæisk\n"
     ]
    }
   ],
   "source": [
    "errors_index = [True if p != t else False for (p, t) in zip(true_predictions, labels)]\n",
    "errors = [padded_words[i] for i in range(len(padded_words)) if errors_index[i]]\n",
    "print(*errors, sep=\"\\n\\n\")"
   ]
  },
  {
   "cell_type": "code",
   "execution_count": 112,
   "metadata": {},
   "outputs": [
    {
     "data": {
      "text/plain": [
       "['så', 'sår']"
      ]
     },
     "execution_count": 112,
     "metadata": {},
     "output_type": "execute_result"
    }
   ],
   "source": [
    "stemmed = nutids_r_stem[\"så\"]\n",
    "nutids_r_bøjninger[stemmed]"
   ]
  },
  {
   "cell_type": "code",
   "execution_count": null,
   "metadata": {},
   "outputs": [],
   "source": []
  }
 ],
 "metadata": {
  "kernelspec": {
   "display_name": "Python 3.11.2 64-bit",
   "language": "python",
   "name": "python3"
  },
  "language_info": {
   "codemirror_mode": {
    "name": "ipython",
    "version": 3
   },
   "file_extension": ".py",
   "mimetype": "text/x-python",
   "name": "python",
   "nbconvert_exporter": "python",
   "pygments_lexer": "ipython3",
   "version": "3.11.2"
  },
  "orig_nbformat": 4,
  "vscode": {
   "interpreter": {
    "hash": "b0fa6594d8f4cbf19f97940f81e996739fb7646882a419484c72d19e05852a7e"
   }
  }
 },
 "nbformat": 4,
 "nbformat_minor": 2
}
