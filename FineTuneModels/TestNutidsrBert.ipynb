{
 "cells": [
  {
   "cell_type": "code",
   "execution_count": 17,
   "metadata": {},
   "outputs": [],
   "source": [
    "import pandas as pd\n",
    "import os\n",
    "import torch\n",
    "from transformers import Trainer, BertTokenizer\n",
    "import numpy as np\n",
    "\n",
    "\n",
    "os.chdir(\"/Users/lucasvilsen/Desktop/GrammatikTAK/\")\n",
    "\n",
    "test_sentences_verbs = pd.read_csv(\"Datasets/nutids-r-reviewed.csv\", sep=\"|\")\n",
    "no_guess_df = pd.read_csv(\"Datasets/no_guess_df.csv\", sep=\";\")\n",
    "no_guess_lst = list(no_guess_df[\"comment_text\"].values)"
   ]
  },
  {
   "cell_type": "code",
   "execution_count": 18,
   "metadata": {},
   "outputs": [
    {
     "data": {
      "text/plain": [
       "array(['Det er ikke altid nemt at forsvare din opførsel',\n",
       "       'Mange drenge interesserer sig for fodbold'], dtype=object)"
      ]
     },
     "execution_count": 18,
     "metadata": {},
     "output_type": "execute_result"
    }
   ],
   "source": [
    "correct_sentences = test_sentences_verbs[\"correct\"].values\n",
    "correct_sentences[:2]"
   ]
  },
  {
   "cell_type": "markdown",
   "metadata": {},
   "source": [
    "---"
   ]
  },
  {
   "cell_type": "code",
   "execution_count": 19,
   "metadata": {},
   "outputs": [],
   "source": [
    "os.chdir(\"/Users/lucasvilsen/Desktop/GrammatikTAK/Datasets/\")\n",
    "filename = \"europarl-v7.da-en.da\"\n",
    "with open(filename, \"r\", encoding=\"UTF-8\") as file:\n",
    "    lines = file.readlines()"
   ]
  },
  {
   "cell_type": "code",
   "execution_count": 20,
   "metadata": {},
   "outputs": [
    {
     "data": {
      "text/plain": [
       "['Partnerlandene er bestemt bedst i stand til at vælge den mest effektive, retfærdige og gennemsigtige ressourcefordeling blandt de forskellige initiativer.',\n",
       " 'I årenes løb har Kommissionen til stadighed givet flere midler til bekæmpelse af hiv/aids i alle udviklingslande og specielt i Afrika, hvor den yder bistand via budgetstøtte til partnerlande i deres bestræbelser på at tage fat på de strukturelle faktorer, der ligger til grund for hiv-epidemien, som f.eks. sundhedsreformer og krisen inden for menneskelige ressourcer i sundhedssektoren.']"
      ]
     },
     "execution_count": 20,
     "metadata": {},
     "output_type": "execute_result"
    }
   ],
   "source": [
    "correct_sentences = lines[800000:805000]\n",
    "correct_sentences = [line.strip(\"\\n\") for line in correct_sentences]\n",
    "correct_sentences[:2]"
   ]
  },
  {
   "cell_type": "markdown",
   "metadata": {},
   "source": [
    "---"
   ]
  },
  {
   "cell_type": "code",
   "execution_count": 21,
   "metadata": {},
   "outputs": [
    {
     "name": "stderr",
     "output_type": "stream",
     "text": [
      "2023-05-24 22:33:21 INFO: Checking for updates to resources.json in case models have been updated.  Note: this behavior can be turned off with download_method=None or download_method=DownloadMethod.REUSE_RESOURCES\n"
     ]
    },
    {
     "data": {
      "application/vnd.jupyter.widget-view+json": {
       "model_id": "23fa51dacb1c4e279d468026c26e0b4b",
       "version_major": 2,
       "version_minor": 0
      },
      "text/plain": [
       "Downloading https://raw.githubusercontent.com/stanfordnlp/stanza-resources/main/resources_1.5.0.json:   0%|   …"
      ]
     },
     "metadata": {},
     "output_type": "display_data"
    },
    {
     "name": "stderr",
     "output_type": "stream",
     "text": [
      "2023-05-24 22:33:22 INFO: Loading these models for language: da (Danish):\n",
      "=======================\n",
      "| Processor | Package |\n",
      "-----------------------\n",
      "| tokenize  | ddt     |\n",
      "| pos       | ddt     |\n",
      "=======================\n",
      "\n",
      "2023-05-24 22:33:22 WARNING: GPU requested, but is not available!\n",
      "2023-05-24 22:33:22 INFO: Using device: cpu\n",
      "2023-05-24 22:33:22 INFO: Loading: tokenize\n",
      "2023-05-24 22:33:22 INFO: Loading: pos\n",
      "2023-05-24 22:33:22 INFO: Done loading processors!\n",
      "100%|██████████| 5000/5000 [14:55<00:00,  5.58it/s]\n"
     ]
    },
    {
     "name": "stdout",
     "output_type": "stream",
     "text": [
      "5000\n",
      "Updating\n",
      "Updated\n"
     ]
    }
   ],
   "source": [
    "os.chdir(\"/Users/lucasvilsen/Desktop/GrammatikTAK/\")\n",
    "\n",
    "import pickle\n",
    "import stanza\n",
    "from tqdm import tqdm\n",
    "\n",
    "def get_pos(x):\n",
    "    with open(\"FineTuneModels/pos_caching.pkl\", \"rb\") as f:\n",
    "        pos_list = pickle.load(f)\n",
    "    if len(pos_list) != len(x):\n",
    "        pos_list = []\n",
    "        pos_tagger = stanza.Pipeline(\"da\", processors='tokenize,pos', use_gpu=True, cache_directory='./cache', tokenize_pretokenized=True, n_process=4)\n",
    "        for sentence in tqdm(x):\n",
    "            pos = get_pos_tags(sentence, pos_tagger)\n",
    "            pos_list.append(pos)\n",
    "        print(len(pos_list))\n",
    "        print(\"Updating\")\n",
    "        with open(\"FineTuneModels/pos_caching.pkl\", \"wb\") as f:\n",
    "            pickle.dump(pos_list, f)\n",
    "        print(\"Updated\")\n",
    "    else:\n",
    "        print(\"pos_caching.pkl already exists\")\n",
    "    return pos_list\n",
    "\n",
    "def get_pos_tags(sentence, pos_tagger):\n",
    "    doc = pos_tagger(sentence)\n",
    "    features = [word.feats if word.feats else None for sentence in doc.sentences for word in sentence.words]\n",
    "    feature_dicts = turn_features_to_dicts(features)\n",
    "    results = [(word.upos, [word.start_char, word.end_char], feature_dicts[i]) for sentence in doc.sentences for i, word in enumerate(sentence.words)]\n",
    "    return results\n",
    "\n",
    "def turn_features_to_dicts(features):\n",
    "    feature_dicts = []\n",
    "    current_tense = None\n",
    "    for feature in features:\n",
    "        if feature is None:\n",
    "            feature_dicts.append({})\n",
    "            continue\n",
    "        feature_dict = {}\n",
    "        current_features = feature.split(\"|\")\n",
    "        for current_feature in current_features:\n",
    "            key, value = current_feature.split(\"=\")\n",
    "            if key == \"Tense\" and current_tense is None:\n",
    "                current_tense = value\n",
    "            feature_dict[key] = value\n",
    "        if \"Tense\" not in feature_dict and \"VerbForm\" in feature_dict and key is not None:\n",
    "            feature_dict[\"Tense\"] = \"Pres\" if current_tense is None else current_tense\n",
    "        feature_dicts.append(feature_dict)\n",
    "    return feature_dicts\n",
    "\n",
    "all_pos = get_pos(correct_sentences)"
   ]
  },
  {
   "cell_type": "code",
   "execution_count": 22,
   "metadata": {},
   "outputs": [],
   "source": [
    "os.chdir(\"/Users/lucasvilsen/Desktop/GrammatikTAK/Datasets/\")\n",
    "filename = \"europarl-v7.da-en.da\"\n",
    "with open(filename, \"r\", encoding=\"UTF-8\") as file:\n",
    "    lines = file.readlines()\n",
    "with open(\"nutids_r_bøjninger.pickle\", \"rb\") as f:\n",
    "    nutids_r_bøjninger = pickle.load(f)\n",
    "with open(\"nutids_r_stem.pickle\", \"rb\") as f:\n",
    "    nutids_r_stem = pickle.load(f)"
   ]
  },
  {
   "cell_type": "code",
   "execution_count": 23,
   "metadata": {},
   "outputs": [
    {
     "name": "stderr",
     "output_type": "stream",
     "text": [
      "100%|██████████| 5000/5000 [00:42<00:00, 116.62it/s]\n"
     ]
    }
   ],
   "source": [
    "from tqdm import tqdm\n",
    "\n",
    "testset = []\n",
    "labels = []\n",
    "\n",
    "padded_words = []\n",
    "\n",
    "padding_left = 15\n",
    "padding_right = 5\n",
    "\n",
    "def get_pos_tags(index):\n",
    "    current_pos = all_pos[index]\n",
    "    return [current_pos[i][0] for i in range(len(current_pos))]\n",
    "\n",
    "og_index = 0\n",
    "no_guess_lst_index = 0\n",
    "comma_right_before_index = 0\n",
    "\n",
    "for i in tqdm(range(len(correct_sentences))):\n",
    "    line = correct_sentences[i]\n",
    "    if len(str(line)) < 1 or str(line) == \"nan\":\n",
    "        continue\n",
    "    line = line.strip(\"\\n\")\n",
    "    true_words = line.split()\n",
    "    pos = get_pos_tags(i)\n",
    "    words = [\"<PAD>\"]*padding_left + pos + [\"<PAD>\"]*padding_right\n",
    "    true_padded_words = [\"<PAD>\"]*padding_left + true_words + [\"<PAD>\"]*padding_right\n",
    "    for i, word in enumerate(true_words):\n",
    "        try: stemmed = nutids_r_stem[word]\n",
    "        except: continue\n",
    "        if word[-1] == \"s\" or words[i+padding_left] != \"VERB\":\n",
    "            continue\n",
    "        if true_words[i-1].lower().strip() == \"og\": \n",
    "            og_index += 1\n",
    "            continue\n",
    "        if words in no_guess_lst:\n",
    "            no_guess_lst_index += 1\n",
    "            continue\n",
    "        if true_words[i-1][-1] == \",\":\n",
    "            comma_right_before_index += 1\n",
    "            continue\n",
    "        if nutids_r_bøjninger[stemmed][0] == word:\n",
    "            labels.append(1)\n",
    "        else:\n",
    "            labels.append(0)\n",
    "        testset.append(\" \".join(words[i:i+padding_left+padding_right+1]))\n",
    "        padded_words.append(\" \".join(true_padded_words[i:i+padding_left+padding_right+1]))"
   ]
  },
  {
   "cell_type": "code",
   "execution_count": 24,
   "metadata": {},
   "outputs": [
    {
     "data": {
      "text/plain": [
       "(269, 0, 150)"
      ]
     },
     "execution_count": 24,
     "metadata": {},
     "output_type": "execute_result"
    }
   ],
   "source": [
    "og_index, no_guess_lst_index, comma_right_before_index"
   ]
  },
  {
   "cell_type": "code",
   "execution_count": 25,
   "metadata": {},
   "outputs": [
    {
     "name": "stdout",
     "output_type": "stream",
     "text": [
      "Test size:  5860\n",
      "Label distribution: \n"
     ]
    },
    {
     "data": {
      "text/plain": [
       "1    3516\n",
       "0    2344\n",
       "Name: label, dtype: int64"
      ]
     },
     "execution_count": 25,
     "metadata": {},
     "output_type": "execute_result"
    }
   ],
   "source": [
    "df = pd.DataFrame(zip(testset, labels), columns=[\"comment_text\", \"label\"])\n",
    "print(\"Test size: \", len(df))\n",
    "print(\"Label distribution: \")\n",
    "df[\"label\"].value_counts()"
   ]
  },
  {
   "cell_type": "code",
   "execution_count": 26,
   "metadata": {},
   "outputs": [
    {
     "data": {
      "application/vnd.jupyter.widget-view+json": {
       "model_id": "3123c8c096704d6e9a636a3f46a34978",
       "version_major": 2,
       "version_minor": 0
      },
      "text/plain": [
       "  0%|          | 0/733 [00:00<?, ?it/s]"
      ]
     },
     "metadata": {},
     "output_type": "display_data"
    }
   ],
   "source": [
    "os.chdir(\"/Users/lucasvilsen/Desktop/GrammatikTAK/\")\n",
    "model_path = \"FineTuneModels/models/nutidsrModel9-BERT\"\n",
    "model_name = \"Model 9-BERT\"\n",
    "\n",
    "class Dataset(torch.utils.data.Dataset):\n",
    "    def __init__(self, encodings, labels=None):\n",
    "        self.encodings = encodings\n",
    "        self.labels = labels\n",
    "\n",
    "    def __getitem__(self, idx):\n",
    "        item = {key: torch.tensor(val[idx]) for key, val in self.encodings.items()}\n",
    "        if self.labels:\n",
    "            item[\"labels\"] = torch.tensor(self.labels[idx])\n",
    "        return item\n",
    "\n",
    "    def __len__(self):\n",
    "        return len(self.encodings[\"input_ids\"])\n",
    "\n",
    "def load_model(path):\n",
    "    device = \"mps\"\n",
    "    torch.device(device)\n",
    "    classifier = torch.load(path, map_location=torch.device('cpu'))\n",
    "    classifier.eval()\n",
    "    classifier.to(device)\n",
    "    return Trainer(classifier)\n",
    "\n",
    "\n",
    "model = load_model(model_path)\n",
    "tokenizer = BertTokenizer.from_pretrained('Maltehb/danish-bert-botxo')\n",
    "\n",
    "def convert_dataset_to_dataloader(dataset):\n",
    "    test_dataset = Dataset(dataset)\n",
    "    return test_dataset\n",
    "\n",
    "def tokenize_sentences(sentences):\n",
    "    X_tokenized = tokenizer(sentences, padding=True, truncation=True)\n",
    "    return X_tokenized\n",
    "\n",
    "def get_predictions(dataloader):\n",
    "    raw_predictions, _, _ = model.predict(dataloader)\n",
    "    scores = torch.softmax(torch.from_numpy(raw_predictions), dim=1)\n",
    "    max_scores, final_prediction = torch.max(scores, dim=1)\n",
    "    final_prediction = np.argmax(raw_predictions, axis=1)\n",
    "    return [(p, s) for p, s in zip(final_prediction, max_scores)]\n",
    "\n",
    "\n",
    "def verbs_to_check(words, pos):\n",
    "    pos = pos\n",
    "    verbs = []\n",
    "    for i in range(len(pos)):\n",
    "        if pos[i][0] != \"VERB\":\n",
    "            verbs.append(False)\n",
    "        elif \"Tense\" not in pos[i][2].keys():\n",
    "            verbs.append(False)\n",
    "        elif pos[i][2][\"Tense\"] != \"Pres\":\n",
    "            verbs.append(False)\n",
    "        else:\n",
    "            verbs.append(True)\n",
    "    for i, bool in enumerate(verbs):\n",
    "        if not bool:\n",
    "            continue\n",
    "        word = words[i].strip(\",.!?():;\")\n",
    "        try: stemmed_verb = nutids_r_stem[word]\n",
    "        except: verbs[i] = False; continue\n",
    "    return verbs\n",
    "\n",
    "tokenized = tokenize_sentences(testset)\n",
    "dataloader = convert_dataset_to_dataloader(tokenized)\n",
    "predictions = get_predictions(dataloader)"
   ]
  },
  {
   "cell_type": "code",
   "execution_count": 27,
   "metadata": {},
   "outputs": [
    {
     "name": "stdout",
     "output_type": "stream",
     "text": [
      "  Evaluation Measure     Value\n",
      "0           Accuracy  0.988396\n",
      "1          Precision  0.994266\n",
      "2             Recall  0.986348\n",
      "3           F1 Score  0.990291\n"
     ]
    }
   ],
   "source": [
    "true_predictions = [p for (p, s) in predictions]\n",
    "true_score = [s for (p, s) in predictions]\n",
    "\n",
    "import pandas as pd\n",
    "from sklearn.metrics import accuracy_score, precision_score, recall_score, f1_score\n",
    "\n",
    "accuracy = accuracy_score(labels, true_predictions)\n",
    "precision = precision_score(labels, true_predictions)\n",
    "recall = recall_score(labels, true_predictions)\n",
    "f1 = f1_score(labels, true_predictions)\n",
    "\n",
    "data = {\n",
    "    'Evaluation Measure': ['Accuracy', 'Precision', 'Recall', 'F1 Score'],\n",
    "    'Value': [accuracy, precision, recall, f1]\n",
    "}\n",
    "df = pd.DataFrame(data)\n",
    "\n",
    "print(df)"
   ]
  },
  {
   "cell_type": "markdown",
   "metadata": {},
   "source": [
    "Accuracy before disqualifying \"og: 97.8%\n",
    "\n",
    "Accuracy after disqualifying \"og\" and before \",\" lst: 98.2%\n",
    "\n",
    "Accuracy final: 98.5%"
   ]
  },
  {
   "cell_type": "markdown",
   "metadata": {},
   "source": [
    "Accuracy on small, high quality dataset: 99.4%"
   ]
  },
  {
   "cell_type": "code",
   "execution_count": 28,
   "metadata": {},
   "outputs": [
    {
     "data": {
      "image/png": "[encoded data removed]",
      "text/plain": [
       "<Figure size 640x480 with 1 Axes>"
      ]
     },
     "metadata": {},
     "output_type": "display_data"
    },
    {
     "data": {
      "image/png": "[encoded data removed]",
      "text/plain": [
       "<Figure size 640x480 with 1 Axes>"
      ]
     },
     "metadata": {},
     "output_type": "display_data"
    },
    {
     "data": {
      "image/png": "[encoded data removed]",
      "text/plain": [
       "<Figure size 640x480 with 1 Axes>"
      ]
     },
     "metadata": {},
     "output_type": "display_data"
    }
   ],
   "source": [
    "import matplotlib.pyplot as plt\n",
    "\n",
    "def calculate_growth(previous, current):\n",
    "    if previous == 0:\n",
    "        return 0\n",
    "    return (current - previous) / previous * 100\n",
    "\n",
    "def test_cutoff(value):\n",
    "    new_predictions = [p if s > value else None for (p, s) in predictions]\n",
    "    true = sum([1 if p == t else 0 for (p, t) in zip(new_predictions, labels)])\n",
    "    no_guess = sum([1 if p is None else 0 for p in new_predictions])\n",
    "    wrong = sum([1 if p != t and p is not None else 0 for (p, t) in zip(new_predictions, labels)])\n",
    "    return true/len(labels), no_guess/len(labels), wrong/len(labels)\n",
    "\n",
    "def test_all_values():\n",
    "    values = range(900, 1000)\n",
    "    trues, no_guesss, wrongs = [], [], []\n",
    "    for value in values:\n",
    "        true, no_guess, wrong = test_cutoff(value/1000)\n",
    "        trues.append(true)\n",
    "        no_guesss.append(no_guess)\n",
    "        wrongs.append(wrong)\n",
    "\n",
    "    plt.plot(values, trues, label='True Predictions')\n",
    "    plt.plot(values, no_guesss, label='No Guess')\n",
    "    plt.plot(values, wrongs, label='Wrong Predictions')\n",
    "\n",
    "    plt.xlabel('Threshold Value')\n",
    "    plt.ylabel('Count')\n",
    "    plt.title('Counts vs. Threshold Value')\n",
    "    plt.legend()\n",
    "    plt.grid(True)\n",
    "    plt.show()\n",
    "\n",
    "    previous_true = 0\n",
    "    previous_no_guess = 0\n",
    "    previous_wrong = 0\n",
    "\n",
    "    trues, no_guesss, wrongs = [], [], []\n",
    "\n",
    "    for value in values:\n",
    "        true, no_guess, wrong = test_cutoff(value/1000)\n",
    "        true_growth = calculate_growth(previous_true, true)\n",
    "        no_guess_growth = calculate_growth(previous_no_guess, no_guess)\n",
    "        wrong_growth = calculate_growth(previous_wrong, wrong)\n",
    "\n",
    "        trues.append(true_growth)\n",
    "        no_guesss.append(no_guess_growth)\n",
    "        wrongs.append(wrong_growth)\n",
    "\n",
    "        previous_true = true\n",
    "        previous_no_guess = no_guess\n",
    "        previous_wrong = wrong\n",
    "\n",
    "    plt.plot(values, trues, label='True Predictions')\n",
    "    plt.xlabel('Threshold Value')\n",
    "    plt.ylabel('Relative Growth (%)')\n",
    "    plt.title('Relative growth')\n",
    "    plt.legend()\n",
    "    plt.grid(True)\n",
    "    plt.show()\n",
    "\n",
    "    plt.plot(values, no_guesss, label='No Guess')\n",
    "    plt.plot(values, wrongs, label='Wrong Predictions')\n",
    "\n",
    "    plt.xlabel('Threshold Value')\n",
    "    plt.ylabel('Relative Growth (%)')\n",
    "    plt.title('Relative growth')\n",
    "    plt.legend()\n",
    "    plt.grid(True)\n",
    "    plt.show()\n",
    "\n",
    "test_all_values()\n",
    "    \n"
   ]
  },
  {
   "cell_type": "code",
   "execution_count": 29,
   "metadata": {},
   "outputs": [
    {
     "name": "stdout",
     "output_type": "stream",
     "text": [
      "|   Cutoff |   Correct (%) |   No Guess (%) |   Wrong (%) |\n",
      "|---------:|--------------:|---------------:|------------:|\n",
      "|     0.5  |         98.84 |           0    |        1.16 |\n",
      "|     0.7  |         98.53 |           0.56 |        0.9  |\n",
      "|     0.8  |         98.14 |           1.14 |        0.72 |\n",
      "|     0.9  |         97.35 |           2.05 |        0.6  |\n",
      "|     0.95 |         96.59 |           2.95 |        0.46 |\n",
      "|     0.98 |         95.15 |           4.52 |        0.32 |\n",
      "|     0.99 |         93.07 |           6.67 |        0.26 |\n"
     ]
    }
   ],
   "source": [
    "from tabulate import tabulate\n",
    "\n",
    "table_data = [\n",
    "    (\"0.50\", test_cutoff(0.50)),\n",
    "    (\"0.70\", test_cutoff(0.70)),\n",
    "    (\"0.80\", test_cutoff(0.80)),\n",
    "    (\"0.90\", test_cutoff(0.90)),\n",
    "    (\"0.95\", test_cutoff(0.95)),\n",
    "    (\"0.98\", test_cutoff(0.98)),\n",
    "    (\"0.99\", test_cutoff(0.99))\n",
    "]\n",
    "\n",
    "for i in range(len(table_data)):\n",
    "    _1 = round(table_data[i][1][0]*100, 2)\n",
    "    _2 = round(table_data[i][1][1]*100, 2)\n",
    "    _3 = round(table_data[i][1][2]*100, 2)\n",
    "    table_data[i] = (table_data[i][0], (_1, _2, _3))\n",
    "\n",
    "# Find the highest accuracy, lowest wrong, and lowest no-guess percentages\n",
    "highest_accuracy = max(table_data, key=lambda x: x[1][0])\n",
    "lowest_wrong = min(table_data, key=lambda x: x[1][2])\n",
    "lowest_no_guess = min(table_data, key=lambda x: x[1][1])\n",
    "\n",
    "# Create the table\n",
    "table = []\n",
    "headers = [\"Cutoff\", \"Correct (%)\", \"No Guess (%)\", \"Wrong (%)\"]\n",
    "\n",
    "for data in table_data:\n",
    "    row = [data[0]] + list(data[1])\n",
    "    table.append(row)\n",
    "\n",
    "table_str = tabulate(table, headers, tablefmt=\"pipe\")\n",
    "\n",
    "# Print the table\n",
    "print(table_str)"
   ]
  },
  {
   "cell_type": "markdown",
   "metadata": {},
   "source": [
    "## Error display:"
   ]
  },
  {
   "cell_type": "code",
   "execution_count": 30,
   "metadata": {},
   "outputs": [
    {
     "name": "stdout",
     "output_type": "stream",
     "text": [
      "<PAD> <PAD> <PAD> <PAD> <PAD> <PAD> <PAD> <PAD> <PAD> <PAD> Derfor er den måde, EU fremmer kvinders rettigheder og ligestilling på,\n",
      "\n",
      "<PAD> <PAD> <PAD> <PAD> <PAD> Det er blevet fastslået, at 43,7 % af de handicappede kunne arbejde, hvis de fik den\n",
      "\n",
      "os over denne tankevækkende betænkning om dette vigtige emne, og vi vil selvfølgelig alle sammen støtte den, og vi lykønsker ordføreren.\n",
      "\n",
      "<PAD> <PAD> <PAD> <PAD> <PAD> <PAD> <PAD> <PAD> <PAD> <PAD> På den måde vi de forsøge at forstå problemerne. <PAD> <PAD>\n",
      "\n",
      "der helt enkelt for få virksomheder. Og en virksomhed, som ikke findes, kan heller ikke skabe arbejdspladser, så simpelt er det.\n",
      "\n",
      "er blevet nævnt, med det formål at lade alle højtstående embedsmænd i mine egne tjenestegrene arbejde i mindst en uge i\n",
      "\n",
      "<PAD> <PAD> <PAD> <PAD> <PAD> <PAD> <PAD> Har De oplysninger, De kan give os, eller drejer det sig udelukkende om at\n",
      "\n",
      "<PAD> <PAD> <PAD> <PAD> <PAD> <PAD> <PAD> Jeg beklager, og jeg undskylder, at jeg ikke så Dem række hånden op. <PAD>\n",
      "\n",
      "<PAD> <PAD> <PAD> <PAD> <PAD> <PAD> <PAD> <PAD> (For resultater og andre detaljer vedrørende afstemningen: se protokollen) <PAD> <PAD> <PAD> <PAD>\n",
      "\n",
      "<PAD> (EN) Hr. formand! Jeg vil gerne henlede Kommissionens opmærksomhed på - og om muligt forsøge at få vedtaget en beslutning\n",
      "\n",
      "<PAD> <PAD> <PAD> <PAD> <PAD> <PAD> <PAD> <PAD> <PAD> <PAD> <PAD> <PAD> Den 16. december døde ni minearbejdere og 21 blev\n",
      "\n",
      "<PAD> <PAD> <PAD> <PAD> <PAD> Jeg opfordrer Parlamentet til at mindes alle de mennesker, der døde i kampen for frihed og\n",
      "\n",
      "Kina eller Indien. Vores diskussioner har imidlertid endnu ikke haft nogen praktisk indvirkning, og måske går vores ønsker om høj økonomisk\n",
      "\n",
      "<PAD> <PAD> <PAD> <PAD> <PAD> <PAD> <PAD> <PAD> <PAD> I dag er det Tyrkiet, der fastsætter de vilkår, som EU skal\n",
      "\n",
      "os, der er, men alligevel er jeg overbevist om, at det er det bedste, vi kunne opnå. <PAD> <PAD> <PAD> <PAD>\n",
      "\n",
      "revisionen af Reach-direktivet. Det vil komme til at lugte og være råddent og ved revisionen minde Dem om, at der skal\n",
      "\n",
      "<PAD> <PAD> <PAD> <PAD> <PAD> <PAD> <PAD> <PAD> <PAD> <PAD> <PAD> <PAD> Hvis vores vælgere så os i dette lys, ville\n",
      "\n",
      "i hvert fald hellere plukke og spise et æble, mens det var modent, og ikke vente på, at det blev råddent.\n",
      "\n",
      "<PAD> <PAD> <PAD> <PAD> <PAD> Det er blændværk, det er humbug, for de europæiske industrigifte dukker op dér, hvor de ikke\n",
      "\n",
      "<PAD> (FR) Hr. formand, hr. fungerende formand for Rådet, kommissærer, ordførere, jeg hører mine kolleger udtrykke skuffelse. <PAD> <PAD> <PAD> <PAD>\n",
      "\n",
      "tide af afslutte sagen og lade dem, der skal gennemføre aftalen, og folk i marken gå i gang. <PAD> <PAD> <PAD>\n",
      "\n",
      "<PAD> <PAD> <PAD> <PAD> <PAD> <PAD> <PAD> <PAD> Jo længere perioder, des mindre vil virksomhederne føle sig presset til at søge\n",
      "\n",
      "<PAD> <PAD> <PAD> De kompetente myndigheder skal enten selv eller i samarbejde med industrien desuden etablere nationale helpdeske. <PAD> <PAD> <PAD>\n",
      "\n",
      "medicinske applikationer ud, da regelsættet i sig selv er kongruent og tilstrækkeligt, ellers vil der opstå ukalkulerbare forsinkelser i forbindelse med\n",
      "\n",
      "<PAD> <PAD> <PAD> <PAD> <PAD> <PAD> Det er ikke en licens til at dræbe, men forudsætter en kontrol af risikoen, og\n",
      "\n",
      "en moderniseret toldkodeks sammen med de forslag, der er forelagt Rådet, og forslaget om e-told resultere i et bedre, hurtige og\n",
      "\n",
      "om International Handel, er blevet fejet til side på uretmæssigt vis og derfor desværre ikke kommer til plenarafstemning. <PAD> <PAD> <PAD>\n",
      "\n",
      "i hjemmet, vold mod kvinder, er en af hovedårsagerne til skader, der i første omgang rammer kvinder, men dernæst hele samfundet.\n",
      "\n",
      "acceptere en lang række af ændringsforslagene fuldt ud, f.eks. ændringsforslag 5, 18, 21, og delvis acceptere ændringsforslag 7, 11, 15, 16\n",
      "\n",
      "<PAD> Debat om tilfælde af krænkelse af menneskerettighederne, demokratiet og retsstatsprincippet (meddelelse om indgivne beslutningsforslag): se protokollen <PAD> <PAD> <PAD> <PAD>\n",
      "\n",
      "<PAD> <PAD> <PAD> Jeg vil imidlertid rose mine kolleger i Udviklingsudvalget, der ikke lod presset dele os på tværs af alle\n",
      "\n",
      "udviklingsinstrument, har vi sammen med Rådet og Kommissionen forhandlet os frem til et instrument, som få troede muligt for 12 måneder\n",
      "\n",
      "<PAD> <PAD> <PAD> <PAD> <PAD> <PAD> <PAD> <PAD> <PAD> <PAD> Parlamentet ønsker eller behøver ikke involvere sig i mikroforvaltning, men den\n",
      "\n",
      "dag vil jeg finde noget at være uenig med ham om, men lad os nu se på emnerne. <PAD> <PAD> <PAD>\n",
      "\n",
      "<PAD> <PAD> Disse nye medlemmer vil ikke have vores ekspertise i denne sag, og derfor så jeg gerne en revision i\n",
      "\n",
      "<PAD> <PAD> <PAD> <PAD> <PAD> <PAD> <PAD> <PAD> <PAD> <PAD> <PAD> Det kunne Parlamentet ikke gå med til, og Udviklingsudvalget handlede\n",
      "\n",
      "<PAD> <PAD> <PAD> <PAD> Jeg forstår princippet om ikke at yde bistand til lande, der krænker menneskerettigheder eller begår forskellige forbrydelser.\n",
      "\n",
      "<PAD> Jeg forstår princippet om ikke at yde bistand til lande, der krænker menneskerettigheder eller begår forskellige forbrydelser. <PAD> <PAD> <PAD>\n",
      "\n",
      "Netop i Afrika ser man, at udviklingssamarbejdet ikke altid virker på den måde, som man kunne ønske. <PAD> <PAD> <PAD> <PAD>\n",
      "\n",
      "<PAD> <PAD> <PAD> <PAD> <PAD> <PAD> <PAD> <PAD> <PAD> <PAD> <PAD> <PAD> <PAD> Hvorfor ikke have én central fond, der tager\n",
      "\n",
      "<PAD> <PAD> <PAD> <PAD> Beskyttelse af økosystemet grundvand og forsigtighedsprincippet er udtrykkeligt blevet medtaget. Forsigtighedsprincippet betyder i forbindelse med grundvandet, at\n",
      "\n",
      "lykkedes at øge ambitionerne, idet grundvandets kvalitet ikke må forringes. Vi lader altså ikke vandhanen stå åben, men lukker virkelig for\n",
      "\n",
      "i direktivet er taget hensyn til de specifikke beskyttelsesforanstaltninger, som nogle medlemsstater allerede har. Jeg sigter især til Danmark, som har\n",
      "\n",
      "<PAD> <PAD> <PAD> <PAD> Forurenet vand vil uanset forureningskilden på den ene eller anden måde vende tilbage til miljøet og kan\n",
      "\n",
      "<PAD> <PAD> <PAD> <PAD> <PAD> <PAD> <PAD> Jeg er især glad for muligheden for, at lande kan forbyde farlige kemikalier på\n",
      "\n",
      "føre til én fortolkning, nemlig at Kommissionen dannes på grundlag af Nice-traktaten. De mennesker, der udarbejde denne traktat, mente ikke, den\n",
      "\n",
      "<PAD> <PAD> <PAD> <PAD> <PAD> <PAD> <PAD> <PAD> <PAD> <PAD> <PAD> <PAD> <PAD> <PAD> <PAD> leder af den demokratiske opposition i\n",
      "\n",
      "os samtidig mulighed for at få vores borgere til at forstå, at Europa lader døren stå åben for Belarus, uanset hvad\n",
      "\n",
      "skal selvfølgelig ikke styre, hvilken type uddannelseskurser de enkelte medlemsstater tilbyder, eller på nogen måde finansiere disse. <PAD> <PAD> <PAD> <PAD>\n",
      "\n",
      "de nye teknologier er derfor påkrævet, men samtidig bør de fremskridt værdsættes, som disse teknologier betyder for vores samfund, med altovervejende\n",
      "\n",
      "<PAD> <PAD> <PAD> <PAD> <PAD> <PAD> <PAD> <PAD> <PAD> <PAD> <PAD> <PAD> <PAD> Lad landene drage deres egne konklusioner. <PAD> <PAD>\n",
      "\n",
      "<PAD> <PAD> <PAD> <PAD> Kun hvis direktivets hovedformål er opfyldt, er det gældende. Lad mig sige det helt klart endnu en\n",
      "\n",
      "respektere de kulturelle værkers fuldstændighed, og indtil der foreligger nærmere oplysninger herom, vil jeg selv holde mig til perioderne på 45\n",
      "\n",
      "og på vegne af Gruppen for Det Europæiske Folkeparti (Kristelige Demokrater) og De Europæiske Demokrater takke fru Hieronymi, som det både\n",
      "\n",
      "<PAD> <PAD> <PAD> <PAD> <PAD> <PAD> <PAD> <PAD> <PAD> <PAD> Det burde tv-spredningsvirksomhedernes reklameindtægter ikke komme til at lide under, for\n",
      "\n",
      "gældende lovgivning - der må ses som en juridisk tilpasning til den nye teknologi - dækker over ønsket om en uhæmmet\n",
      "\n",
      "<PAD> <PAD> <PAD> Vi forstår udmærket, hvorfor Kommissionen har forbudt reklamer i religiøse programmer, men sætter spørgsmålstegn ved det forhold, at\n",
      "\n",
      "<PAD> <PAD> <PAD> <PAD> <PAD> <PAD> <PAD> <PAD> <PAD> Medlemsstaterne kan for øvrigt stadig selv beslutte dette. Det ville være det\n",
      "\n",
      "ordførerens skyld, for hun har kæmpet bravt - og tak for det, fru Hieronymi - giver de nationale regulerende myndigheder ret\n",
      "\n",
      "grundlæggende værdier, som beskyttelsen af mindreårige og forbuddet mod tilskyndelse til racehad er, og samtidig støtte produktionen af europæiske værker. <PAD>\n",
      "\n",
      "<PAD> <PAD> <PAD> <PAD> <PAD> <PAD> <PAD> <PAD> <PAD> <PAD> Det europæiske indhold, som takket være Dem får en chance, står\n",
      "\n",
      "<PAD> <PAD> <PAD> <PAD> <PAD> <PAD> <PAD> <PAD> Det europæiske indhold, som takket være Dem får en chance, står i stor\n",
      "\n",
      "<PAD> <PAD> <PAD> <PAD> <PAD> <PAD> <PAD> <PAD> <PAD> <PAD> <PAD> Den 13. januar 1991 døde 15 personer under forsvaret af\n",
      "\n",
      "<PAD> <PAD> <PAD> <PAD> <PAD> <PAD> <PAD> <PAD> <PAD> <PAD> <PAD> <PAD> <PAD> Også takket være det glimrende arbejde, som fru\n",
      "\n",
      "med dem, der ønsker at sikre forfatternes kreativitet og uafhængighed samt produkternes kvalitet,vil jeg alligevel minde om, at i 2007 er\n",
      "\n",
      "<PAD> <PAD> <PAD> <PAD> <PAD> <PAD> <PAD> <PAD> <PAD> <PAD> <PAD> Hr. formand! I søndags døde den tidligere chilenske diktator, Augusto\n",
      "\n",
      "<PAD> <PAD> Jeg mødtes med en handicapgruppe, da jeg besøgte Kina sidste år, og alt tyder på, at personer med handicap\n",
      "\n",
      "<PAD> <PAD> <PAD> <PAD> Mennesket er til dels en religiøs skabning, og opretholdelsen af menneskerettigheder omfatter respekt for denne religiøse natur.\n"
     ]
    }
   ],
   "source": [
    "errors_index = [True if p != t else False for (p, t) in zip(true_predictions, labels)]\n",
    "errors = [padded_words[i] for i in range(len(padded_words)) if errors_index[i]]\n",
    "print(*errors, sep=\"\\n\\n\")"
   ]
  },
  {
   "cell_type": "code",
   "execution_count": 112,
   "metadata": {},
   "outputs": [
    {
     "data": {
      "text/plain": [
       "['så', 'sår']"
      ]
     },
     "execution_count": 112,
     "metadata": {},
     "output_type": "execute_result"
    }
   ],
   "source": [
    "stemmed = nutids_r_stem[\"så\"]\n",
    "nutids_r_bøjninger[stemmed]"
   ]
  },
  {
   "cell_type": "code",
   "execution_count": null,
   "metadata": {},
   "outputs": [],
   "source": []
  }
 ],
 "metadata": {
  "kernelspec": {
   "display_name": "Python 3.11.2 64-bit",
   "language": "python",
   "name": "python3"
  },
  "language_info": {
   "codemirror_mode": {
    "name": "ipython",
    "version": 3
   },
   "file_extension": ".py",
   "mimetype": "text/x-python",
   "name": "python",
   "nbconvert_exporter": "python",
   "pygments_lexer": "ipython3",
   "version": "3.11.2"
  },
  "orig_nbformat": 4,
  "vscode": {
   "interpreter": {
    "hash": "b0fa6594d8f4cbf19f97940f81e996739fb7646882a419484c72d19e05852a7e"
   }
  }
 },
 "nbformat": 4,
 "nbformat_minor": 2
}
