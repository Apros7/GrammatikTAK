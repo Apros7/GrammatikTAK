{
 "cells": [
  {
   "cell_type": "code",
   "execution_count": 2,
   "metadata": {},
   "outputs": [],
   "source": [
    "import pandas as pd\n",
    "import os\n",
    "import torch\n",
    "from transformers import Trainer, BertTokenizer\n",
    "import numpy as np\n",
    "\n",
    "\n",
    "os.chdir(\"/Users/lucasvilsen/Desktop/GrammatikTAK/\")\n",
    "\n",
    "test_sentences_verbs = pd.read_csv(\"Datasets/nutids-r-reviewed.csv\", sep=\"|\")"
   ]
  },
  {
   "cell_type": "code",
   "execution_count": 3,
   "metadata": {},
   "outputs": [
    {
     "data": {
      "text/plain": [
       "array(['Det er ikke altid nemt at forsvare din opførsel',\n",
       "       'Mange drenge interesserer sig for fodbold'], dtype=object)"
      ]
     },
     "execution_count": 3,
     "metadata": {},
     "output_type": "execute_result"
    }
   ],
   "source": [
    "correct_sentences = test_sentences_verbs[\"correct\"].values\n",
    "correct_sentences[:2]"
   ]
  },
  {
   "cell_type": "code",
   "execution_count": 4,
   "metadata": {},
   "outputs": [
    {
     "name": "stdout",
     "output_type": "stream",
     "text": [
      "pos_caching.pkl already exists\n"
     ]
    }
   ],
   "source": [
    "import pickle\n",
    "import stanza\n",
    "from tqdm import tqdm\n",
    "\n",
    "def get_pos(x):\n",
    "    with open(\"FineTuneModels/pos_caching.pkl\", \"rb\") as f:\n",
    "        pos_list = pickle.load(f)\n",
    "    if len(pos_list) != len(x):\n",
    "        pos_list = []\n",
    "        pos_tagger = stanza.Pipeline(\"da\", processors='tokenize,pos', use_gpu=True, cache_directory='./cache', tokenize_pretokenized=True, n_process=4)\n",
    "        for sentence in tqdm(x):\n",
    "            pos = get_pos_tags(sentence, pos_tagger)\n",
    "            pos_list.append(pos)\n",
    "        print(len(pos_list))\n",
    "        print(\"Updating\")\n",
    "        with open(\"FineTuneModels/pos_caching.pkl\", \"wb\") as f:\n",
    "            pickle.dump(pos_list, f)\n",
    "        print(\"Updated\")\n",
    "    else:\n",
    "        print(\"pos_caching.pkl already exists\")\n",
    "    return pos_list\n",
    "\n",
    "def get_pos_tags(sentence, pos_tagger):\n",
    "    doc = pos_tagger(sentence)\n",
    "    features = [word.feats if word.feats else None for sentence in doc.sentences for word in sentence.words]\n",
    "    feature_dicts = turn_features_to_dicts(features)\n",
    "    results = [(word.upos, [word.start_char, word.end_char], feature_dicts[i]) for sentence in doc.sentences for i, word in enumerate(sentence.words)]\n",
    "    return results\n",
    "\n",
    "def turn_features_to_dicts(features):\n",
    "    feature_dicts = []\n",
    "    current_tense = None\n",
    "    for feature in features:\n",
    "        if feature is None:\n",
    "            feature_dicts.append({})\n",
    "            continue\n",
    "        feature_dict = {}\n",
    "        current_features = feature.split(\"|\")\n",
    "        for current_feature in current_features:\n",
    "            key, value = current_feature.split(\"=\")\n",
    "            if key == \"Tense\" and current_tense is None:\n",
    "                current_tense = value\n",
    "            feature_dict[key] = value\n",
    "        if \"Tense\" not in feature_dict and \"VerbForm\" in feature_dict and key is not None:\n",
    "            feature_dict[\"Tense\"] = \"Pres\" if current_tense is None else current_tense\n",
    "        feature_dicts.append(feature_dict)\n",
    "    return feature_dicts\n",
    "\n",
    "all_pos = get_pos(correct_sentences)"
   ]
  },
  {
   "cell_type": "code",
   "execution_count": 5,
   "metadata": {},
   "outputs": [],
   "source": [
    "os.chdir(\"/Users/lucasvilsen/Desktop/GrammatikTAK/Datasets/\")\n",
    "filename = \"europarl-v7.da-en.da\"\n",
    "with open(filename, \"r\", encoding=\"UTF-8\") as file:\n",
    "    lines = file.readlines()\n",
    "with open(\"nutids_r_bøjninger.pickle\", \"rb\") as f:\n",
    "    nutids_r_bøjninger = pickle.load(f)\n",
    "with open(\"nutids_r_stem.pickle\", \"rb\") as f:\n",
    "    nutids_r_stem = pickle.load(f)"
   ]
  },
  {
   "cell_type": "code",
   "execution_count": 6,
   "metadata": {},
   "outputs": [
    {
     "name": "stderr",
     "output_type": "stream",
     "text": [
      "100%|██████████| 240/240 [00:00<00:00, 40226.70it/s]\n"
     ]
    }
   ],
   "source": [
    "from tqdm import tqdm\n",
    "\n",
    "testset = []\n",
    "labels = []\n",
    "\n",
    "padded_words = []\n",
    "\n",
    "padding_left = 10\n",
    "padding_right = 4\n",
    "\n",
    "def get_pos_tags(index):\n",
    "    current_pos = all_pos[index]\n",
    "    return [current_pos[i][0] for i in range(len(current_pos))]\n",
    "\n",
    "og_index = 0\n",
    "\n",
    "for i in tqdm(range(len(correct_sentences))):\n",
    "    line = correct_sentences[i]\n",
    "    if len(str(line)) < 1 or str(line) == \"nan\":\n",
    "        continue\n",
    "    line = line.strip(\"\\n\")\n",
    "    true_words = line.split()\n",
    "    pos = get_pos_tags(i)\n",
    "    words = [\"<PAD>\"]*padding_left + pos + [\"<PAD>\"]*padding_right\n",
    "    true_padded_words = [\"<PAD>\"]*padding_left + true_words + [\"<PAD>\"]*padding_right\n",
    "    for i, word in enumerate(true_words):\n",
    "        try: stemmed = nutids_r_stem[word]\n",
    "        except: continue\n",
    "        if word[-1] == \"s\" or words[i+padding_left] != \"VERB\":\n",
    "            continue\n",
    "        if true_words[i-1].lower().strip() == \"og\": \n",
    "            og_index += 1\n",
    "            continue\n",
    "        if nutids_r_bøjninger[stemmed][0] == word:\n",
    "            labels.append(1)\n",
    "        else:\n",
    "            labels.append(0)\n",
    "        testset.append(\" \".join(words[i:i+padding_left+padding_right+1]))\n",
    "        padded_words.append(\" \".join(true_padded_words[i:i+padding_left+padding_right+1]))"
   ]
  },
  {
   "cell_type": "code",
   "execution_count": 7,
   "metadata": {},
   "outputs": [
    {
     "data": {
      "text/plain": [
       "32"
      ]
     },
     "execution_count": 7,
     "metadata": {},
     "output_type": "execute_result"
    }
   ],
   "source": [
    "og_index"
   ]
  },
  {
   "cell_type": "code",
   "execution_count": 8,
   "metadata": {},
   "outputs": [
    {
     "name": "stdout",
     "output_type": "stream",
     "text": [
      "Test size:  360\n",
      "Label distribution: \n"
     ]
    },
    {
     "data": {
      "text/plain": [
       "0    210\n",
       "1    150\n",
       "Name: label, dtype: int64"
      ]
     },
     "execution_count": 8,
     "metadata": {},
     "output_type": "execute_result"
    }
   ],
   "source": [
    "df = pd.DataFrame(zip(testset, labels), columns=[\"comment_text\", \"label\"])\n",
    "print(\"Test size: \", len(df))\n",
    "print(\"Label distribution: \")\n",
    "df[\"label\"].value_counts()"
   ]
  },
  {
   "cell_type": "code",
   "execution_count": 9,
   "metadata": {},
   "outputs": [
    {
     "data": {
      "application/vnd.jupyter.widget-view+json": {
       "model_id": "84c0aaa8a79f495fa3cb15394c8b5397",
       "version_major": 2,
       "version_minor": 0
      },
      "text/plain": [
       "  0%|          | 0/45 [00:00<?, ?it/s]"
      ]
     },
     "metadata": {},
     "output_type": "display_data"
    }
   ],
   "source": [
    "os.chdir(\"/Users/lucasvilsen/Desktop/GrammatikTAK/\")\n",
    "model_path = \"FineTuneModels/models/nutidsrModel7-BERT\"\n",
    "model_name = \"Model 7-BERT\"\n",
    "\n",
    "class Dataset(torch.utils.data.Dataset):\n",
    "    def __init__(self, encodings, labels=None):\n",
    "        self.encodings = encodings\n",
    "        self.labels = labels\n",
    "\n",
    "    def __getitem__(self, idx):\n",
    "        item = {key: torch.tensor(val[idx]) for key, val in self.encodings.items()}\n",
    "        if self.labels:\n",
    "            item[\"labels\"] = torch.tensor(self.labels[idx])\n",
    "        return item\n",
    "\n",
    "    def __len__(self):\n",
    "        return len(self.encodings[\"input_ids\"])\n",
    "\n",
    "def load_model(path):\n",
    "    device = \"mps\"\n",
    "    torch.device(device)\n",
    "    classifier = torch.load(path, map_location=torch.device('cpu'))\n",
    "    classifier.eval()\n",
    "    classifier.to(device)\n",
    "    return Trainer(classifier)\n",
    "\n",
    "\n",
    "model = load_model(model_path)\n",
    "tokenizer = BertTokenizer.from_pretrained('Maltehb/danish-bert-botxo')\n",
    "\n",
    "def convert_dataset_to_dataloader(dataset):\n",
    "    test_dataset = Dataset(dataset)\n",
    "    return test_dataset\n",
    "\n",
    "def tokenize_sentences(sentences):\n",
    "    X_tokenized = tokenizer(sentences, padding=True, truncation=True)\n",
    "    return X_tokenized\n",
    "\n",
    "def get_predictions(dataloader):\n",
    "    raw_predictions, _, _ = model.predict(dataloader)\n",
    "    scores = torch.softmax(torch.from_numpy(raw_predictions), dim=1)\n",
    "    max_scores, final_prediction = torch.max(scores, dim=1)\n",
    "    final_prediction = np.argmax(raw_predictions, axis=1)\n",
    "    return [(p, s) for p, s in zip(final_prediction, max_scores)]\n",
    "\n",
    "\n",
    "def verbs_to_check(words, pos):\n",
    "    pos = pos\n",
    "    verbs = []\n",
    "    for i in range(len(pos)):\n",
    "        if pos[i][0] != \"VERB\":\n",
    "            verbs.append(False)\n",
    "        elif \"Tense\" not in pos[i][2].keys():\n",
    "            verbs.append(False)\n",
    "        elif pos[i][2][\"Tense\"] != \"Pres\":\n",
    "            verbs.append(False)\n",
    "        else:\n",
    "            verbs.append(True)\n",
    "    for i, bool in enumerate(verbs):\n",
    "        if not bool:\n",
    "            continue\n",
    "        word = words[i].strip(\",.!?():;\")\n",
    "        try: stemmed_verb = nutids_r_stem[word]\n",
    "        except: verbs[i] = False; continue\n",
    "    return verbs\n",
    "\n",
    "tokenized = tokenize_sentences(testset)\n",
    "dataloader = convert_dataset_to_dataloader(tokenized)\n",
    "predictions = get_predictions(dataloader)"
   ]
  },
  {
   "cell_type": "code",
   "execution_count": 12,
   "metadata": {},
   "outputs": [
    {
     "name": "stdout",
     "output_type": "stream",
     "text": [
      "  Evaluation Measure     Value\n",
      "0           Accuracy  0.988889\n",
      "1          Precision  1.000000\n",
      "2             Recall  0.973333\n",
      "3           F1 Score  0.986486\n"
     ]
    }
   ],
   "source": [
    "true_predictions = [p for (p, s) in predictions]\n",
    "true_score = [s for (p, s) in predictions]\n",
    "\n",
    "import pandas as pd\n",
    "from sklearn.metrics import accuracy_score, precision_score, recall_score, f1_score\n",
    "\n",
    "accuracy = accuracy_score(labels, true_predictions)\n",
    "precision = precision_score(labels, true_predictions)\n",
    "recall = recall_score(labels, true_predictions)\n",
    "f1 = f1_score(labels, true_predictions)\n",
    "\n",
    "data = {\n",
    "    'Evaluation Measure': ['Accuracy', 'Precision', 'Recall', 'F1 Score'],\n",
    "    'Value': [accuracy, precision, recall, f1]\n",
    "}\n",
    "df = pd.DataFrame(data)\n",
    "\n",
    "print(df)"
   ]
  },
  {
   "cell_type": "markdown",
   "metadata": {},
   "source": [
    "Accuracy before disqualifying \"og: 97.8%\n",
    "\n",
    "Accuracy after disqualifying \"og\": 98.9%"
   ]
  },
  {
   "cell_type": "code",
   "execution_count": 22,
   "metadata": {},
   "outputs": [
    {
     "data": {
      "image/png": "[encoded data removed]",
      "text/plain": [
       "<Figure size 640x480 with 1 Axes>"
      ]
     },
     "metadata": {},
     "output_type": "display_data"
    },
    {
     "data": {
      "image/png": "[encoded data removed]",
      "text/plain": [
       "<Figure size 640x480 with 1 Axes>"
      ]
     },
     "metadata": {},
     "output_type": "display_data"
    }
   ],
   "source": [
    "import matplotlib.pyplot as plt\n",
    "\n",
    "def test_cutoff(value):\n",
    "    new_predictions = [p if s > value else None for (p, s) in predictions]\n",
    "    true = sum([1 if p == t else 0 for (p, t) in zip(new_predictions, labels)])\n",
    "    no_guess = sum([1 if p is None else 0 for p in new_predictions])\n",
    "    wrong = sum([1 if p != t and p is not None else 0 for (p, t) in zip(new_predictions, labels)])\n",
    "    return true/len(labels), no_guess/len(labels), wrong/len(labels)\n",
    "\n",
    "def test_all_values():\n",
    "    values = range(900, 1000)\n",
    "    trues, no_guesss, wrongs = [], [], []\n",
    "    for value in values:\n",
    "        true, no_guess, wrong = test_cutoff(value/1000)\n",
    "        trues.append(true)\n",
    "        no_guesss.append(no_guess)\n",
    "        wrongs.append(wrong)\n",
    "\n",
    "    for i in range(len(values)):\n",
    "        if trues[i] + no_guesss[i] + wrongs[i] > 1:\n",
    "            print(trues[i], no_guesss[i], wrongs[i])\n",
    "\n",
    "    max_true = max(trues)\n",
    "    max_no_guess = max(no_guesss)\n",
    "    max_wrong = max(wrongs)\n",
    "\n",
    "    plt.plot(values, trues, label='True Predictions')\n",
    "    plt.plot(values, no_guesss, label='No Guess')\n",
    "    plt.plot(values, wrongs, label='Wrong Predictions')\n",
    "\n",
    "    plt.xlabel('Threshold Value')\n",
    "    plt.ylabel('Count')\n",
    "    plt.title('Counts vs. Threshold Value')\n",
    "    plt.legend()\n",
    "    plt.grid(True)\n",
    "    plt.show()\n",
    "\n",
    "    plt.plot(values, [x/max_true for x in trues], label='True Predictions')\n",
    "    plt.plot(values, [x/max_no_guess for x in no_guesss], label='No Guess')\n",
    "    plt.plot(values, [x/max_wrong for x in wrongs], label='Wrong Predictions')\n",
    "    plt.xlabel('Threshold Value')\n",
    "    plt.ylabel('Ratio')\n",
    "    plt.title('Relative growth')\n",
    "    plt.legend()\n",
    "    plt.grid(True)\n",
    "    plt.show()\n",
    "\n",
    "test_all_values()\n",
    "    \n"
   ]
  },
  {
   "cell_type": "code",
   "execution_count": 32,
   "metadata": {},
   "outputs": [
    {
     "name": "stdout",
     "output_type": "stream",
     "text": [
      "|   Cutoff |   Correct (%) |   No Guess (%) |   Wrong (%) |\n",
      "|---------:|--------------:|---------------:|------------:|\n",
      "|    0.5   |         98.89 |           0    |        1.11 |\n",
      "|    0.9   |         98.33 |           0.83 |        0.83 |\n",
      "|    0.98  |         96.67 |           3.06 |        0.28 |\n",
      "|    0.99  |         95.28 |           4.72 |        0    |\n",
      "|    0.995 |         91.67 |           8.33 |        0    |\n",
      "|    0.999 |         71.39 |          28.61 |        0    |\n"
     ]
    }
   ],
   "source": [
    "from tabulate import tabulate\n",
    "\n",
    "\n",
    "table_data = [\n",
    "    (\"0.50\", test_cutoff(0.50)),\n",
    "    (\"0.90\", test_cutoff(0.90)),\n",
    "    (\"0.98\", test_cutoff(0.98)),\n",
    "    (\"0.99\", test_cutoff(0.99)),\n",
    "    (\"0.995\", test_cutoff(0.995)),\n",
    "    (\"0.999\", test_cutoff(0.999)),\n",
    "\n",
    "]\n",
    "\n",
    "for i, (value, (true, no_guess, wrong)) in enumerate(table_data):\n",
    "    true_percentage = round(true*100, 2)\n",
    "    no_guess_percentage = round(no_guess*100, 2)\n",
    "    wrong_percentage = round(wrong*100, 2)\n",
    "    table_data[i] = (value, (true_percentage, no_guess_percentage, wrong_percentage))\n",
    "\n",
    "# Create the table\n",
    "table = []\n",
    "headers = [\"Cutoff\", \"Correct (%)\", \"No Guess (%)\", \"Wrong (%)\"]\n",
    "\n",
    "for data in table_data:\n",
    "    row = [data[0]] + list(data[1])\n",
    "    table.append(row)\n",
    "\n",
    "# Generate the table using tabulate\n",
    "table_str = tabulate(table, headers, tablefmt=\"pipe\")\n",
    "\n",
    "# Print the table\n",
    "print(table_str)\n"
   ]
  },
  {
   "cell_type": "markdown",
   "metadata": {},
   "source": [
    "## Error display:"
   ]
  },
  {
   "cell_type": "code",
   "execution_count": 19,
   "metadata": {},
   "outputs": [
    {
     "name": "stdout",
     "output_type": "stream",
     "text": [
      "programmer til beskyttelse af barentsee, og derfor beder jeg dem gennemgå et brevudkast, som beskriver\n",
      "\n",
      "for det sker af og til, at man lader sig repræsentere <PAD> <PAD> <PAD> <PAD>\n",
      "\n",
      "<PAD> Så næste gang du har brug for en pause, gå ind i parken, ånd\n",
      "\n",
      "gå ind i parken, ånd dybt og lad naturens skønhed omfavne dig <PAD> <PAD> <PAD>\n"
     ]
    }
   ],
   "source": [
    "errors_index = [True if p != t else False for (p, t) in zip(true_predictions, labels)]\n",
    "errors = [padded_words[i] for i in range(len(padded_words)) if errors_index[i]]\n",
    "print(*errors, sep=\"\\n\\n\")"
   ]
  },
  {
   "cell_type": "code",
   "execution_count": null,
   "metadata": {},
   "outputs": [],
   "source": []
  }
 ],
 "metadata": {
  "kernelspec": {
   "display_name": "Python 3.11.2 64-bit",
   "language": "python",
   "name": "python3"
  },
  "language_info": {
   "codemirror_mode": {
    "name": "ipython",
    "version": 3
   },
   "file_extension": ".py",
   "mimetype": "text/x-python",
   "name": "python",
   "nbconvert_exporter": "python",
   "pygments_lexer": "ipython3",
   "version": "3.11.2"
  },
  "orig_nbformat": 4,
  "vscode": {
   "interpreter": {
    "hash": "b0fa6594d8f4cbf19f97940f81e996739fb7646882a419484c72d19e05852a7e"
   }
  }
 },
 "nbformat": 4,
 "nbformat_minor": 2
}
