{
 "cells": [
  {
   "cell_type": "code",
   "execution_count": 1,
   "metadata": {},
   "outputs": [
    {
     "name": "stdout",
     "output_type": "stream",
     "text": [
      "['spelling_errors.csv', 'README.md', 'danish_ner.pickle', 'present_tense.csv']\n"
     ]
    }
   ],
   "source": [
    "import pandas as pd\n",
    "import os\n",
    "import torch\n",
    "from transformers import Trainer, BertTokenizer\n",
    "import numpy as np\n",
    "import torch.nn.utils.prune as prune\n",
    "\n",
    "\n",
    "os.chdir(\"/Users/lucasvilsen/Desktop/GrammatiktakDatasets/Danish\")\n",
    "print(os.listdir())\n",
    "\n",
    "test_sentences_verbs = pd.read_csv(\"present_tense.csv\", sep=\"|\")"
   ]
  },
  {
   "cell_type": "code",
   "execution_count": 2,
   "metadata": {},
   "outputs": [
    {
     "data": {
      "text/plain": [
       "array(['Det er ikke altid nemt at forsvare din opførsel',\n",
       "       'Mange drenge interesserer sig for fodbold'], dtype=object)"
      ]
     },
     "execution_count": 2,
     "metadata": {},
     "output_type": "execute_result"
    }
   ],
   "source": [
    "correct_sentences = test_sentences_verbs[\"correct\"].values\n",
    "correct_sentences[:2]"
   ]
  },
  {
   "cell_type": "markdown",
   "metadata": {},
   "source": [
    "---"
   ]
  },
  {
   "cell_type": "code",
   "execution_count": 3,
   "metadata": {},
   "outputs": [
    {
     "data": {
      "text/plain": [
       "1968800"
      ]
     },
     "execution_count": 3,
     "metadata": {},
     "output_type": "execute_result"
    }
   ],
   "source": [
    "os.chdir(\"/Users/lucasvilsen/Desktop/GrammatikTAK/Datasets/\")\n",
    "filename = \"europarl-v7.da-en.da\"\n",
    "with open(filename, \"r\", encoding=\"UTF-8\") as file:\n",
    "    lines = file.readlines()\n",
    "len(lines)"
   ]
  },
  {
   "cell_type": "code",
   "execution_count": 4,
   "metadata": {},
   "outputs": [
    {
     "data": {
      "text/plain": [
       "5000"
      ]
     },
     "execution_count": 4,
     "metadata": {},
     "output_type": "execute_result"
    }
   ],
   "source": [
    "correct_sentences = lines[-5000:]\n",
    "correct_sentences = [line.strip(\"\\n\") for line in correct_sentences]\n",
    "len(correct_sentences)"
   ]
  },
  {
   "cell_type": "markdown",
   "metadata": {},
   "source": [
    "---"
   ]
  },
  {
   "cell_type": "code",
   "execution_count": 3,
   "metadata": {},
   "outputs": [
    {
     "name": "stdout",
     "output_type": "stream",
     "text": [
      "pos_caching.pkl already exists\n"
     ]
    }
   ],
   "source": [
    "os.chdir(\"/Users/lucasvilsen/Desktop/GrammatikTAK/\")\n",
    "\n",
    "import pickle\n",
    "import stanza\n",
    "from tqdm import tqdm\n",
    "import os\n",
    "\n",
    "\n",
    "\n",
    "def get_pos(x):\n",
    "    if os.path.exists(f\"FineTuneModels/cache/pos_caching_{len(x)}.pkl\"):\n",
    "        print(\"pos_caching.pkl already exists\")\n",
    "        with open(f\"FineTuneModels/cache/pos_caching_{len(x)}.pkl\", \"rb\") as f:\n",
    "            pos_list = pickle.load(f)\n",
    "    else: \n",
    "        pos_list = []\n",
    "        pos_tagger = stanza.Pipeline(\"da\", processors='tokenize,pos', use_gpu=True, cache_directory='./cache', tokenize_pretokenized=True, n_process=4)\n",
    "        for sentence in tqdm(x):\n",
    "            pos = get_pos_tags(sentence, pos_tagger)\n",
    "            pos_list.append(pos)\n",
    "        print(len(pos_list))\n",
    "        print(\"Updating\")\n",
    "        with open(f\"FineTuneModels/cache/pos_caching_{len(x)}.pkl\", \"wb\") as f:\n",
    "            pickle.dump(pos_list, f)\n",
    "        print(\"Updated\")\n",
    "    return pos_list\n",
    "\n",
    "def get_pos_tags(sentence, pos_tagger):\n",
    "    doc = pos_tagger(sentence)\n",
    "    features = [word.feats if word.feats else None for sentence in doc.sentences for word in sentence.words]\n",
    "    feature_dicts = turn_features_to_dicts(features)\n",
    "    results = [(word.upos, [word.start_char, word.end_char], feature_dicts[i]) for sentence in doc.sentences for i, word in enumerate(sentence.words)]\n",
    "    return results\n",
    "\n",
    "def turn_features_to_dicts(features):\n",
    "    feature_dicts = []\n",
    "    current_tense = None\n",
    "    for feature in features:\n",
    "        if feature is None:\n",
    "            feature_dicts.append({})\n",
    "            continue\n",
    "        feature_dict = {}\n",
    "        current_features = feature.split(\"|\")\n",
    "        for current_feature in current_features:\n",
    "            key, value = current_feature.split(\"=\")\n",
    "            if key == \"Tense\" and current_tense is None:\n",
    "                current_tense = value\n",
    "            feature_dict[key] = value\n",
    "        if \"Tense\" not in feature_dict and \"VerbForm\" in feature_dict and key is not None:\n",
    "            feature_dict[\"Tense\"] = \"Pres\" if current_tense is None else current_tense\n",
    "        feature_dicts.append(feature_dict)\n",
    "    return feature_dicts\n",
    "\n",
    "all_pos = get_pos(correct_sentences)"
   ]
  },
  {
   "cell_type": "code",
   "execution_count": 4,
   "metadata": {},
   "outputs": [],
   "source": [
    "os.chdir(\"/Users/lucasvilsen/Desktop/GrammatikTAK/Datasets/\")\n",
    "filename = \"europarl-v7.da-en.da\"\n",
    "with open(filename, \"r\", encoding=\"UTF-8\") as file:\n",
    "    lines = file.readlines()\n",
    "with open(\"nutids_r_bøjninger.pickle\", \"rb\") as f:\n",
    "    nutids_r_bøjninger = pickle.load(f)\n",
    "with open(\"nutids_r_stem.pickle\", \"rb\") as f:\n",
    "    nutids_r_stem = pickle.load(f)"
   ]
  },
  {
   "cell_type": "code",
   "execution_count": 5,
   "metadata": {},
   "outputs": [
    {
     "name": "stderr",
     "output_type": "stream",
     "text": [
      "100%|██████████| 244/244 [00:00<00:00, 42777.55it/s]\n"
     ]
    }
   ],
   "source": [
    "from tqdm import tqdm\n",
    "\n",
    "testset = []\n",
    "labels = []\n",
    "\n",
    "padded_words = []\n",
    "\n",
    "padding_left = 15\n",
    "padding_right = 5\n",
    "\n",
    "def get_pos_tags(index):\n",
    "    current_pos = all_pos[index]\n",
    "    return [current_pos[i][0] for i in range(len(current_pos))]\n",
    "\n",
    "og_index = 0\n",
    "comma_right_before_index = 0\n",
    "at_indexes = []\n",
    "at_index = -1\n",
    "\n",
    "\n",
    "for y in tqdm(range(len(correct_sentences))):\n",
    "    line = correct_sentences[y]\n",
    "    if len(str(line)) < 1 or str(line) == \"nan\":\n",
    "        continue\n",
    "    line = line.strip(\"\\n\")\n",
    "    true_words = line.split()\n",
    "    pos = get_pos_tags(y)\n",
    "    words = [\"<PAD>\"]*padding_left + pos + [\"<PAD>\"]*padding_right\n",
    "    true_padded_words = [\"<PAD>\"]*padding_left + true_words + [\"<PAD>\"]*padding_right\n",
    "    for i, word in enumerate(true_words):\n",
    "        try: stemmed = nutids_r_stem[word]\n",
    "        except: continue\n",
    "        if word[-1] == \"s\" or words[i+padding_left] != \"VERB\":\n",
    "            continue\n",
    "        if true_words[i-1].lower().strip() == \"og\": \n",
    "            og_index += 1\n",
    "            continue\n",
    "        if true_words[i-1][-1] == \",\":\n",
    "            comma_right_before_index += 1\n",
    "            continue\n",
    "        at_index += 1\n",
    "        if true_words[i-1].lower().strip() == \"at\": \n",
    "            at_indexes.append(at_index)\n",
    "        if nutids_r_bøjninger[stemmed][0] == word:\n",
    "            labels.append(1)\n",
    "        else:\n",
    "            labels.append(0)\n",
    "        testset.append(\" \".join(words[i:i+padding_left+padding_right+1]))\n",
    "        padded_words.append(\" \".join(true_padded_words[i:i+padding_left+padding_right+1]))"
   ]
  },
  {
   "cell_type": "code",
   "execution_count": 6,
   "metadata": {},
   "outputs": [
    {
     "data": {
      "text/plain": [
       "(33, 9, 356, 90)"
      ]
     },
     "execution_count": 6,
     "metadata": {},
     "output_type": "execute_result"
    }
   ],
   "source": [
    "og_index, comma_right_before_index, len(testset), len(at_indexes)"
   ]
  },
  {
   "cell_type": "code",
   "execution_count": 7,
   "metadata": {},
   "outputs": [
    {
     "name": "stdout",
     "output_type": "stream",
     "text": [
      "Test size:  356\n",
      "Label distribution: \n"
     ]
    },
    {
     "data": {
      "text/plain": [
       "0    209\n",
       "1    147\n",
       "Name: label, dtype: int64"
      ]
     },
     "execution_count": 7,
     "metadata": {},
     "output_type": "execute_result"
    }
   ],
   "source": [
    "df = pd.DataFrame(zip(testset, labels), columns=[\"comment_text\", \"label\"])\n",
    "print(\"Test size: \", len(df))\n",
    "print(\"Label distribution: \")\n",
    "df[\"label\"].value_counts()"
   ]
  },
  {
   "cell_type": "code",
   "execution_count": 8,
   "metadata": {},
   "outputs": [],
   "source": [
    "os.chdir(\"/Users/lucasvilsen/Desktop/GrammatikTAK/\")\n",
    "model_path = \"FineTuneModels/models/nutidsrModel10-BERT\"\n",
    "model_name = \"Model 10-BERT\"\n",
    "\n",
    "class Dataset(torch.utils.data.Dataset):\n",
    "    def __init__(self, encodings, labels=None):\n",
    "        self.encodings = encodings\n",
    "        self.labels = labels\n",
    "\n",
    "    def __getitem__(self, idx):\n",
    "        item = {key: torch.tensor(val[idx]) for key, val in self.encodings.items()}\n",
    "        if self.labels:\n",
    "            item[\"labels\"] = torch.tensor(self.labels[idx])\n",
    "        return item\n",
    "\n",
    "    def __len__(self):\n",
    "        return len(self.encodings[\"input_ids\"])\n",
    "\n",
    "def load_model(path):\n",
    "    device = \"mps\"\n",
    "    torch.device(device)\n",
    "    classifier = torch.load(path, map_location=torch.device('cpu'))\n",
    "    parameters_to_prune = [(classifier.bert.embeddings.word_embeddings, \"weight\")]\n",
    "    prune.global_unstructured(\n",
    "        parameters_to_prune,\n",
    "        pruning_method=prune.L1Unstructured,\n",
    "        amount=0.2\n",
    "    )\n",
    "    classifier.eval()\n",
    "    classifier.to(device)\n",
    "    return Trainer(classifier)\n",
    "\n",
    "\n",
    "model = load_model(model_path)\n",
    "tokenizer = BertTokenizer.from_pretrained('Maltehb/danish-bert-botxo')\n",
    "#tokenizer = BertTokenizer(vocab_file=\"FineTuneModels/models/vocab.txt\", do_lower_case=False)\n",
    "\n",
    "def convert_dataset_to_dataloader(dataset):\n",
    "    test_dataset = Dataset(dataset)\n",
    "    return test_dataset\n",
    "\n",
    "def tokenize_sentences(sentences):\n",
    "    X_tokenized = tokenizer(sentences, padding=True, truncation=True)\n",
    "    return X_tokenized\n",
    "\n",
    "def get_predictions(dataloader):\n",
    "    raw_predictions, _, _ = model.predict(dataloader)\n",
    "    scores = torch.softmax(torch.from_numpy(raw_predictions), dim=1)\n",
    "    max_scores, final_prediction = torch.max(scores, dim=1)\n",
    "    final_prediction = np.argmax(raw_predictions, axis=1)\n",
    "    return [(p, s) for p, s in zip(final_prediction, max_scores)]\n",
    "\n",
    "\n",
    "def verbs_to_check(words, pos):\n",
    "    pos = pos\n",
    "    verbs = []\n",
    "    for i in range(len(pos)):\n",
    "        if pos[i][0] != \"VERB\":\n",
    "            verbs.append(False)\n",
    "        elif \"Tense\" not in pos[i][2].keys():\n",
    "            verbs.append(False)\n",
    "        elif pos[i][2][\"Tense\"] != \"Pres\":\n",
    "            verbs.append(False)\n",
    "        else:\n",
    "            verbs.append(True)\n",
    "    for i, bool in enumerate(verbs):\n",
    "        if not bool:\n",
    "            continue\n",
    "        word = words[i].strip(\",.!?():;\")\n",
    "        try: stemmed_verb = nutids_r_stem[word]\n",
    "        except: verbs[i] = False; continue\n",
    "    return verbs"
   ]
  },
  {
   "cell_type": "code",
   "execution_count": 9,
   "metadata": {},
   "outputs": [
    {
     "data": {
      "application/vnd.jupyter.widget-view+json": {
       "model_id": "a5db13db25924fb9b60c552528d3a502",
       "version_major": 2,
       "version_minor": 0
      },
      "text/plain": [
       "  0%|          | 0/45 [00:00<?, ?it/s]"
      ]
     },
     "metadata": {},
     "output_type": "display_data"
    }
   ],
   "source": [
    "tokenized = tokenize_sentences(testset)\n",
    "dataloader = convert_dataset_to_dataloader(tokenized)\n",
    "predictions = get_predictions(dataloader)"
   ]
  },
  {
   "cell_type": "code",
   "execution_count": 12,
   "metadata": {},
   "outputs": [
    {
     "name": "stdout",
     "output_type": "stream",
     "text": [
      "  Evaluation Measure     Value\n",
      "0           Accuracy  0.987840\n",
      "1          Precision  0.993231\n",
      "2             Recall  0.984747\n",
      "3           F1 Score  0.988971\n"
     ]
    }
   ],
   "source": [
    "true_predictions = [p for (p, s) in predictions]\n",
    "true_score = [s for (p, s) in predictions]\n",
    "\n",
    "true = 0\n",
    "wrong = 0\n",
    "for i in range(len(true_predictions)):\n",
    "    if i in at_indexes:\n",
    "        if true_predictions[i] == 1:\n",
    "            true += 1\n",
    "        else:\n",
    "            wrong += 1\n",
    "        true_predictions[i] = 1\n",
    "        true_score[i] = 1\n",
    "\n",
    "import pandas as pd\n",
    "from sklearn.metrics import accuracy_score, precision_score, recall_score, f1_score\n",
    "\n",
    "accuracy = accuracy_score(labels, true_predictions)\n",
    "precision = precision_score(labels, true_predictions)\n",
    "recall = recall_score(labels, true_predictions)\n",
    "f1 = f1_score(labels, true_predictions)\n",
    "\n",
    "data = {\n",
    "    'Evaluation Measure': ['Accuracy', 'Precision', 'Recall', 'F1 Score'],\n",
    "    'Value': [accuracy, precision, recall, f1]\n",
    "}\n",
    "df = pd.DataFrame(data)\n",
    "\n",
    "print(df)"
   ]
  },
  {
   "cell_type": "markdown",
   "metadata": {},
   "source": [
    "Best results (model9-BERT):\n",
    "\n",
    "  Evaluation Measure     Value\n",
    "\n",
    "0           Accuracy  0.988908\n",
    "\n",
    "1          Precision  0.994271\n",
    "\n",
    "2             Recall  0.987201\n",
    "\n",
    "3           F1 Score  0.990724"
   ]
  },
  {
   "cell_type": "markdown",
   "metadata": {},
   "source": [
    "Accuracy before disqualifying \"og: 97.8%\n",
    "\n",
    "Accuracy after disqualifying \"og\" and before \",\" lst: 98.2%\n",
    "\n",
    "Accuracy final: 98.5%"
   ]
  },
  {
   "cell_type": "markdown",
   "metadata": {},
   "source": [
    "Accuracy on small, high quality dataset: 99.4%\n",
    "\n",
    "Accuracy on larger dataset: 98.86% with \"og\", \",\" and \"at\" correction. F1 = 0.9904"
   ]
  },
  {
   "cell_type": "code",
   "execution_count": 13,
   "metadata": {},
   "outputs": [
    {
     "data": {
      "image/png": "[encoded data removed]",
      "text/plain": [
       "<Figure size 640x480 with 1 Axes>"
      ]
     },
     "metadata": {},
     "output_type": "display_data"
    },
    {
     "data": {
      "image/png": "[encoded data removed]",
      "text/plain": [
       "<Figure size 640x480 with 1 Axes>"
      ]
     },
     "metadata": {},
     "output_type": "display_data"
    },
    {
     "data": {
      "image/png": "[encoded data removed]",
      "text/plain": [
       "<Figure size 640x480 with 1 Axes>"
      ]
     },
     "metadata": {},
     "output_type": "display_data"
    }
   ],
   "source": [
    "import matplotlib.pyplot as plt\n",
    "\n",
    "def calculate_growth(previous, current):\n",
    "    if previous == 0:\n",
    "        return 0\n",
    "    return (current - previous) / previous * 100\n",
    "\n",
    "def test_cutoff(value):\n",
    "    new_predictions = [p if s > value else None for (p, s) in predictions]\n",
    "    true = sum([1 if p == t else 0 for (p, t) in zip(new_predictions, labels)])\n",
    "    no_guess = sum([1 if p is None else 0 for p in new_predictions])\n",
    "    wrong = sum([1 if p != t and p is not None else 0 for (p, t) in zip(new_predictions, labels)])\n",
    "    return true/len(labels), no_guess/len(labels), wrong/len(labels)\n",
    "\n",
    "def test_all_values():\n",
    "    values = range(900, 1000)\n",
    "    trues, no_guesss, wrongs = [], [], []\n",
    "    for value in values:\n",
    "        true, no_guess, wrong = test_cutoff(value/1000)\n",
    "        trues.append(true)\n",
    "        no_guesss.append(no_guess)\n",
    "        wrongs.append(wrong)\n",
    "\n",
    "    plt.plot(values, trues, label='True Predictions')\n",
    "    plt.plot(values, no_guesss, label='No Guess')\n",
    "    plt.plot(values, wrongs, label='Wrong Predictions')\n",
    "\n",
    "    plt.xlabel('Threshold Value')\n",
    "    plt.ylabel('Count')\n",
    "    plt.title('Counts vs. Threshold Value')\n",
    "    plt.legend()\n",
    "    plt.grid(True)\n",
    "    plt.show()\n",
    "\n",
    "    previous_true = 0\n",
    "    previous_no_guess = 0\n",
    "    previous_wrong = 0\n",
    "\n",
    "    trues, no_guesss, wrongs = [], [], []\n",
    "\n",
    "    for value in values:\n",
    "        true, no_guess, wrong = test_cutoff(value/1000)\n",
    "        true_growth = calculate_growth(previous_true, true)\n",
    "        no_guess_growth = calculate_growth(previous_no_guess, no_guess)\n",
    "        wrong_growth = calculate_growth(previous_wrong, wrong)\n",
    "\n",
    "        trues.append(true_growth)\n",
    "        no_guesss.append(no_guess_growth)\n",
    "        wrongs.append(wrong_growth)\n",
    "\n",
    "        previous_true = true\n",
    "        previous_no_guess = no_guess\n",
    "        previous_wrong = wrong\n",
    "\n",
    "    plt.plot(values, trues, label='True Predictions')\n",
    "    plt.xlabel('Threshold Value')\n",
    "    plt.ylabel('Relative Growth (%)')\n",
    "    plt.title('Relative growth')\n",
    "    plt.legend()\n",
    "    plt.grid(True)\n",
    "    plt.show()\n",
    "\n",
    "    plt.plot(values, no_guesss, label='No Guess')\n",
    "    plt.plot(values, wrongs, label='Wrong Predictions')\n",
    "\n",
    "    plt.xlabel('Threshold Value')\n",
    "    plt.ylabel('Relative Growth (%)')\n",
    "    plt.title('Relative growth')\n",
    "    plt.legend()\n",
    "    plt.grid(True)\n",
    "    plt.show()\n",
    "\n",
    "test_all_values()\n",
    "    \n"
   ]
  },
  {
   "cell_type": "code",
   "execution_count": 14,
   "metadata": {},
   "outputs": [
    {
     "name": "stdout",
     "output_type": "stream",
     "text": [
      "|   Cutoff |   Correct (%) |   No Guess (%) |   Wrong (%) |\n",
      "|---------:|--------------:|---------------:|------------:|\n",
      "|     0    |         98.78 |           0    |        1.22 |\n",
      "|     0.5  |         98.78 |           0    |        1.22 |\n",
      "|     0.7  |         98.4  |           0.71 |        0.9  |\n",
      "|     0.8  |         98.11 |           1.22 |        0.68 |\n",
      "|     0.9  |         97.35 |           2.18 |        0.47 |\n",
      "|     0.95 |         96.12 |           3.48 |        0.41 |\n",
      "|     0.98 |         93.77 |           5.94 |        0.29 |\n",
      "|     0.99 |         90.02 |           9.74 |        0.24 |\n"
     ]
    }
   ],
   "source": [
    "from tabulate import tabulate\n",
    "\n",
    "table_data = [\n",
    "    (\"0.00\", test_cutoff(0)),\n",
    "    (\"0.50\", test_cutoff(0.50)),\n",
    "    (\"0.70\", test_cutoff(0.70)),\n",
    "    (\"0.80\", test_cutoff(0.80)),\n",
    "    (\"0.90\", test_cutoff(0.90)),\n",
    "    (\"0.95\", test_cutoff(0.95)),\n",
    "    (\"0.98\", test_cutoff(0.98)),\n",
    "    (\"0.99\", test_cutoff(0.99))\n",
    "]\n",
    "\n",
    "for i in range(len(table_data)):\n",
    "    _1 = round(table_data[i][1][0]*100, 2)\n",
    "    _2 = round(table_data[i][1][1]*100, 2)\n",
    "    _3 = round(table_data[i][1][2]*100, 2)\n",
    "    table_data[i] = (table_data[i][0], (_1, _2, _3))\n",
    "\n",
    "# Find the highest accuracy, lowest wrong, and lowest no-guess percentages\n",
    "highest_accuracy = max(table_data, key=lambda x: x[1][0])\n",
    "lowest_wrong = min(table_data, key=lambda x: x[1][2])\n",
    "lowest_no_guess = min(table_data, key=lambda x: x[1][1])\n",
    "\n",
    "# Create the table\n",
    "table = []\n",
    "headers = [\"Cutoff\", \"Correct (%)\", \"No Guess (%)\", \"Wrong (%)\"]\n",
    "\n",
    "for data in table_data:\n",
    "    row = [data[0]] + list(data[1])\n",
    "    table.append(row)\n",
    "\n",
    "table_str = tabulate(table, headers, tablefmt=\"pipe\")\n",
    "\n",
    "# Print the table\n",
    "print(table_str)"
   ]
  },
  {
   "cell_type": "markdown",
   "metadata": {},
   "source": [
    "## Error display:"
   ]
  },
  {
   "cell_type": "code",
   "execution_count": 29,
   "metadata": {},
   "outputs": [
    {
     "data": {
      "text/plain": [
       "[(0, 25),\n",
       " (1, 5),\n",
       " (2, 7),\n",
       " (3, 4),\n",
       " (4, 7),\n",
       " (5, 3),\n",
       " (6, 1),\n",
       " (7, 3),\n",
       " (8, 4),\n",
       " (10, 1),\n",
       " (11, 1),\n",
       " (12, 3),\n",
       " (13, 3),\n",
       " (14, 4),\n",
       " (16, 1)]"
      ]
     },
     "execution_count": 29,
     "metadata": {},
     "output_type": "execute_result"
    }
   ],
   "source": [
    "from collections import Counter\n",
    "\n",
    "errors_index = [True if p != t else False for (p, t) in zip(true_predictions, labels)]\n",
    "errors = [padded_words[i] for i in range(len(padded_words)) if errors_index[i]]\n",
    "correct  = [padded_words[i] for i in range(len(padded_words)) if not errors_index[i]]\n",
    "lengths = []\n",
    "for error in errors: \n",
    "    lengths.append(sum([True for word in error.split() if word == \"<PAD>\"]))\n",
    "\n",
    "lengths_correct = [sum([True for word in correct[i].split() if word == \"<PAD>\"]) for i in range(len(correct))]\n",
    "\n",
    "sorted(dict(Counter(lengths)).items())"
   ]
  },
  {
   "cell_type": "code",
   "execution_count": 30,
   "metadata": {},
   "outputs": [
    {
     "data": {
      "text/plain": [
       "[(0, 1629),\n",
       " (1, 272),\n",
       " (2, 301),\n",
       " (3, 331),\n",
       " (4, 353),\n",
       " (5, 220),\n",
       " (6, 224),\n",
       " (7, 256),\n",
       " (8, 218),\n",
       " (9, 225),\n",
       " (10, 289),\n",
       " (11, 263),\n",
       " (12, 358),\n",
       " (13, 301),\n",
       " (14, 519),\n",
       " (15, 48),\n",
       " (16, 24),\n",
       " (17, 13),\n",
       " (18, 5)]"
      ]
     },
     "execution_count": 30,
     "metadata": {},
     "output_type": "execute_result"
    }
   ],
   "source": [
    "sorted(dict(Counter(lengths_correct)).items())"
   ]
  },
  {
   "cell_type": "code",
   "execution_count": null,
   "metadata": {},
   "outputs": [],
   "source": []
  }
 ],
 "metadata": {
  "kernelspec": {
   "display_name": "Python 3.11.2 64-bit",
   "language": "python",
   "name": "python3"
  },
  "language_info": {
   "codemirror_mode": {
    "name": "ipython",
    "version": 3
   },
   "file_extension": ".py",
   "mimetype": "text/x-python",
   "name": "python",
   "nbconvert_exporter": "python",
   "pygments_lexer": "ipython3",
   "version": "3.11.2"
  },
  "orig_nbformat": 4,
  "vscode": {
   "interpreter": {
    "hash": "b0fa6594d8f4cbf19f97940f81e996739fb7646882a419484c72d19e05852a7e"
   }
  }
 },
 "nbformat": 4,
 "nbformat_minor": 2
}
