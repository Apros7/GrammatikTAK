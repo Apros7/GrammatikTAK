{
 "cells": [
  {
   "cell_type": "code",
   "execution_count": 1,
   "metadata": {},
   "outputs": [],
   "source": [
    "import pandas as pd\n",
    "import os\n",
    "import torch\n",
    "from transformers import Trainer, BertTokenizer\n",
    "import numpy as np"
   ]
  },
  {
   "cell_type": "code",
   "execution_count": 2,
   "metadata": {},
   "outputs": [],
   "source": [
    "os.chdir(\"/Users/lucasvilsen/Desktop/GrammatikTAK/GrammatiktakDatasets/otherDatasets/\")\n",
    "test_sentences = pd.read_csv(\"nutids_r.csv\")"
   ]
  },
  {
   "cell_type": "code",
   "execution_count": null,
   "metadata": {},
   "outputs": [],
   "source": [
    "import pickle\n",
    "\n",
    "os.chdir(\"/Users/lucasvilsen/Desktop/GrammatikTAK/Datasets/\")\n",
    "with open(\"nutids_r.pickle\", \"rb\") as f:\n",
    "    nutids_r = pickle.load(f)\n",
    "with open(\"nutids_r_stem.pickle\", \"rb\") as f:\n",
    "    nutids_r_stem = pickle.load(f)"
   ]
  },
  {
   "cell_type": "code",
   "execution_count": 3,
   "metadata": {},
   "outputs": [],
   "source": [
    "class CustomDataset(torch.utils.data.Dataset):\n",
    "    def __init__(self, encodings, labels=None, batch_size=16):\n",
    "        self.encodings = encodings\n",
    "        self.labels = labels\n",
    "        self.batch_size = batch_size\n",
    "\n",
    "    def __getitem__(self, idx):\n",
    "        item = {key: torch.tensor(val[idx]) for key, val in self.encodings.items()}\n",
    "        if self.labels:\n",
    "            item[\"labels\"] = torch.tensor(self.labels[idx])\n",
    "        return item\n",
    "\n",
    "    def __len__(self):\n",
    "        return len(self.encodings[\"input_ids\"])"
   ]
  },
  {
   "cell_type": "code",
   "execution_count": null,
   "metadata": {},
   "outputs": [],
   "source": [
    "from tqdm import tqdm\n",
    "from sklearn.metrics import f1_score, recall_score, precision_score\n",
    "\n",
    "char = \"*@;:!\\\"?«».,\"\n",
    "\n",
    "def init_model(model):\n",
    "    device = \"mps\"\n",
    "    torch.device(device)\n",
    "    model.eval()\n",
    "    model.to(device)\n",
    "    return model\n",
    "\n",
    "def load_constants():\n",
    "    SCOPE = 6\n",
    "    PADDING = int(SCOPE/2-1)\n",
    "    HALF_SCOPE = int(SCOPE/2)\n",
    "    MAX_LENGTH = 21\n",
    "    BATCH_SIZE\n",
    "    return SCOPE, PADDING, HALF_SCOPE, MAX_LENGTH, BATCH_SIZE\n",
    "\n",
    "class correct_nutidsr():\n",
    "    def __init__(self):\n",
    "        os.chdir(\"/Users/lucasvilsen/Desktop/GrammatikTAK/FineTuneModels/Models/\")\n",
    "        self.tokenizer = BertTokenizer.from_pretrained('Maltehb/danish-bert-botxo')\n",
    "        self.model = init_model(torch.load(\"nutidsrModel1\", map_location=torch.device('cpu')))\n",
    "        self.scope, self.padding, self.half_scope, self.max_length, self.batch_size = load_constants()\n",
    "    \n",
    "    def add_padding(self, words):\n",
    "        return [\"<PAD>\"]*self.padding + words + [\"<PAD>\"]*self.padding\n",
    "    \n",
    "    def clean_input(self, pre_cleaned_result):\n",
    "        post_cleaned_result = []\n",
    "        for i in tqdm(range(len(pre_cleaned_result))):\n",
    "            pre_cleaned_lst = pre_cleaned_result[i]\n",
    "            lst = [word.translate(str.maketrans('', '', ''.join(char))) for word in pre_cleaned_lst]\n",
    "            post_cleaned_result.append(lst)\n",
    "        return post_cleaned_result\n",
    "    \n",
    "    def convert_sentences_to_dataset(self, post_cleaned_result):\n",
    "        dataset = []\n",
    "        output_lst = []\n",
    "        for i in tqdm(range(len(post_cleaned_result))):\n",
    "            current_lst = post_cleaned_result[i]\n",
    "            for x in range(len(current_lst)):\n",
    "                current_word = current_lst[x]\n",
    "                try: stemmed_word = nutids_r_stem[current_word]\n",
    "                except: continue\n",
    "                current_dataset = current_lst[x-self.half_scope:x+self.half_scope+1]\n",
    "                current_dataset[self.half_scope] = stemmed_word\n",
    "                dataset.append(\" \".join(current_dataset))\n",
    "                if nutids_r[stemmed_word][0] == current_word:\n",
    "                    output = 0\n",
    "                elif nutids_r[stemmed_word][1] == current_word:\n",
    "                    output = 1\n",
    "                else:\n",
    "                    print(\"ERROR\")\n",
    "                output_lst.append(output)\n",
    "        return dataset, output_lst\n",
    "\n",
    "    def convert_dataset_to_dataloader(self, dataset, output):\n",
    "        test_dataset = CustomDataset(dataset, output, batch_size=self.batch_size)\n",
    "        return test_dataset\n",
    "    \n",
    "    def tokenize_sentences(self, sentences):\n",
    "        X_tokenized = self.tokenizer(sentences, padding=True, truncation=True, max_length=self.max_length)\n",
    "        return X_tokenized\n",
    "    \n",
    "    def get_predictions(self):\n",
    "        pass\n",
    "\n",
    "    def correct_sentence(self):\n",
    "        pass\n",
    "\n",
    "\n"
   ]
  }
 ],
 "metadata": {
  "kernelspec": {
   "display_name": "Python 3.11.2 64-bit",
   "language": "python",
   "name": "python3"
  },
  "language_info": {
   "codemirror_mode": {
    "name": "ipython",
    "version": 3
   },
   "file_extension": ".py",
   "mimetype": "text/x-python",
   "name": "python",
   "nbconvert_exporter": "python",
   "pygments_lexer": "ipython3",
   "version": "3.11.2"
  },
  "orig_nbformat": 4,
  "vscode": {
   "interpreter": {
    "hash": "b0fa6594d8f4cbf19f97940f81e996739fb7646882a419484c72d19e05852a7e"
   }
  }
 },
 "nbformat": 4,
 "nbformat_minor": 2
}
