{
 "cells": [
  {
   "cell_type": "code",
   "execution_count": 60,
   "metadata": {},
   "outputs": [],
   "source": [
    "import pandas as pd\n",
    "import os\n",
    "import torch\n",
    "from transformers import Trainer, BertTokenizer\n",
    "import numpy as np\n",
    "\n",
    "\n",
    "os.chdir(\"/Users/lucasvilsen/Desktop/GrammatikTAK/\")\n",
    "\n",
    "test_sentences_verbs = pd.read_csv(\"Datasets/nutids-r-reviewed.csv\", sep=\"|\")"
   ]
  },
  {
   "cell_type": "code",
   "execution_count": 61,
   "metadata": {},
   "outputs": [
    {
     "data": {
      "text/plain": [
       "array(['Det er ikke altid nemt at forsvare din opførsel',\n",
       "       'Mange drenge interesserer sig for fodbold'], dtype=object)"
      ]
     },
     "execution_count": 61,
     "metadata": {},
     "output_type": "execute_result"
    }
   ],
   "source": [
    "correct_sentences = test_sentences_verbs[\"correct\"].values\n",
    "correct_sentences[:2]"
   ]
  },
  {
   "cell_type": "code",
   "execution_count": 62,
   "metadata": {},
   "outputs": [],
   "source": [
    "os.chdir(\"/Users/lucasvilsen/Desktop/GrammatikTAK/Datasets/\")\n",
    "filename = \"europarl-v7.da-en.da\"\n",
    "with open(filename, \"r\", encoding=\"UTF-8\") as file:\n",
    "    lines = file.readlines()"
   ]
  },
  {
   "cell_type": "code",
   "execution_count": 63,
   "metadata": {},
   "outputs": [
    {
     "data": {
      "text/plain": [
       "['Livscyklussen, miljøbelastningen ved fremstilling af biobrændstoffer bliver nævnt.',\n",
       " 'Hvem udregner livscyklussen for traditionelle brændstoffer?']"
      ]
     },
     "execution_count": 63,
     "metadata": {},
     "output_type": "execute_result"
    }
   ],
   "source": [
    "correct_sentences = lines[300000:305000]\n",
    "correct_sentences = [line.strip(\"\\n\") for line in correct_sentences]\n",
    "correct_sentences[:2]"
   ]
  },
  {
   "cell_type": "code",
   "execution_count": 64,
   "metadata": {},
   "outputs": [
    {
     "name": "stderr",
     "output_type": "stream",
     "text": [
      "2023-05-18 17:41:17 INFO: Checking for updates to resources.json in case models have been updated.  Note: this behavior can be turned off with download_method=None or download_method=DownloadMethod.REUSE_RESOURCES\n"
     ]
    },
    {
     "data": {
      "application/vnd.jupyter.widget-view+json": {
       "model_id": "942ff21fd42a498496b77e39a2fd35aa",
       "version_major": 2,
       "version_minor": 0
      },
      "text/plain": [
       "Downloading https://raw.githubusercontent.com/stanfordnlp/stanza-resources/main/resources_1.5.0.json:   0%|   …"
      ]
     },
     "metadata": {},
     "output_type": "display_data"
    },
    {
     "name": "stderr",
     "output_type": "stream",
     "text": [
      "2023-05-18 17:41:18 INFO: Loading these models for language: da (Danish):\n",
      "=======================\n",
      "| Processor | Package |\n",
      "-----------------------\n",
      "| tokenize  | ddt     |\n",
      "| pos       | ddt     |\n",
      "=======================\n",
      "\n",
      "2023-05-18 17:41:18 WARNING: GPU requested, but is not available!\n",
      "2023-05-18 17:41:18 INFO: Using device: cpu\n",
      "2023-05-18 17:41:18 INFO: Loading: tokenize\n",
      "2023-05-18 17:41:18 INFO: Loading: pos\n",
      "2023-05-18 17:41:18 INFO: Done loading processors!\n",
      "100%|██████████| 5000/5000 [14:50<00:00,  5.61it/s]\n"
     ]
    },
    {
     "name": "stdout",
     "output_type": "stream",
     "text": [
      "5000\n",
      "Updating\n",
      "Updated\n"
     ]
    }
   ],
   "source": [
    "os.chdir(\"/Users/lucasvilsen/Desktop/GrammatikTAK/\")\n",
    "\n",
    "import pickle\n",
    "import stanza\n",
    "from tqdm import tqdm\n",
    "\n",
    "def get_pos(x):\n",
    "    with open(\"FineTuneModels/pos_caching.pkl\", \"rb\") as f:\n",
    "        pos_list = pickle.load(f)\n",
    "    if len(pos_list) != len(x):\n",
    "        pos_list = []\n",
    "        pos_tagger = stanza.Pipeline(\"da\", processors='tokenize,pos', use_gpu=True, cache_directory='./cache', tokenize_pretokenized=True, n_process=4)\n",
    "        for sentence in tqdm(x):\n",
    "            pos = get_pos_tags(sentence, pos_tagger)\n",
    "            pos_list.append(pos)\n",
    "        print(len(pos_list))\n",
    "        print(\"Updating\")\n",
    "        with open(\"FineTuneModels/pos_caching.pkl\", \"wb\") as f:\n",
    "            pickle.dump(pos_list, f)\n",
    "        print(\"Updated\")\n",
    "    else:\n",
    "        print(\"pos_caching.pkl already exists\")\n",
    "    return pos_list\n",
    "\n",
    "def get_pos_tags(sentence, pos_tagger):\n",
    "    doc = pos_tagger(sentence)\n",
    "    features = [word.feats if word.feats else None for sentence in doc.sentences for word in sentence.words]\n",
    "    feature_dicts = turn_features_to_dicts(features)\n",
    "    results = [(word.upos, [word.start_char, word.end_char], feature_dicts[i]) for sentence in doc.sentences for i, word in enumerate(sentence.words)]\n",
    "    return results\n",
    "\n",
    "def turn_features_to_dicts(features):\n",
    "    feature_dicts = []\n",
    "    current_tense = None\n",
    "    for feature in features:\n",
    "        if feature is None:\n",
    "            feature_dicts.append({})\n",
    "            continue\n",
    "        feature_dict = {}\n",
    "        current_features = feature.split(\"|\")\n",
    "        for current_feature in current_features:\n",
    "            key, value = current_feature.split(\"=\")\n",
    "            if key == \"Tense\" and current_tense is None:\n",
    "                current_tense = value\n",
    "            feature_dict[key] = value\n",
    "        if \"Tense\" not in feature_dict and \"VerbForm\" in feature_dict and key is not None:\n",
    "            feature_dict[\"Tense\"] = \"Pres\" if current_tense is None else current_tense\n",
    "        feature_dicts.append(feature_dict)\n",
    "    return feature_dicts\n",
    "\n",
    "all_pos = get_pos(correct_sentences)"
   ]
  },
  {
   "cell_type": "code",
   "execution_count": 65,
   "metadata": {},
   "outputs": [],
   "source": [
    "os.chdir(\"/Users/lucasvilsen/Desktop/GrammatikTAK/Datasets/\")\n",
    "filename = \"europarl-v7.da-en.da\"\n",
    "with open(filename, \"r\", encoding=\"UTF-8\") as file:\n",
    "    lines = file.readlines()\n",
    "with open(\"nutids_r_bøjninger.pickle\", \"rb\") as f:\n",
    "    nutids_r_bøjninger = pickle.load(f)\n",
    "with open(\"nutids_r_stem.pickle\", \"rb\") as f:\n",
    "    nutids_r_stem = pickle.load(f)"
   ]
  },
  {
   "cell_type": "code",
   "execution_count": 66,
   "metadata": {},
   "outputs": [
    {
     "name": "stderr",
     "output_type": "stream",
     "text": [
      "100%|██████████| 5000/5000 [00:00<00:00, 44733.14it/s]\n"
     ]
    }
   ],
   "source": [
    "from tqdm import tqdm\n",
    "\n",
    "testset = []\n",
    "labels = []\n",
    "\n",
    "padded_words = []\n",
    "\n",
    "padding_left = 10\n",
    "padding_right = 4\n",
    "\n",
    "def get_pos_tags(index):\n",
    "    current_pos = all_pos[index]\n",
    "    return [current_pos[i][0] for i in range(len(current_pos))]\n",
    "\n",
    "og_index = 0\n",
    "\n",
    "for i in tqdm(range(len(correct_sentences))):\n",
    "    line = correct_sentences[i]\n",
    "    if len(str(line)) < 1 or str(line) == \"nan\":\n",
    "        continue\n",
    "    line = line.strip(\"\\n\")\n",
    "    true_words = line.split()\n",
    "    pos = get_pos_tags(i)\n",
    "    words = [\"<PAD>\"]*padding_left + pos + [\"<PAD>\"]*padding_right\n",
    "    true_padded_words = [\"<PAD>\"]*padding_left + true_words + [\"<PAD>\"]*padding_right\n",
    "    for i, word in enumerate(true_words):\n",
    "        try: stemmed = nutids_r_stem[word]\n",
    "        except: continue\n",
    "        if word[-1] == \"s\" or words[i+padding_left] != \"VERB\":\n",
    "            continue\n",
    "        if true_words[i-1].lower().strip() == \"og\": \n",
    "            og_index += 1\n",
    "            continue\n",
    "        if nutids_r_bøjninger[stemmed][0] == word:\n",
    "            labels.append(1)\n",
    "        else:\n",
    "            labels.append(0)\n",
    "        testset.append(\" \".join(words[i:i+padding_left+padding_right+1]))\n",
    "        padded_words.append(\" \".join(true_padded_words[i:i+padding_left+padding_right+1]))"
   ]
  },
  {
   "cell_type": "code",
   "execution_count": 67,
   "metadata": {},
   "outputs": [
    {
     "data": {
      "text/plain": [
       "250"
      ]
     },
     "execution_count": 67,
     "metadata": {},
     "output_type": "execute_result"
    }
   ],
   "source": [
    "og_index"
   ]
  },
  {
   "cell_type": "code",
   "execution_count": 68,
   "metadata": {},
   "outputs": [
    {
     "name": "stdout",
     "output_type": "stream",
     "text": [
      "Test size:  6870\n",
      "Label distribution: \n"
     ]
    },
    {
     "data": {
      "text/plain": [
       "1    3716\n",
       "0    3154\n",
       "Name: label, dtype: int64"
      ]
     },
     "execution_count": 68,
     "metadata": {},
     "output_type": "execute_result"
    }
   ],
   "source": [
    "df = pd.DataFrame(zip(testset, labels), columns=[\"comment_text\", \"label\"])\n",
    "print(\"Test size: \", len(df))\n",
    "print(\"Label distribution: \")\n",
    "df[\"label\"].value_counts()"
   ]
  },
  {
   "cell_type": "code",
   "execution_count": 69,
   "metadata": {},
   "outputs": [
    {
     "data": {
      "application/vnd.jupyter.widget-view+json": {
       "model_id": "c309ab5e84ae481689f6692238a5b221",
       "version_major": 2,
       "version_minor": 0
      },
      "text/plain": [
       "  0%|          | 0/859 [00:00<?, ?it/s]"
      ]
     },
     "metadata": {},
     "output_type": "display_data"
    }
   ],
   "source": [
    "os.chdir(\"/Users/lucasvilsen/Desktop/GrammatikTAK/\")\n",
    "model_path = \"FineTuneModels/models/nutidsrModel7-BERT\"\n",
    "model_name = \"Model 7-BERT\"\n",
    "\n",
    "class Dataset(torch.utils.data.Dataset):\n",
    "    def __init__(self, encodings, labels=None):\n",
    "        self.encodings = encodings\n",
    "        self.labels = labels\n",
    "\n",
    "    def __getitem__(self, idx):\n",
    "        item = {key: torch.tensor(val[idx]) for key, val in self.encodings.items()}\n",
    "        if self.labels:\n",
    "            item[\"labels\"] = torch.tensor(self.labels[idx])\n",
    "        return item\n",
    "\n",
    "    def __len__(self):\n",
    "        return len(self.encodings[\"input_ids\"])\n",
    "\n",
    "def load_model(path):\n",
    "    device = \"mps\"\n",
    "    torch.device(device)\n",
    "    classifier = torch.load(path, map_location=torch.device('cpu'))\n",
    "    classifier.eval()\n",
    "    classifier.to(device)\n",
    "    return Trainer(classifier)\n",
    "\n",
    "\n",
    "model = load_model(model_path)\n",
    "tokenizer = BertTokenizer.from_pretrained('Maltehb/danish-bert-botxo')\n",
    "\n",
    "def convert_dataset_to_dataloader(dataset):\n",
    "    test_dataset = Dataset(dataset)\n",
    "    return test_dataset\n",
    "\n",
    "def tokenize_sentences(sentences):\n",
    "    X_tokenized = tokenizer(sentences, padding=True, truncation=True)\n",
    "    return X_tokenized\n",
    "\n",
    "def get_predictions(dataloader):\n",
    "    raw_predictions, _, _ = model.predict(dataloader)\n",
    "    scores = torch.softmax(torch.from_numpy(raw_predictions), dim=1)\n",
    "    max_scores, final_prediction = torch.max(scores, dim=1)\n",
    "    final_prediction = np.argmax(raw_predictions, axis=1)\n",
    "    return [(p, s) for p, s in zip(final_prediction, max_scores)]\n",
    "\n",
    "\n",
    "def verbs_to_check(words, pos):\n",
    "    pos = pos\n",
    "    verbs = []\n",
    "    for i in range(len(pos)):\n",
    "        if pos[i][0] != \"VERB\":\n",
    "            verbs.append(False)\n",
    "        elif \"Tense\" not in pos[i][2].keys():\n",
    "            verbs.append(False)\n",
    "        elif pos[i][2][\"Tense\"] != \"Pres\":\n",
    "            verbs.append(False)\n",
    "        else:\n",
    "            verbs.append(True)\n",
    "    for i, bool in enumerate(verbs):\n",
    "        if not bool:\n",
    "            continue\n",
    "        word = words[i].strip(\",.!?():;\")\n",
    "        try: stemmed_verb = nutids_r_stem[word]\n",
    "        except: verbs[i] = False; continue\n",
    "    return verbs\n",
    "\n",
    "tokenized = tokenize_sentences(testset)\n",
    "dataloader = convert_dataset_to_dataloader(tokenized)\n",
    "predictions = get_predictions(dataloader)"
   ]
  },
  {
   "cell_type": "code",
   "execution_count": 70,
   "metadata": {},
   "outputs": [
    {
     "name": "stdout",
     "output_type": "stream",
     "text": [
      "  Evaluation Measure     Value\n",
      "0           Accuracy  0.981659\n",
      "1          Precision  0.985660\n",
      "2             Recall  0.980355\n",
      "3           F1 Score  0.983001\n"
     ]
    }
   ],
   "source": [
    "true_predictions = [p for (p, s) in predictions]\n",
    "true_score = [s for (p, s) in predictions]\n",
    "\n",
    "import pandas as pd\n",
    "from sklearn.metrics import accuracy_score, precision_score, recall_score, f1_score\n",
    "\n",
    "accuracy = accuracy_score(labels, true_predictions)\n",
    "precision = precision_score(labels, true_predictions)\n",
    "recall = recall_score(labels, true_predictions)\n",
    "f1 = f1_score(labels, true_predictions)\n",
    "\n",
    "data = {\n",
    "    'Evaluation Measure': ['Accuracy', 'Precision', 'Recall', 'F1 Score'],\n",
    "    'Value': [accuracy, precision, recall, f1]\n",
    "}\n",
    "df = pd.DataFrame(data)\n",
    "\n",
    "print(df)"
   ]
  },
  {
   "cell_type": "markdown",
   "metadata": {},
   "source": [
    "Accuracy before disqualifying \"og: 97.8%\n",
    "\n",
    "Accuracy after disqualifying \"og\": 98.9%"
   ]
  },
  {
   "cell_type": "code",
   "execution_count": 83,
   "metadata": {},
   "outputs": [
    {
     "data": {
      "image/png": "[encoded data removed]",
      "text/plain": [
       "<Figure size 640x480 with 1 Axes>"
      ]
     },
     "metadata": {},
     "output_type": "display_data"
    },
    {
     "data": {
      "image/png": "[encoded data removed]",
      "text/plain": [
       "<Figure size 640x480 with 1 Axes>"
      ]
     },
     "metadata": {},
     "output_type": "display_data"
    }
   ],
   "source": [
    "import matplotlib.pyplot as plt\n",
    "\n",
    "def calculate_growth(previous, current):\n",
    "    if previous == 0:\n",
    "        return 0\n",
    "    return (current - previous) / previous * 100\n",
    "\n",
    "def test_cutoff(value):\n",
    "    new_predictions = [p if s > value else None for (p, s) in predictions]\n",
    "    true = sum([1 if p == t else 0 for (p, t) in zip(new_predictions, labels)])\n",
    "    no_guess = sum([1 if p is None else 0 for p in new_predictions])\n",
    "    wrong = sum([1 if p != t and p is not None else 0 for (p, t) in zip(new_predictions, labels)])\n",
    "    return true/len(labels), no_guess/len(labels), wrong/len(labels)\n",
    "\n",
    "def test_all_values():\n",
    "    values = range(900, 1000)\n",
    "    trues, no_guesss, wrongs = [], [], []\n",
    "    for value in values:\n",
    "        true, no_guess, wrong = test_cutoff(value/1000)\n",
    "        trues.append(true)\n",
    "        no_guesss.append(no_guess)\n",
    "        wrongs.append(wrong)\n",
    "\n",
    "    plt.plot(values, trues, label='True Predictions')\n",
    "    plt.plot(values, no_guesss, label='No Guess')\n",
    "    plt.plot(values, wrongs, label='Wrong Predictions')\n",
    "\n",
    "    plt.xlabel('Threshold Value')\n",
    "    plt.ylabel('Count')\n",
    "    plt.title('Counts vs. Threshold Value')\n",
    "    plt.legend()\n",
    "    plt.grid(True)\n",
    "    plt.show()\n",
    "\n",
    "    previous_true = 0\n",
    "    previous_no_guess = 0\n",
    "    previous_wrong = 0\n",
    "\n",
    "    trues, no_guesss, wrongs = [], [], []\n",
    "\n",
    "    for value in values:\n",
    "        true, no_guess, wrong = test_cutoff(value/1000)\n",
    "        true_growth = calculate_growth(previous_true, true)\n",
    "        no_guess_growth = calculate_growth(previous_no_guess, no_guess)\n",
    "        wrong_growth = calculate_growth(previous_wrong, wrong)\n",
    "\n",
    "        trues.append(true_growth)\n",
    "        no_guesss.append(no_guess_growth)\n",
    "        wrongs.append(wrong_growth)\n",
    "\n",
    "        previous_true = true\n",
    "        previous_no_guess = no_guess\n",
    "        previous_wrong = wrong\n",
    "\n",
    "    plt.plot(values, trues, label='True Predictions')\n",
    "    plt.plot(values, no_guesss, label='No Guess')\n",
    "    plt.plot(values, wrongs, label='Wrong Predictions')\n",
    "\n",
    "    plt.xlabel('Threshold Value')\n",
    "    plt.ylabel('Relative Growth (%)')\n",
    "    plt.title('Relative growth')\n",
    "    plt.legend()\n",
    "    plt.grid(True)\n",
    "    plt.show()\n",
    "\n",
    "test_all_values()\n",
    "    \n"
   ]
  },
  {
   "cell_type": "code",
   "execution_count": 80,
   "metadata": {},
   "outputs": [
    {
     "name": "stdout",
     "output_type": "stream",
     "text": [
      "|   Cutoff |   Correct (%) |   No Guess (%) |   Wrong (%) |\n",
      "|---------:|--------------:|---------------:|------------:|\n",
      "|     0.5  |         98.17 |           0    |        1.83 |\n",
      "|     0.7  |         98.01 |           0.31 |        1.69 |\n",
      "|     0.8  |         97.79 |           0.71 |        1.5  |\n",
      "|     0.9  |         97.07 |           1.82 |        1.11 |\n",
      "|     0.95 |         96.07 |           3.1  |        0.83 |\n",
      "|     0.98 |         93.96 |           5.56 |        0.48 |\n",
      "|     0.99 |         91.94 |           7.69 |        0.38 |\n"
     ]
    }
   ],
   "source": [
    "table_data = [\n",
    "    (\"0.50\", test_cutoff(0.50)),\n",
    "    (\"0.70\", test_cutoff(0.70)),\n",
    "    (\"0.80\", test_cutoff(0.80)),\n",
    "    (\"0.90\", test_cutoff(0.90)),\n",
    "    (\"0.95\", test_cutoff(0.95)),\n",
    "    (\"0.98\", test_cutoff(0.98)),\n",
    "    (\"0.99\", test_cutoff(0.99))\n",
    "]\n",
    "\n",
    "for i in range(len(table_data)):\n",
    "    _1 = round(table_data[i][1][0]*100, 2)\n",
    "    _2 = round(table_data[i][1][1]*100, 2)\n",
    "    _3 = round(table_data[i][1][2]*100, 2)\n",
    "    table_data[i] = (table_data[i][0], (_1, _2, _3))\n",
    "\n",
    "# Find the highest accuracy, lowest wrong, and lowest no-guess percentages\n",
    "highest_accuracy = max(table_data, key=lambda x: x[1][0])\n",
    "lowest_wrong = min(table_data, key=lambda x: x[1][2])\n",
    "lowest_no_guess = min(table_data, key=lambda x: x[1][1])\n",
    "\n",
    "# Create the table\n",
    "table = []\n",
    "headers = [\"Cutoff\", \"Correct (%)\", \"No Guess (%)\", \"Wrong (%)\"]\n",
    "\n",
    "for data in table_data:\n",
    "    row = [data[0]] + list(data[1])\n",
    "    table.append(row)\n",
    "\n",
    "table_str = tabulate(table, headers, tablefmt=\"pipe\")\n",
    "\n",
    "# Print the table\n",
    "print(table_str)"
   ]
  },
  {
   "cell_type": "markdown",
   "metadata": {},
   "source": [
    "## Error display:"
   ]
  },
  {
   "cell_type": "code",
   "execution_count": 19,
   "metadata": {},
   "outputs": [
    {
     "name": "stdout",
     "output_type": "stream",
     "text": [
      "programmer til beskyttelse af barentsee, og derfor beder jeg dem gennemgå et brevudkast, som beskriver\n",
      "\n",
      "for det sker af og til, at man lader sig repræsentere <PAD> <PAD> <PAD> <PAD>\n",
      "\n",
      "<PAD> Så næste gang du har brug for en pause, gå ind i parken, ånd\n",
      "\n",
      "gå ind i parken, ånd dybt og lad naturens skønhed omfavne dig <PAD> <PAD> <PAD>\n"
     ]
    }
   ],
   "source": [
    "errors_index = [True if p != t else False for (p, t) in zip(true_predictions, labels)]\n",
    "errors = [padded_words[i] for i in range(len(padded_words)) if errors_index[i]]\n",
    "print(*errors, sep=\"\\n\\n\")"
   ]
  }
 ],
 "metadata": {
  "kernelspec": {
   "display_name": "Python 3.11.2 64-bit",
   "language": "python",
   "name": "python3"
  },
  "language_info": {
   "codemirror_mode": {
    "name": "ipython",
    "version": 3
   },
   "file_extension": ".py",
   "mimetype": "text/x-python",
   "name": "python",
   "nbconvert_exporter": "python",
   "pygments_lexer": "ipython3",
   "version": "3.11.2"
  },
  "orig_nbformat": 4,
  "vscode": {
   "interpreter": {
    "hash": "b0fa6594d8f4cbf19f97940f81e996739fb7646882a419484c72d19e05852a7e"
   }
  }
 },
 "nbformat": 4,
 "nbformat_minor": 2
}
