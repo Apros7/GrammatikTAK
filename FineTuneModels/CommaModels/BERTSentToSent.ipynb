{
 "cells": [
  {
   "cell_type": "code",
   "execution_count": 29,
   "metadata": {},
   "outputs": [],
   "source": [
    "from transformers import BertTokenizer, BertModel, BertForSequenceClassification, TrainingArguments, Trainer\n",
    "import pandas as pd\n",
    "from sklearn.model_selection import train_test_split\n",
    "import torch\n",
    "from tqdm import tqdm\n",
    "import time"
   ]
  },
  {
   "cell_type": "markdown",
   "metadata": {},
   "source": [
    "### Loading data"
   ]
  },
  {
   "cell_type": "code",
   "execution_count": 23,
   "metadata": {},
   "outputs": [
    {
     "data": {
      "text/plain": [
       "('i mellemtiden ønsker jeg som også en del kolleger har anmodet om at vi iagttager et minuts stilhed til minde om ofrene for bla stormene i de medlemslande der blev ramt',\n",
       " 'i mellemtiden ønsker jeg, som også en del kolleger har anmodet om, at vi iagttager et minuts stilhed til minde om ofrene for bla stormene i de medlemslande, der blev ramt')"
      ]
     },
     "execution_count": 23,
     "metadata": {},
     "output_type": "execute_result"
    }
   ],
   "source": [
    "data = pd.read_csv(\"/Users/lucasvilsen/Desktop/GrammatikTAK/Datasets/SentToSent.csv\", sep=\";\")\n",
    "lines_without_comma = data[\"withoutComma\"].to_list()\n",
    "lines_with_comma = data[\"withComma\"].to_list()\n",
    "lines_without_comma[4], lines_with_comma[4]"
   ]
  },
  {
   "cell_type": "code",
   "execution_count": 24,
   "metadata": {},
   "outputs": [],
   "source": [
    "tokenizer = BertTokenizer.from_pretrained('Maltehb/danish-bert-botxo')"
   ]
  },
  {
   "cell_type": "code",
   "execution_count": 32,
   "metadata": {},
   "outputs": [
    {
     "name": "stderr",
     "output_type": "stream",
     "text": [
      "100%|██████████| 1769116/1769116 [00:00<00:00, 3753225.97it/s]\n"
     ]
    },
    {
     "data": {
      "text/plain": [
       "3064"
      ]
     },
     "execution_count": 32,
     "metadata": {},
     "output_type": "execute_result"
    }
   ],
   "source": [
    "X_train, X_val, y_train, y_val = train_test_split(lines_without_comma, lines_with_comma, test_size=0.1, random_state=1212)\n",
    "max_x_tokenized = max([len(x) for x in tqdm(X_train)])\n",
    "max_x_tokenized"
   ]
  },
  {
   "cell_type": "code",
   "execution_count": 30,
   "metadata": {},
   "outputs": [
    {
     "name": "stdout",
     "output_type": "stream",
     "text": [
      "X_val_tokenized done...\n",
      "Time taken:  70.90593671798706\n",
      "Expected time for X_train:  638.15381026268\n",
      "X_train_tokenized done...\n"
     ]
    },
    {
     "name": "stderr",
     "output_type": "stream",
     "text": [
      "100%|██████████| 3/3 [00:00<00:00, 39444.87it/s]\n"
     ]
    },
    {
     "data": {
      "text/plain": [
       "14"
      ]
     },
     "execution_count": 30,
     "metadata": {},
     "output_type": "execute_result"
    }
   ],
   "source": [
    "start_time = time.time()\n",
    "X_val_tokenized = tokenizer(X_val)\n",
    "print(\"X_val_tokenized done...\")\n",
    "print(\"Time taken: \", time.time() - start_time)\n",
    "print(\"Expected time for X_train: \", (time.time() - start_time) * 9)\n",
    "X_train_tokenized = tokenizer(X_train)\n",
    "print(\"X_train_tokenized done...\")\n",
    "max_x_tokenized = max([len(x) for x in tqdm(X_train_tokenized)])\n",
    "max_x_tokenized"
   ]
  },
  {
   "cell_type": "code",
   "execution_count": 33,
   "metadata": {},
   "outputs": [
    {
     "data": {
      "text/plain": [
       "device(type='mps')"
      ]
     },
     "execution_count": 33,
     "metadata": {},
     "output_type": "execute_result"
    }
   ],
   "source": [
    "device = \"mps\"\n",
    "torch.device(device)"
   ]
  },
  {
   "cell_type": "code",
   "execution_count": null,
   "metadata": {},
   "outputs": [],
   "source": []
  }
 ],
 "metadata": {
  "kernelspec": {
   "display_name": "Python 3.11.2 64-bit",
   "language": "python",
   "name": "python3"
  },
  "language_info": {
   "codemirror_mode": {
    "name": "ipython",
    "version": 3
   },
   "file_extension": ".py",
   "mimetype": "text/x-python",
   "name": "python",
   "nbconvert_exporter": "python",
   "pygments_lexer": "ipython3",
   "version": "3.11.2"
  },
  "orig_nbformat": 4,
  "vscode": {
   "interpreter": {
    "hash": "b0fa6594d8f4cbf19f97940f81e996739fb7646882a419484c72d19e05852a7e"
   }
  }
 },
 "nbformat": 4,
 "nbformat_minor": 2
}
