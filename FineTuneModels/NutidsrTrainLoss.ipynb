{
 "cells": [
  {
   "cell_type": "code",
   "execution_count": 13,
   "metadata": {},
   "outputs": [],
   "source": [
    "import pickle\n",
    "import os\n",
    "import pandas as pd\n",
    "\n",
    "os.chdir(\"/Users/lucasvilsen/Desktop/GrammatikTAK\")\n",
    "predictions = pickle.load(open(\"FineTuneModels/predictions.pickle\", \"rb\"))\n",
    "\n",
    "df = pd.read_csv(\"Datasets/EuroparlNutidsr_trainset_verbs_with_words.csv\", sep=\";\")\n",
    "\n",
    "words = list(df[\"words\"].values)\n",
    "labels = list(df[\"label\"].values)"
   ]
  },
  {
   "cell_type": "code",
   "execution_count": 14,
   "metadata": {},
   "outputs": [],
   "source": [
    "words_to_ignore = [\"så\", \"kan\", \"kunne\"]"
   ]
  },
  {
   "cell_type": "code",
   "execution_count": 16,
   "metadata": {},
   "outputs": [],
   "source": [
    "bad_words = []\n",
    "for i, (p, l) in enumerate(zip(predictions, labels)):\n",
    "    if p != l and words[i].split()[15] not in words_to_ignore:\n",
    "        bad_words.append(words[i])"
   ]
  },
  {
   "cell_type": "code",
   "execution_count": 17,
   "metadata": {},
   "outputs": [
    {
     "data": {
      "text/plain": [
       "39043"
      ]
     },
     "execution_count": 17,
     "metadata": {},
     "output_type": "execute_result"
    }
   ],
   "source": [
    "len(bad_words)"
   ]
  },
  {
   "cell_type": "markdown",
   "metadata": {},
   "source": [
    "Notes about potential upgrades to training:\n",
    "- Introduce comma to testset\n",
    "- Hvis verb til at starte med altid med nutids-r?"
   ]
  },
  {
   "cell_type": "code",
   "execution_count": 18,
   "metadata": {},
   "outputs": [
    {
     "data": {
      "text/plain": [
       "['er grundlaget for de europæiske programmer til beskyttelse af Barentsee, og derfor beder jeg Dem gennemgå et brevudkast, som beskriver de',\n",
       " '<PAD> <PAD> <PAD> <PAD> <PAD> <PAD> <PAD> <PAD> <PAD> <PAD> <PAD> <PAD> <PAD> Det vil, håber jeg, blive behandlet i en',\n",
       " 'navnlig sikkerhedsaspekterne for varer ad landevej, med jernbane og ad indre vandveje og hurtigst muligt optage disse, den del af den',\n",
       " 'ad indre vandveje og hurtigst muligt optage disse, den del af den gældende fællesskabsret, og forelægge dem for ansøgerlandene. <PAD> <PAD>',\n",
       " '<PAD> <PAD> <PAD> <PAD> <PAD> <PAD> <PAD> <PAD> Fru formand, her i Parlamentet henledes med rette opmærksomheden med jævne mellemrum på',\n",
       " '<PAD> <PAD> <PAD> <PAD> <PAD> <PAD> <PAD> <PAD> Det er de unge, der forsvinder, de får uddannelser og finder arbejde uden',\n",
       " '<PAD> <PAD> <PAD> <PAD> <PAD> Det er de unge, der forsvinder, de får uddannelser og finder arbejde uden for landområderne, hvilket',\n",
       " '<PAD> <PAD> <PAD> <PAD> <PAD> <PAD> <PAD> <PAD> <PAD> <PAD> <PAD> <PAD> <PAD> <PAD> Derfor gå vi ind for en landbrugspolitik',\n",
       " 'offentlige myndigheder, hvor de supplerer hinanden og aldrig forhindrer eller udelukker hinanden, er den, der skaber velstand i samfundet og nye',\n",
       " '<PAD> <PAD> <PAD> <PAD> <PAD> <PAD> <PAD> <PAD> <PAD> Men Kommissionen, der skulle fremlægge retningslinjer, gør dette modstræbende og vagt. <PAD>',\n",
       " '<PAD> I den forbindelse må Europa som helhed og de enkelte medlemsstater hver for sig udnytte deres midler og muligheder bedst',\n",
       " '<PAD> <PAD> <PAD> <PAD> <PAD> Jeg vil, mine damer og herrer, her blandt Dem gerne forsikre Dem om, at Deres bemærkninger',\n",
       " '<PAD> <PAD> <PAD> <PAD> <PAD> <PAD> Jeg vil altså, hvis De tillader det, hr. parlamentsmedlem, vente med at indvie Dem i',\n",
       " 'den respekt, over for hvilken jeg er meget lydhør, og for den adfærdskodeks, der er forbinder vores to institutioner. <PAD> <PAD>',\n",
       " 'er der grund til at fremhæve den afgørende betydning, små og mellemstore virksomheder har som beskæftiger og motor for den regionale',\n",
       " 'landbrugs- og fiskerimulighederne i disse lande, som ofte rammes af Den Europæiske Unions ufølsomme politikker, fremme af aktive jobskabelsespolitikker, især til',\n",
       " 'erhvervsdrivende i et mål 1-område, det vil sige i Brandenburg i Forbundsrepublikken Tyskland, og derfor kender de små og mellemstore virksomheders',\n",
       " '<PAD> <PAD> <PAD> <PAD> <PAD> <PAD> <PAD> <PAD> <PAD> <PAD> <PAD> Ved at lade dem udvikle skræddersyede planer for de pågældende',\n",
       " '<PAD> Ved at lade dem udvikle skræddersyede planer for de pågældende regioner og om nødvendigt give finansiel støtte kan der opnås',\n",
       " 'og præcise analyse samt de henstillinger, den indeholder, og Deres bemærkninger, mine damer og herrer, være til hjælp for Kommissionen i']"
      ]
     },
     "execution_count": 18,
     "metadata": {},
     "output_type": "execute_result"
    }
   ],
   "source": [
    "bad_words[:20]"
   ]
  },
  {
   "cell_type": "code",
   "execution_count": null,
   "metadata": {},
   "outputs": [],
   "source": []
  }
 ],
 "metadata": {
  "kernelspec": {
   "display_name": "Python 3.11.2 64-bit",
   "language": "python",
   "name": "python3"
  },
  "language_info": {
   "codemirror_mode": {
    "name": "ipython",
    "version": 3
   },
   "file_extension": ".py",
   "mimetype": "text/x-python",
   "name": "python",
   "nbconvert_exporter": "python",
   "pygments_lexer": "ipython3",
   "version": "3.11.2"
  },
  "orig_nbformat": 4,
  "vscode": {
   "interpreter": {
    "hash": "b0fa6594d8f4cbf19f97940f81e996739fb7646882a419484c72d19e05852a7e"
   }
  }
 },
 "nbformat": 4,
 "nbformat_minor": 2
}
