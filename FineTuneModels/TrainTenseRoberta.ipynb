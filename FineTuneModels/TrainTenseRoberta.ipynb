{
  "cells": [
    {
      "cell_type": "code",
      "execution_count": 1,
      "metadata": {
        "colab": {
          "base_uri": "https://localhost:8080/"
        },
        "id": "bxlWOmhgV-Z_",
        "outputId": "4650fc6e-6970-4554-fb43-c065cefa4bbe"
      },
      "outputs": [
        {
          "name": "stdout",
          "output_type": "stream",
          "text": [
            "Looking in indexes: https://pypi.org/simple, https://us-python.pkg.dev/colab-wheels/public/simple/\n",
            "Collecting transformers\n",
            "  Downloading transformers-4.27.3-py3-none-any.whl (6.8 MB)\n",
            "\u001b[2K     \u001b[90m━━━━━━━━━━━━━━━━━━━━━━━━━━━━━━━━━━━━━━━━\u001b[0m \u001b[32m6.8/6.8 MB\u001b[0m \u001b[31m63.4 MB/s\u001b[0m eta \u001b[36m0:00:00\u001b[0m\n",
            "\u001b[?25hRequirement already satisfied: packaging>=20.0 in /usr/local/lib/python3.9/dist-packages (from transformers) (23.0)\n",
            "Requirement already satisfied: filelock in /usr/local/lib/python3.9/dist-packages (from transformers) (3.10.1)\n",
            "Requirement already satisfied: tqdm>=4.27 in /usr/local/lib/python3.9/dist-packages (from transformers) (4.65.0)\n",
            "Collecting huggingface-hub<1.0,>=0.11.0\n",
            "  Downloading huggingface_hub-0.13.3-py3-none-any.whl (199 kB)\n",
            "\u001b[2K     \u001b[90m━━━━━━━━━━━━━━━━━━━━━━━━━━━━━━━━━━━━━━\u001b[0m \u001b[32m199.8/199.8 KB\u001b[0m \u001b[31m11.9 MB/s\u001b[0m eta \u001b[36m0:00:00\u001b[0m\n",
            "\u001b[?25hRequirement already satisfied: regex!=2019.12.17 in /usr/local/lib/python3.9/dist-packages (from transformers) (2022.10.31)\n",
            "Requirement already satisfied: pyyaml>=5.1 in /usr/local/lib/python3.9/dist-packages (from transformers) (6.0)\n",
            "Requirement already satisfied: requests in /usr/local/lib/python3.9/dist-packages (from transformers) (2.27.1)\n",
            "Collecting tokenizers!=0.11.3,<0.14,>=0.11.1\n",
            "  Downloading tokenizers-0.13.2-cp39-cp39-manylinux_2_17_x86_64.manylinux2014_x86_64.whl (7.6 MB)\n",
            "\u001b[2K     \u001b[90m━━━━━━━━━━━━━━━━━━━━━━━━━━━━━━━━━━━━━━━━\u001b[0m \u001b[32m7.6/7.6 MB\u001b[0m \u001b[31m22.5 MB/s\u001b[0m eta \u001b[36m0:00:00\u001b[0m\n",
            "\u001b[?25hRequirement already satisfied: numpy>=1.17 in /usr/local/lib/python3.9/dist-packages (from transformers) (1.22.4)\n",
            "Requirement already satisfied: typing-extensions>=3.7.4.3 in /usr/local/lib/python3.9/dist-packages (from huggingface-hub<1.0,>=0.11.0->transformers) (4.5.0)\n",
            "Requirement already satisfied: certifi>=2017.4.17 in /usr/local/lib/python3.9/dist-packages (from requests->transformers) (2022.12.7)\n",
            "Requirement already satisfied: charset-normalizer~=2.0.0 in /usr/local/lib/python3.9/dist-packages (from requests->transformers) (2.0.12)\n",
            "Requirement already satisfied: urllib3<1.27,>=1.21.1 in /usr/local/lib/python3.9/dist-packages (from requests->transformers) (1.26.15)\n",
            "Requirement already satisfied: idna<4,>=2.5 in /usr/local/lib/python3.9/dist-packages (from requests->transformers) (3.4)\n",
            "Installing collected packages: tokenizers, huggingface-hub, transformers\n",
            "Successfully installed huggingface-hub-0.13.3 tokenizers-0.13.2 transformers-4.27.3\n",
            "Looking in indexes: https://pypi.org/simple, https://us-python.pkg.dev/colab-wheels/public/simple/\n",
            "Requirement already satisfied: torch in /usr/local/lib/python3.9/dist-packages (1.13.1+cu116)\n",
            "Requirement already satisfied: typing-extensions in /usr/local/lib/python3.9/dist-packages (from torch) (4.5.0)\n"
          ]
        }
      ],
      "source": [
        "!pip install transformers\n",
        "!pip install torch"
      ]
    },
    {
      "cell_type": "code",
      "execution_count": 13,
      "metadata": {
        "id": "TUxGzuG8hKVr"
      },
      "outputs": [],
      "source": [
        "from transformers import RobertaTokenizer, RobertaForCausalLM\n",
        "import pandas as pd\n",
        "import torch\n",
        "from torch.utils.data import Dataset, DataLoader\n",
        "from transformers import BertTokenizer, BertModel, BertForSequenceClassification, TrainingArguments, Trainer\n",
        "import os\n",
        "from sklearn.model_selection import train_test_split\n",
        "from torch.utils.data import Dataset, DataLoader\n",
        "from tqdm import tqdm"
      ]
    },
    {
      "cell_type": "code",
      "execution_count": 17,
      "metadata": {
        "colab": {
          "base_uri": "https://localhost:8080/"
        },
        "id": "316f2A73hNQC",
        "outputId": "f90bd579-8936-4852-de32-a621988ce2cd"
      },
      "outputs": [
        {
          "data": {
            "text/plain": [
              "['1679821796.614989', '1679824559.317385', '1679783106.1030889']"
            ]
          },
          "execution_count": 17,
          "metadata": {},
          "output_type": "execute_result"
        }
      ],
      "source": [
        "current_dir = os.getcwd()\n",
        "os.chdir(\"/content/data\")\n",
        "all_files = os.listdir(os.curdir)\n",
        "all_files.pop(1) # deleting .ipynb_checkpoints\n",
        "all_files\n"
      ]
    },
    {
      "cell_type": "code",
      "execution_count": 18,
      "metadata": {
        "colab": {
          "base_uri": "https://localhost:8080/",
          "height": 424
        },
        "id": "xiLTUM1YhovL",
        "outputId": "6aa751b5-9590-4ebe-9ec2-9f87d899e6b6"
      },
      "outputs": [
        {
          "data": {
            "text/html": [
              "\n",
              "  <div id=\"df-9ff4105b-7bbd-4412-b1bd-77a4672a5190\">\n",
              "    <div class=\"colab-df-container\">\n",
              "      <div>\n",
              "<style scoped>\n",
              "    .dataframe tbody tr th:only-of-type {\n",
              "        vertical-align: middle;\n",
              "    }\n",
              "\n",
              "    .dataframe tbody tr th {\n",
              "        vertical-align: top;\n",
              "    }\n",
              "\n",
              "    .dataframe thead th {\n",
              "        text-align: right;\n",
              "    }\n",
              "</style>\n",
              "<table border=\"1\" class=\"dataframe\">\n",
              "  <thead>\n",
              "    <tr style=\"text-align: right;\">\n",
              "      <th></th>\n",
              "      <th>lemma</th>\n",
              "      <th>correct</th>\n",
              "    </tr>\n",
              "  </thead>\n",
              "  <tbody>\n",
              "    <tr>\n",
              "      <th>0</th>\n",
              "      <td>&lt;pad&gt; &lt;pad&gt; 46 lastbiler leverer sand til mest...</td>\n",
              "      <td>sand til mesterskab 05 &lt;pad&gt; &lt;pad&gt;</td>\n",
              "    </tr>\n",
              "    <tr>\n",
              "      <th>1</th>\n",
              "      <td>kl 16 25 billund varme op til de danske</td>\n",
              "      <td>kl 16 25 billund varmer op til de danske</td>\n",
              "    </tr>\n",
              "    <tr>\n",
              "      <th>2</th>\n",
              "      <td>mesterskaber i beachvolley der spille også hån...</td>\n",
              "      <td>mesterskaber i beachvolley der spilles også hå...</td>\n",
              "    </tr>\n",
              "    <tr>\n",
              "      <th>3</th>\n",
              "      <td>badestrande men i den komme weekend er byen vært</td>\n",
              "      <td>badestrande men i den kommende weekend er byen...</td>\n",
              "    </tr>\n",
              "    <tr>\n",
              "      <th>4</th>\n",
              "      <td>i beachvolley - vi hørte, at nyborg kommune har</td>\n",
              "      <td>i beachvolley - vi hørte, at nyborg kommune har</td>\n",
              "    </tr>\n",
              "    <tr>\n",
              "      <th>...</th>\n",
              "      <td>...</td>\n",
              "      <td>...</td>\n",
              "    </tr>\n",
              "    <tr>\n",
              "      <th>47651</th>\n",
              "      <td>vasken, så kan de ansætte dog i et vist</td>\n",
              "      <td>vasken, så kan de ansatte dog i et vist</td>\n",
              "    </tr>\n",
              "    <tr>\n",
              "      <th>47652</th>\n",
              "      <td>i et vist omfang trøste sig med, at der</td>\n",
              "      <td>i et vist omfang trøste sig med, at der</td>\n",
              "    </tr>\n",
              "    <tr>\n",
              "      <th>47653</th>\n",
              "      <td>der næsten ingen arbejsløshed være i området, ...</td>\n",
              "      <td>der næsten ingen arbejsløshed er i området, så...</td>\n",
              "    </tr>\n",
              "    <tr>\n",
              "      <th>47654</th>\n",
              "      <td>i området, så der være gode udsigter for komme</td>\n",
              "      <td>i området, så der er gode udsigter for komme</td>\n",
              "    </tr>\n",
              "    <tr>\n",
              "      <th>47655</th>\n",
              "      <td>er gode udsigter for komme i job på andre</td>\n",
              "      <td>er gode udsigter for komme i job på andre</td>\n",
              "    </tr>\n",
              "  </tbody>\n",
              "</table>\n",
              "<p>140961 rows × 2 columns</p>\n",
              "</div>\n",
              "      <button class=\"colab-df-convert\" onclick=\"convertToInteractive('df-9ff4105b-7bbd-4412-b1bd-77a4672a5190')\"\n",
              "              title=\"Convert this dataframe to an interactive table.\"\n",
              "              style=\"display:none;\">\n",
              "        \n",
              "  <svg xmlns=\"http://www.w3.org/2000/svg\" height=\"24px\"viewBox=\"0 0 24 24\"\n",
              "       width=\"24px\">\n",
              "    <path d=\"M0 0h24v24H0V0z\" fill=\"none\"/>\n",
              "    <path d=\"M18.56 5.44l.94 2.06.94-2.06 2.06-.94-2.06-.94-.94-2.06-.94 2.06-2.06.94zm-11 1L8.5 8.5l.94-2.06 2.06-.94-2.06-.94L8.5 2.5l-.94 2.06-2.06.94zm10 10l.94 2.06.94-2.06 2.06-.94-2.06-.94-.94-2.06-.94 2.06-2.06.94z\"/><path d=\"M17.41 7.96l-1.37-1.37c-.4-.4-.92-.59-1.43-.59-.52 0-1.04.2-1.43.59L10.3 9.45l-7.72 7.72c-.78.78-.78 2.05 0 2.83L4 21.41c.39.39.9.59 1.41.59.51 0 1.02-.2 1.41-.59l7.78-7.78 2.81-2.81c.8-.78.8-2.07 0-2.86zM5.41 20L4 18.59l7.72-7.72 1.47 1.35L5.41 20z\"/>\n",
              "  </svg>\n",
              "      </button>\n",
              "      \n",
              "  <style>\n",
              "    .colab-df-container {\n",
              "      display:flex;\n",
              "      flex-wrap:wrap;\n",
              "      gap: 12px;\n",
              "    }\n",
              "\n",
              "    .colab-df-convert {\n",
              "      background-color: #E8F0FE;\n",
              "      border: none;\n",
              "      border-radius: 50%;\n",
              "      cursor: pointer;\n",
              "      display: none;\n",
              "      fill: #1967D2;\n",
              "      height: 32px;\n",
              "      padding: 0 0 0 0;\n",
              "      width: 32px;\n",
              "    }\n",
              "\n",
              "    .colab-df-convert:hover {\n",
              "      background-color: #E2EBFA;\n",
              "      box-shadow: 0px 1px 2px rgba(60, 64, 67, 0.3), 0px 1px 3px 1px rgba(60, 64, 67, 0.15);\n",
              "      fill: #174EA6;\n",
              "    }\n",
              "\n",
              "    [theme=dark] .colab-df-convert {\n",
              "      background-color: #3B4455;\n",
              "      fill: #D2E3FC;\n",
              "    }\n",
              "\n",
              "    [theme=dark] .colab-df-convert:hover {\n",
              "      background-color: #434B5C;\n",
              "      box-shadow: 0px 1px 3px 1px rgba(0, 0, 0, 0.15);\n",
              "      filter: drop-shadow(0px 1px 2px rgba(0, 0, 0, 0.3));\n",
              "      fill: #FFFFFF;\n",
              "    }\n",
              "  </style>\n",
              "\n",
              "      <script>\n",
              "        const buttonEl =\n",
              "          document.querySelector('#df-9ff4105b-7bbd-4412-b1bd-77a4672a5190 button.colab-df-convert');\n",
              "        buttonEl.style.display =\n",
              "          google.colab.kernel.accessAllowed ? 'block' : 'none';\n",
              "\n",
              "        async function convertToInteractive(key) {\n",
              "          const element = document.querySelector('#df-9ff4105b-7bbd-4412-b1bd-77a4672a5190');\n",
              "          const dataTable =\n",
              "            await google.colab.kernel.invokeFunction('convertToInteractive',\n",
              "                                                     [key], {});\n",
              "          if (!dataTable) return;\n",
              "\n",
              "          const docLinkHtml = 'Like what you see? Visit the ' +\n",
              "            '<a target=\"_blank\" href=https://colab.research.google.com/notebooks/data_table.ipynb>data table notebook</a>'\n",
              "            + ' to learn more about interactive tables.';\n",
              "          element.innerHTML = '';\n",
              "          dataTable['output_type'] = 'display_data';\n",
              "          await google.colab.output.renderOutput(dataTable, element);\n",
              "          const docLink = document.createElement('div');\n",
              "          docLink.innerHTML = docLinkHtml;\n",
              "          element.appendChild(docLink);\n",
              "        }\n",
              "      </script>\n",
              "    </div>\n",
              "  </div>\n",
              "  "
            ],
            "text/plain": [
              "                                                   lemma  \\\n",
              "0      <pad> <pad> 46 lastbiler leverer sand til mest...   \n",
              "1                kl 16 25 billund varme op til de danske   \n",
              "2      mesterskaber i beachvolley der spille også hån...   \n",
              "3       badestrande men i den komme weekend er byen vært   \n",
              "4        i beachvolley - vi hørte, at nyborg kommune har   \n",
              "...                                                  ...   \n",
              "47651            vasken, så kan de ansætte dog i et vist   \n",
              "47652            i et vist omfang trøste sig med, at der   \n",
              "47653  der næsten ingen arbejsløshed være i området, ...   \n",
              "47654     i området, så der være gode udsigter for komme   \n",
              "47655          er gode udsigter for komme i job på andre   \n",
              "\n",
              "                                                 correct  \n",
              "0                     sand til mesterskab 05 <pad> <pad>  \n",
              "1               kl 16 25 billund varmer op til de danske  \n",
              "2      mesterskaber i beachvolley der spilles også hå...  \n",
              "3      badestrande men i den kommende weekend er byen...  \n",
              "4        i beachvolley - vi hørte, at nyborg kommune har  \n",
              "...                                                  ...  \n",
              "47651            vasken, så kan de ansatte dog i et vist  \n",
              "47652            i et vist omfang trøste sig med, at der  \n",
              "47653  der næsten ingen arbejsløshed er i området, så...  \n",
              "47654       i området, så der er gode udsigter for komme  \n",
              "47655          er gode udsigter for komme i job på andre  \n",
              "\n",
              "[140961 rows x 2 columns]"
            ]
          },
          "execution_count": 18,
          "metadata": {},
          "output_type": "execute_result"
        }
      ],
      "source": [
        "dfs = []\n",
        "for file in all_files:\n",
        "  dfs.append(pd.read_csv(file, sep=\";\", names=[\"lemma\", \"correct\"]))\n",
        "\n",
        "os.chdir(\"/content/\")\n",
        "df = pd.concat(dfs)\n",
        "df"
      ]
    },
    {
      "cell_type": "code",
      "execution_count": 19,
      "metadata": {
        "id": "CECeY_wMiJ6O"
      },
      "outputs": [],
      "source": [
        "tokenizer = RobertaTokenizer.from_pretrained(\"DDSC/roberta-base-danish\")"
      ]
    },
    {
      "cell_type": "code",
      "execution_count": 20,
      "metadata": {
        "colab": {
          "base_uri": "https://localhost:8080/"
        },
        "id": "jAPfvzeIh8O1",
        "outputId": "9f427245-99ea-4aac-da91-9c9fee888fbb"
      },
      "outputs": [
        {
          "name": "stderr",
          "output_type": "stream",
          "text": [
            "Asking to truncate to max_length but no maximum length is provided and the model has no predefined maximum length. Default to no truncation.\n"
          ]
        }
      ],
      "source": [
        "X = list(df[\"lemma\"])\n",
        "y = list(df[\"correct\"])\n",
        "X_train, X_val, y_train, y_val = train_test_split(X, y, test_size=0.1, random_state=1212)\n",
        "X_train_tokenized = tokenizer(X_train, padding=True, truncation=True)\n",
        "Y_train_tokenized = tokenizer(y_train, padding=True, truncation=True)\n",
        "X_val_tokenized = tokenizer(X_val, padding=True, truncation=True)\n",
        "Y_val_tokenized = tokenizer(y_val, padding=True, truncation=True)"
      ]
    },
    {
      "cell_type": "code",
      "execution_count": 21,
      "metadata": {
        "id": "cfvb5MKVjJ1J"
      },
      "outputs": [],
      "source": [
        "class CustomDataset(Dataset):\n",
        "    def __init__(self, X_tokenized, Y_tokenized):\n",
        "        self.input_ids = X_tokenized[\"input_ids\"]\n",
        "        self.attention_mask = X_tokenized[\"attention_mask\"]\n",
        "        self.labels = Y_tokenized[\"input_ids\"]\n",
        "\n",
        "    def __len__(self):\n",
        "        return len(self.input_ids)\n",
        "\n",
        "    def __getitem__(self, idx):\n",
        "        input_ids = self.input_ids[idx]\n",
        "        attention_mask = self.attention_mask[idx]\n",
        "        labels = self.labels[idx]\n",
        "        return torch.tensor(input_ids), torch.tensor(attention_mask), torch.tensor(labels)"
      ]
    },
    {
      "cell_type": "code",
      "execution_count": 22,
      "metadata": {
        "id": "RRBTBbxsjKXv"
      },
      "outputs": [],
      "source": [
        "batch_size = 32\n",
        "epochs = 3"
      ]
    },
    {
      "cell_type": "code",
      "execution_count": 23,
      "metadata": {
        "id": "ysfhPJtsjNP6"
      },
      "outputs": [],
      "source": [
        "train_dataset = CustomDataset(X_train_tokenized, Y_train_tokenized)\n",
        "val_dataset = CustomDataset(X_val_tokenized, Y_val_tokenized)\n",
        "\n",
        "train_dataloader = DataLoader(train_dataset, batch_size=16, shuffle=True)\n",
        "val_dataloader = DataLoader(val_dataset, batch_size=16, shuffle=True)"
      ]
    },
    {
      "cell_type": "code",
      "execution_count": 24,
      "metadata": {
        "colab": {
          "base_uri": "https://localhost:8080/"
        },
        "id": "sowCfVshjwHt",
        "outputId": "268fec21-1e6e-4032-81c0-4cc52abccfa9"
      },
      "outputs": [
        {
          "name": "stderr",
          "output_type": "stream",
          "text": [
            "If you want to use `RobertaLMHeadModel` as a standalone, add `is_decoder=True.`\n"
          ]
        },
        {
          "data": {
            "text/plain": [
              "<generator object Module.parameters at 0x7f3184eb4970>"
            ]
          },
          "execution_count": 24,
          "metadata": {},
          "output_type": "execute_result"
        }
      ],
      "source": [
        "model = RobertaForCausalLM.from_pretrained(\"DDSC/roberta-base-danish\")\n",
        "device = 'cuda' if torch.cuda.is_available() else 'cpu'\n",
        "torch.device(device)\n",
        "model = model.to(device)\n",
        "optimizer = torch.optim.AdamW(model.parameters(), lr=1e-5)\n",
        "model.parameters()\n"
      ]
    },
    {
      "cell_type": "code",
      "execution_count": 25,
      "metadata": {
        "id": "CoxeNhx0jYIo"
      },
      "outputs": [],
      "source": [
        "def train(model, optimizer, train_dataloader, val_dataloader, num_epochs):\n",
        "    device = torch.device(\"cuda\" if torch.cuda.is_available() else \"cpu\")\n",
        "    print(\"Training on device:\", device)\n",
        "\n",
        "    model.to(device)\n",
        "    model.train()\n",
        "\n",
        "    for epoch in range(num_epochs):\n",
        "        print(\"Epoch:\", epoch + 1)\n",
        "        train_loss = 0.0\n",
        "        val_loss = 0.0\n",
        "\n",
        "        # Training loop\n",
        "        progress_bar = tqdm(train_dataloader, desc=\"Training\")\n",
        "        for batch in progress_bar:\n",
        "            input_ids, attention_mask, labels = batch\n",
        "            input_ids = input_ids.to(device)\n",
        "            attention_mask = attention_mask.to(device)\n",
        "            labels = labels.to(device)\n",
        "\n",
        "            optimizer.zero_grad()\n",
        "\n",
        "            outputs = model(input_ids, attention_mask=attention_mask, labels=labels)\n",
        "            loss = outputs.loss\n",
        "            train_loss += loss.item()\n",
        "\n",
        "            loss.backward()\n",
        "            optimizer.step()\n",
        "\n",
        "            progress_bar.set_postfix({\"train_loss\": loss.item()})\n",
        "\n",
        "        # Validation loop\n",
        "        model.eval()\n",
        "        with torch.no_grad():\n",
        "            progress_bar = tqdm(val_dataloader, desc=\"Validation\")\n",
        "            for batch in progress_bar:\n",
        "                input_ids, attention_mask, labels = batch\n",
        "                input_ids = input_ids.to(device)\n",
        "                attention_mask = attention_mask.to(device)\n",
        "                labels = labels.to(device)\n",
        "\n",
        "                outputs = model(input_ids, attention_mask=attention_mask, labels=labels)\n",
        "                loss = outputs.loss\n",
        "                val_loss += loss.item()\n",
        "\n",
        "                progress_bar.set_postfix({\"val_loss\": loss.item()})\n",
        "\n",
        "        # Print train and validation loss\n",
        "        avg_train_loss = train_loss / len(train_dataloader)\n",
        "        avg_val_loss = val_loss / len(val_dataloader)\n",
        "        print(\"Train loss:\", avg_train_loss)\n",
        "        print(\"Validation loss:\", avg_val_loss)\n",
        "\n",
        "    print(\"Training completed!\")\n"
      ]
    },
    {
      "cell_type": "code",
      "execution_count": 26,
      "metadata": {
        "colab": {
          "base_uri": "https://localhost:8080/"
        },
        "id": "OmIrv6XtjcIY",
        "outputId": "0c64e0ce-876a-4f3b-dfbc-9b30a3ffe693"
      },
      "outputs": [
        {
          "name": "stdout",
          "output_type": "stream",
          "text": [
            "Training on device: cuda\n",
            "Epoch: 1\n"
          ]
        },
        {
          "name": "stderr",
          "output_type": "stream",
          "text": [
            "Training: 100%|██████████| 7929/7929 [21:33<00:00,  6.13it/s, train_loss=0.263]\n",
            "Validation: 100%|██████████| 882/882 [00:35<00:00, 24.69it/s, val_loss=0.0122]\n"
          ]
        },
        {
          "name": "stdout",
          "output_type": "stream",
          "text": [
            "Train loss: 1.0493440072720868\n",
            "Validation loss: 0.15334612928656122\n",
            "Epoch: 2\n"
          ]
        },
        {
          "name": "stderr",
          "output_type": "stream",
          "text": [
            "Training: 100%|██████████| 7929/7929 [21:27<00:00,  6.16it/s, train_loss=0.0137]\n",
            "Validation: 100%|██████████| 882/882 [00:35<00:00, 24.72it/s, val_loss=0.00224]\n"
          ]
        },
        {
          "name": "stdout",
          "output_type": "stream",
          "text": [
            "Train loss: 0.044239290373384935\n",
            "Validation loss: 0.010061871196983315\n",
            "Epoch: 3\n"
          ]
        },
        {
          "name": "stderr",
          "output_type": "stream",
          "text": [
            "Training: 100%|██████████| 7929/7929 [21:31<00:00,  6.14it/s, train_loss=0.000595]\n",
            "Validation: 100%|██████████| 882/882 [00:36<00:00, 24.24it/s, val_loss=0.00034]"
          ]
        },
        {
          "name": "stdout",
          "output_type": "stream",
          "text": [
            "Train loss: 0.012856491777853203\n",
            "Validation loss: 0.005279796224523968\n",
            "Training completed!\n"
          ]
        },
        {
          "name": "stderr",
          "output_type": "stream",
          "text": [
            "\n"
          ]
        }
      ],
      "source": [
        "train(model, optimizer, train_dataloader, val_dataloader, epochs)"
      ]
    },
    {
      "cell_type": "code",
      "execution_count": 27,
      "metadata": {
        "id": "FNjWENuMgkur"
      },
      "outputs": [],
      "source": [
        "torch.save(model, './tenseModel1')"
      ]
    },
    {
      "cell_type": "code",
      "execution_count": null,
      "metadata": {
        "id": "1c8LRydm4gea"
      },
      "outputs": [],
      "source": []
    }
  ],
  "metadata": {
    "accelerator": "GPU",
    "colab": {
      "provenance": []
    },
    "gpuClass": "standard",
    "kernelspec": {
      "display_name": "Python 3.11.2 64-bit",
      "language": "python",
      "name": "python3"
    },
    "language_info": {
      "name": "python",
      "version": "3.11.2"
    },
    "vscode": {
      "interpreter": {
        "hash": "b0fa6594d8f4cbf19f97940f81e996739fb7646882a419484c72d19e05852a7e"
      }
    }
  },
  "nbformat": 4,
  "nbformat_minor": 0
}
