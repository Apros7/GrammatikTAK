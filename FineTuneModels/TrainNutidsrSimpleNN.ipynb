{
 "cells": [
  {
   "cell_type": "code",
   "execution_count": 74,
   "metadata": {},
   "outputs": [
    {
     "name": "stdout",
     "output_type": "stream",
     "text": [
      "torch.Size([196743, 11]) torch.Size([196743, 2])\n"
     ]
    }
   ],
   "source": [
    "import pandas as pd\n",
    "import numpy as np\n",
    "from sklearn.model_selection import train_test_split\n",
    "import os\n",
    "import torch\n",
    "\n",
    "os.chdir(\"/Users/lucasvilsen/Desktop/GrammatikTAK\")\n",
    "\n",
    "train_verbs = pd.read_csv(\"Datasets/EuroparlNutidsr_trainset_posNumbers.csv\", sep=\";\")\n",
    "pos_numbers = train_verbs[\"pos_numbers\"].values\n",
    "pos_numbers_torch = []\n",
    "for pos_number in pos_numbers:\n",
    "    lst = pos_number.split(\" \")\n",
    "    lst = [float(i) for i in lst]\n",
    "    input_tensor = torch.tensor(lst, dtype=torch.float32)\n",
    "    pos_numbers_torch.append(input_tensor)\n",
    "pos_numbers_torch = torch.stack(pos_numbers_torch)\n",
    "\n",
    "labels = train_verbs[\"label\"].values\n",
    "labels_torch = []\n",
    "\n",
    "for label in labels:\n",
    "    if label == \"1\":\n",
    "        label_tensor = torch.tensor([0, 1], dtype=torch.float32)\n",
    "        labels_torch.append(label_tensor)\n",
    "    else: \n",
    "        label_tensor = torch.tensor([1, 0], dtype=torch.float32)\n",
    "        labels_torch.append(label_tensor)\n",
    "\n",
    "labels_torch = torch.stack(labels_torch)\n",
    "\n",
    "X_train, X_val, y_train, y_val = train_test_split(pos_numbers_torch, labels_torch, test_size=0.2, random_state=1212)\n",
    "\n",
    "print(pos_numbers_torch.shape, labels_torch.shape)"
   ]
  },
  {
   "cell_type": "code",
   "execution_count": 75,
   "metadata": {},
   "outputs": [],
   "source": [
    "import torch.nn as nn\n",
    "\n",
    "class SimpleNN(nn.Module):\n",
    "    def __init__(self):\n",
    "        super(SimpleNN, self).__init__()\n",
    "        self.layers = nn.Sequential(\n",
    "            nn.Linear(11, 128),\n",
    "            #nn.Linear(128, 128),\n",
    "            nn.Linear(128, 64),\n",
    "            nn.Linear(64, 2),\n",
    "            nn.ReLU()\n",
    "        )   \n",
    "\n",
    "    def forward(self, x):\n",
    "        return self.layers(x)\n",
    "\n",
    "model = SimpleNN()"
   ]
  },
  {
   "cell_type": "code",
   "execution_count": 76,
   "metadata": {},
   "outputs": [
    {
     "name": "stdout",
     "output_type": "stream",
     "text": [
      "9922\n"
     ]
    }
   ],
   "source": [
    "device = \"cpu\"\n",
    "torch.device(device)\n",
    "\n",
    "model.train()\n",
    "model.to(device)\n",
    "\n",
    "criterion = nn.BCEWithLogitsLoss()\n",
    "optimizer = torch.optim.Adam(model.parameters(), lr=0.001)\n",
    "num_epochs = 1\n",
    "\n",
    "for p in model.parameters():\n",
    "    p.requires_grad = True\n",
    "\n",
    "print(sum(p.nelement() for p in model.parameters()))"
   ]
  },
  {
   "cell_type": "code",
   "execution_count": 77,
   "metadata": {},
   "outputs": [
    {
     "name": "stdout",
     "output_type": "stream",
     "text": [
      "Epoch 1\n"
     ]
    },
    {
     "name": "stderr",
     "output_type": "stream",
     "text": [
      "  0%|          | 131/157394 [00:00<02:00, 1307.94it/s]"
     ]
    },
    {
     "name": "stdout",
     "output_type": "stream",
     "text": [
      "1.5431671142578125\n"
     ]
    },
    {
     "name": "stderr",
     "output_type": "stream",
     "text": [
      "  7%|▋         | 10263/157394 [00:05<01:15, 1957.38it/s]"
     ]
    },
    {
     "name": "stdout",
     "output_type": "stream",
     "text": [
      "0.3465735912322998\n"
     ]
    },
    {
     "name": "stderr",
     "output_type": "stream",
     "text": [
      " 13%|█▎        | 20346/157394 [00:10<01:09, 1963.95it/s]"
     ]
    },
    {
     "name": "stdout",
     "output_type": "stream",
     "text": [
      "0.3465735912322998\n"
     ]
    },
    {
     "name": "stderr",
     "output_type": "stream",
     "text": [
      " 19%|█▉        | 30260/157394 [00:15<01:09, 1836.85it/s]"
     ]
    },
    {
     "name": "stdout",
     "output_type": "stream",
     "text": [
      "0.3465735912322998\n"
     ]
    },
    {
     "name": "stderr",
     "output_type": "stream",
     "text": [
      " 26%|██▌       | 40253/157394 [00:20<00:59, 1971.29it/s]"
     ]
    },
    {
     "name": "stdout",
     "output_type": "stream",
     "text": [
      "0.3465735912322998\n"
     ]
    },
    {
     "name": "stderr",
     "output_type": "stream",
     "text": [
      " 32%|███▏      | 50253/157394 [00:25<00:54, 1980.53it/s]"
     ]
    },
    {
     "name": "stdout",
     "output_type": "stream",
     "text": [
      "0.3465735912322998\n"
     ]
    },
    {
     "name": "stderr",
     "output_type": "stream",
     "text": [
      " 38%|███▊      | 60210/157394 [00:31<00:48, 1986.04it/s]"
     ]
    },
    {
     "name": "stdout",
     "output_type": "stream",
     "text": [
      "0.3465735912322998\n"
     ]
    },
    {
     "name": "stderr",
     "output_type": "stream",
     "text": [
      " 45%|████▍     | 70383/157394 [00:36<00:43, 1993.49it/s]"
     ]
    },
    {
     "name": "stdout",
     "output_type": "stream",
     "text": [
      "0.3465735912322998\n"
     ]
    },
    {
     "name": "stderr",
     "output_type": "stream",
     "text": [
      " 51%|█████     | 80369/157394 [00:41<00:39, 1951.97it/s]"
     ]
    },
    {
     "name": "stdout",
     "output_type": "stream",
     "text": [
      "0.3465735912322998\n"
     ]
    },
    {
     "name": "stderr",
     "output_type": "stream",
     "text": [
      " 57%|█████▋    | 90336/157394 [00:46<00:33, 1994.35it/s]"
     ]
    },
    {
     "name": "stdout",
     "output_type": "stream",
     "text": [
      "0.3465735912322998\n"
     ]
    },
    {
     "name": "stderr",
     "output_type": "stream",
     "text": [
      " 64%|██████▍   | 100359/157394 [00:51<00:28, 2001.37it/s]"
     ]
    },
    {
     "name": "stdout",
     "output_type": "stream",
     "text": [
      "0.3465735912322998\n"
     ]
    },
    {
     "name": "stderr",
     "output_type": "stream",
     "text": [
      " 70%|███████   | 110326/157394 [00:56<00:24, 1920.13it/s]"
     ]
    },
    {
     "name": "stdout",
     "output_type": "stream",
     "text": [
      "0.3465735912322998\n"
     ]
    },
    {
     "name": "stderr",
     "output_type": "stream",
     "text": [
      " 76%|███████▋  | 120262/157394 [01:01<00:19, 1939.25it/s]"
     ]
    },
    {
     "name": "stdout",
     "output_type": "stream",
     "text": [
      "0.3465735912322998\n"
     ]
    },
    {
     "name": "stderr",
     "output_type": "stream",
     "text": [
      " 83%|████████▎ | 130244/157394 [01:06<00:13, 1994.34it/s]"
     ]
    },
    {
     "name": "stdout",
     "output_type": "stream",
     "text": [
      "0.3465735912322998\n"
     ]
    },
    {
     "name": "stderr",
     "output_type": "stream",
     "text": [
      " 89%|████████▉ | 140262/157394 [01:11<00:08, 1938.70it/s]"
     ]
    },
    {
     "name": "stdout",
     "output_type": "stream",
     "text": [
      "0.3465735912322998\n"
     ]
    },
    {
     "name": "stderr",
     "output_type": "stream",
     "text": [
      " 96%|█████████▌| 150344/157394 [01:16<00:03, 1983.53it/s]"
     ]
    },
    {
     "name": "stdout",
     "output_type": "stream",
     "text": [
      "0.3465735912322998\n"
     ]
    },
    {
     "name": "stderr",
     "output_type": "stream",
     "text": [
      "100%|██████████| 157394/157394 [01:20<00:00, 1961.01it/s]\n"
     ]
    }
   ],
   "source": [
    "from tqdm import tqdm\n",
    "\n",
    "training_losses = []\n",
    "eval_losses = []\n",
    "\n",
    "for epoch in range(num_epochs):\n",
    "    print(f\"Epoch {epoch+1}\")\n",
    "    training_loss = 0.0\n",
    "    eval_loss = 0.0\n",
    "    \n",
    "    model.train()\n",
    "\n",
    "    for i in tqdm(range(len(X_train))):\n",
    "        inputs = X_train[i]\n",
    "        labels = y_train[i]\n",
    "        optimizer.zero_grad()\n",
    "        outputs = model(inputs)\n",
    "        loss = criterion(outputs, labels)\n",
    "        loss.backward()\n",
    "        optimizer.step()\n",
    "\n",
    "        if i % 10000 == 0:\n",
    "            print(loss.item())\n",
    "        \n",
    "        training_loss += loss.item()\n",
    "    \n",
    "    training_loss /= len(X_train)\n",
    "    \n",
    "    model.eval()\n",
    "\n",
    "    for inputs, labels in zip(X_val, y_val):\n",
    "        optimizer.zero_grad()\n",
    "        outputs = model(inputs)\n",
    "        loss = criterion(outputs, labels)\n",
    "        loss.backward()\n",
    "        optimizer.step()\n",
    "        \n",
    "        training_loss += loss.item()\n",
    "    \n",
    "    training_losses.append(training_loss)\n",
    "    eval_losses.append(eval_loss)\n"
   ]
  },
  {
   "cell_type": "code",
   "execution_count": 78,
   "metadata": {},
   "outputs": [
    {
     "data": {
      "image/png": "[encoded data removed]",
      "text/plain": [
       "<Figure size 640x480 with 1 Axes>"
      ]
     },
     "metadata": {},
     "output_type": "display_data"
    }
   ],
   "source": [
    "import matplotlib.pyplot as plt\n",
    "\n",
    "epochs = range(1, len(training_losses) + 1)\n",
    "\n",
    "plt.plot(epochs, [value/len(X_train) for value in training_losses], label='Training Losses')\n",
    "plt.plot(epochs, eval_losses, label='Validation Losses')\n",
    "\n",
    "plt.title('Training Losses')\n",
    "plt.xlabel('Epoch')\n",
    "plt.ylabel('Loss')\n",
    "plt.legend()\n",
    "\n",
    "plt.show()"
   ]
  },
  {
   "cell_type": "code",
   "execution_count": null,
   "metadata": {},
   "outputs": [],
   "source": []
  }
 ],
 "metadata": {
  "kernelspec": {
   "display_name": "Python 3.11.2 64-bit",
   "language": "python",
   "name": "python3"
  },
  "language_info": {
   "codemirror_mode": {
    "name": "ipython",
    "version": 3
   },
   "file_extension": ".py",
   "mimetype": "text/x-python",
   "name": "python",
   "nbconvert_exporter": "python",
   "pygments_lexer": "ipython3",
   "version": "3.11.2"
  },
  "orig_nbformat": 4,
  "vscode": {
   "interpreter": {
    "hash": "b0fa6594d8f4cbf19f97940f81e996739fb7646882a419484c72d19e05852a7e"
   }
  }
 },
 "nbformat": 4,
 "nbformat_minor": 2
}
