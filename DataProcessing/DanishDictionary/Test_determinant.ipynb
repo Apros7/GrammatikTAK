{
 "cells": [
  {
   "cell_type": "code",
   "execution_count": 1,
   "metadata": {},
   "outputs": [],
   "source": [
    "import os\n",
    "import pickle\n",
    "import pandas as pd"
   ]
  },
  {
   "cell_type": "code",
   "execution_count": 2,
   "metadata": {},
   "outputs": [
    {
     "data": {
      "text/html": [
       "<div>\n",
       "<style scoped>\n",
       "    .dataframe tbody tr th:only-of-type {\n",
       "        vertical-align: middle;\n",
       "    }\n",
       "\n",
       "    .dataframe tbody tr th {\n",
       "        vertical-align: top;\n",
       "    }\n",
       "\n",
       "    .dataframe thead th {\n",
       "        text-align: right;\n",
       "    }\n",
       "</style>\n",
       "<table border=\"1\" class=\"dataframe\">\n",
       "  <thead>\n",
       "    <tr style=\"text-align: right;\">\n",
       "      <th></th>\n",
       "      <th>sent</th>\n",
       "      <th>pos</th>\n",
       "    </tr>\n",
       "  </thead>\n",
       "  <tbody>\n",
       "    <tr>\n",
       "      <th>0</th>\n",
       "      <td>Genoptagelse af sessionen</td>\n",
       "      <td>NOUN ADP NOUN</td>\n",
       "    </tr>\n",
       "    <tr>\n",
       "      <th>1</th>\n",
       "      <td>Jeg erklærer Europa-Parlamentets session, der ...</td>\n",
       "      <td>PRON VERB NOUN PUNCT PRON AUX VERB NOUN DET AD...</td>\n",
       "    </tr>\n",
       "    <tr>\n",
       "      <th>2</th>\n",
       "      <td>Som De kan se, indfandt det store \"år 2000-pro...</td>\n",
       "      <td>ADP PRON AUX VERB VERB DET ADJ NOUN X PRON PUN...</td>\n",
       "    </tr>\n",
       "    <tr>\n",
       "      <th>3</th>\n",
       "      <td>De har udtrykt ønske om en debat om dette emne...</td>\n",
       "      <td>PRON AUX VERB NOUN ADP DET NOUN ADP DET NOUN A...</td>\n",
       "    </tr>\n",
       "    <tr>\n",
       "      <th>4</th>\n",
       "      <td>I mellemtiden ønsker jeg - som også en del kol...</td>\n",
       "      <td>ADP NOUN VERB PRON PUNCT ADP ADV DET NOUN NOUN...</td>\n",
       "    </tr>\n",
       "    <tr>\n",
       "      <th>...</th>\n",
       "      <td>...</td>\n",
       "      <td>...</td>\n",
       "    </tr>\n",
       "    <tr>\n",
       "      <th>1799995</th>\n",
       "      <td>Jeg meddeler Dem, at jeg har modtaget et forsl...</td>\n",
       "      <td>PRON VERB PUNCT SCONJ PRON AUX VERB DET NOUN A...</td>\n",
       "    </tr>\n",
       "    <tr>\n",
       "      <th>1799996</th>\n",
       "      <td>Forhandlingen er afsluttet.</td>\n",
       "      <td>NOUN AUX VERB</td>\n",
       "    </tr>\n",
       "    <tr>\n",
       "      <th>1799997</th>\n",
       "      <td>Afstemningen finder sted i morgen kl. 12.00.</td>\n",
       "      <td>NOUN VERB NOUN ADP NOUN NOUN NUM</td>\n",
       "    </tr>\n",
       "    <tr>\n",
       "      <th>1799998</th>\n",
       "      <td>Tilsyn med forsikringsselskaber</td>\n",
       "      <td>NOUN ADP NOUN</td>\n",
       "    </tr>\n",
       "    <tr>\n",
       "      <th>1799999</th>\n",
       "      <td>Næste punkt på dagsordenen er indstilling ved ...</td>\n",
       "      <td>ADJ NOUN ADP NOUN AUX NOUN ADP NOUN X ADP PROP...</td>\n",
       "    </tr>\n",
       "  </tbody>\n",
       "</table>\n",
       "<p>1797456 rows × 2 columns</p>\n",
       "</div>"
      ],
      "text/plain": [
       "                                                      sent  \\\n",
       "0                                Genoptagelse af sessionen   \n",
       "1        Jeg erklærer Europa-Parlamentets session, der ...   \n",
       "2        Som De kan se, indfandt det store \"år 2000-pro...   \n",
       "3        De har udtrykt ønske om en debat om dette emne...   \n",
       "4        I mellemtiden ønsker jeg - som også en del kol...   \n",
       "...                                                    ...   \n",
       "1799995  Jeg meddeler Dem, at jeg har modtaget et forsl...   \n",
       "1799996                        Forhandlingen er afsluttet.   \n",
       "1799997       Afstemningen finder sted i morgen kl. 12.00.   \n",
       "1799998                    Tilsyn med forsikringsselskaber   \n",
       "1799999  Næste punkt på dagsordenen er indstilling ved ...   \n",
       "\n",
       "                                                       pos  \n",
       "0                                            NOUN ADP NOUN  \n",
       "1        PRON VERB NOUN PUNCT PRON AUX VERB NOUN DET AD...  \n",
       "2        ADP PRON AUX VERB VERB DET ADJ NOUN X PRON PUN...  \n",
       "3        PRON AUX VERB NOUN ADP DET NOUN ADP DET NOUN A...  \n",
       "4        ADP NOUN VERB PRON PUNCT ADP ADV DET NOUN NOUN...  \n",
       "...                                                    ...  \n",
       "1799995  PRON VERB PUNCT SCONJ PRON AUX VERB DET NOUN A...  \n",
       "1799996                                      NOUN AUX VERB  \n",
       "1799997                   NOUN VERB NOUN ADP NOUN NOUN NUM  \n",
       "1799998                                      NOUN ADP NOUN  \n",
       "1799999  ADJ NOUN ADP NOUN AUX NOUN ADP NOUN X ADP PROP...  \n",
       "\n",
       "[1797456 rows x 2 columns]"
      ]
     },
     "execution_count": 2,
     "metadata": {},
     "output_type": "execute_result"
    }
   ],
   "source": [
    "os.chdir(\"/Users/lucasvilsen/Desktop/GrammatikTAK/Datasets/\")\n",
    "df = pd.read_csv(\"EuroparlSentToPos.csv\", encoding=\"UTF-8\", sep=\";\")\n",
    "df_filtered = df.dropna(subset=[\"pos\"])\n",
    "sentences = list(df_filtered[\"sent\"])\n",
    "all_pos = list(df_filtered[\"pos\"])\n",
    "df_filtered"
   ]
  },
  {
   "cell_type": "code",
   "execution_count": 3,
   "metadata": {},
   "outputs": [],
   "source": [
    "def find_det_noun_pairs(lst):\n",
    "    indexes = []\n",
    "    for i in range(len(lst)):\n",
    "        if lst[i] == \"DET\":\n",
    "            for j in range(i+1, len(lst)):\n",
    "                if lst[j] == \"NOUN\":\n",
    "                    if all(x in [\"ADV\", \"ADJ\"] for x in lst[i+1:j]):\n",
    "                        indexes.append((i, j))\n",
    "                    break\n",
    "    return indexes"
   ]
  },
  {
   "cell_type": "code",
   "execution_count": 4,
   "metadata": {},
   "outputs": [],
   "source": [
    "testset = []\n",
    "fælleskøn_labels = []\n",
    "testset_sentences = []\n",
    "\n",
    "for sent, pos in zip(sentences, all_pos):\n",
    "    indexes = find_det_noun_pairs(pos.split())\n",
    "    words = sent.split()\n",
    "    for index in indexes:\n",
    "        if words[index[0]][-1] == \"n\":\n",
    "            fælleskøn_labels.append(True)\n",
    "            testset.append(words[index[0]:index[1]+1])\n",
    "            testset_sentences.append(sent)\n",
    "        elif words[index[0]][-1] == \"t\":\n",
    "            fælleskøn_labels.append(False)\n",
    "            testset.append(words[index[0]:index[1]+1])\n",
    "            testset_sentences.append(sent)\n"
   ]
  },
  {
   "cell_type": "code",
   "execution_count": 5,
   "metadata": {},
   "outputs": [
    {
     "data": {
      "text/plain": [
       "1535144"
      ]
     },
     "execution_count": 5,
     "metadata": {},
     "output_type": "execute_result"
    }
   ],
   "source": [
    "len(testset)"
   ]
  },
  {
   "cell_type": "code",
   "execution_count": 7,
   "metadata": {},
   "outputs": [],
   "source": [
    "with open(\"GenderDict.pickle\", \"rb\") as f:\n",
    "    genderDict = pickle.load(f)"
   ]
  },
  {
   "cell_type": "code",
   "execution_count": 8,
   "metadata": {},
   "outputs": [
    {
     "name": "stdout",
     "output_type": "stream",
     "text": [
      "Accuracy:  99.81 %\n",
      "No guess:  55.84 %\n",
      "Number of wrong: 1287\n"
     ]
    }
   ],
   "source": [
    "def get_stats(output=False):\n",
    "    correct = 0\n",
    "    total = 0\n",
    "    no_guess = 0\n",
    "    wrongs = []\n",
    "\n",
    "    for set, label in zip(testset, fælleskøn_labels):\n",
    "        if set[-1] in genderDict and set[0] in [\"en\", \"et\", \"den\", \"det\"]:\n",
    "            total += 1\n",
    "            if label == genderDict[set[-1]]:\n",
    "                correct += 1\n",
    "            else:\n",
    "                wrongs.append((set, set[-1], genderDict[set[-1]]))\n",
    "                #print(set, set[-1], genderDict[set[-1]])\n",
    "        else:\n",
    "            no_guess += 1\n",
    "    if output: \n",
    "        print(f\"Accuracy:  {round(correct/total*100, 2)} %\")\n",
    "        print(f\"No guess: \", round(no_guess/len(testset)*100, 2), \"%\")\n",
    "        print(f\"Number of wrong: {len(wrongs)}\")\n",
    "    return len(wrongs), wrongs\n",
    "\n",
    "nwrongs, wrongs = get_stats(output=True)"
   ]
  },
  {
   "cell_type": "code",
   "execution_count": 9,
   "metadata": {},
   "outputs": [
    {
     "data": {
      "text/plain": [
       "False"
      ]
     },
     "execution_count": 9,
     "metadata": {},
     "output_type": "execute_result"
    }
   ],
   "source": [
    "genderDict[\"hus\"]"
   ]
  },
  {
   "cell_type": "code",
   "execution_count": 11,
   "metadata": {},
   "outputs": [],
   "source": [
    "os.chdir(\"/Users/lucasvilsen/Desktop/GrammatikTAK/DataProcessing/DanishDictionary/\")\n",
    "new_gender_dict = pickle.load(open(\"NewProducedDicts/GenderDict.pickle\", \"rb\"))"
   ]
  },
  {
   "cell_type": "code",
   "execution_count": 14,
   "metadata": {},
   "outputs": [
    {
     "data": {
      "text/plain": [
       "(19848, 41575)"
      ]
     },
     "execution_count": 14,
     "metadata": {},
     "output_type": "execute_result"
    }
   ],
   "source": [
    "len(new_gender_dict), len(genderDict)"
   ]
  },
  {
   "cell_type": "code",
   "execution_count": null,
   "metadata": {},
   "outputs": [],
   "source": []
  }
 ],
 "metadata": {
  "kernelspec": {
   "display_name": "Python 3.11.2 64-bit",
   "language": "python",
   "name": "python3"
  },
  "language_info": {
   "codemirror_mode": {
    "name": "ipython",
    "version": 3
   },
   "file_extension": ".py",
   "mimetype": "text/x-python",
   "name": "python",
   "nbconvert_exporter": "python",
   "pygments_lexer": "ipython3",
   "version": "3.11.2"
  },
  "orig_nbformat": 4,
  "vscode": {
   "interpreter": {
    "hash": "b0fa6594d8f4cbf19f97940f81e996739fb7646882a419484c72d19e05852a7e"
   }
  }
 },
 "nbformat": 4,
 "nbformat_minor": 2
}
