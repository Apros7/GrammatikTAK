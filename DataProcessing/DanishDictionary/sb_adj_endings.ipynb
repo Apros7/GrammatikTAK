{
 "cells": [
  {
   "cell_type": "code",
   "execution_count": 1,
   "metadata": {},
   "outputs": [],
   "source": [
    "import os\n",
    "import pandas as pd\n",
    "import pickle\n",
    "from tqdm import tqdm"
   ]
  },
  {
   "cell_type": "code",
   "execution_count": 2,
   "metadata": {},
   "outputs": [],
   "source": [
    "df = pd.read_csv(\"../../Datasets/ordlisteFuldform2021rettet.csv\")"
   ]
  },
  {
   "cell_type": "code",
   "execution_count": 3,
   "metadata": {},
   "outputs": [
    {
     "data": {
      "text/html": [
       "<div>\n",
       "<style scoped>\n",
       "    .dataframe tbody tr th:only-of-type {\n",
       "        vertical-align: middle;\n",
       "    }\n",
       "\n",
       "    .dataframe tbody tr th {\n",
       "        vertical-align: top;\n",
       "    }\n",
       "\n",
       "    .dataframe thead th {\n",
       "        text-align: right;\n",
       "    }\n",
       "</style>\n",
       "<table border=\"1\" class=\"dataframe\">\n",
       "  <thead>\n",
       "    <tr style=\"text-align: right;\">\n",
       "      <th></th>\n",
       "      <th>ord1</th>\n",
       "      <th>ord2</th>\n",
       "      <th>bøjning</th>\n",
       "    </tr>\n",
       "  </thead>\n",
       "  <tbody>\n",
       "    <tr>\n",
       "      <th>0</th>\n",
       "      <td>A</td>\n",
       "      <td>A</td>\n",
       "      <td>sb.</td>\n",
       "    </tr>\n",
       "    <tr>\n",
       "      <th>1</th>\n",
       "      <td>A</td>\n",
       "      <td>A'et</td>\n",
       "      <td>sb.</td>\n",
       "    </tr>\n",
       "    <tr>\n",
       "      <th>2</th>\n",
       "      <td>A</td>\n",
       "      <td>A'ets</td>\n",
       "      <td>sb.</td>\n",
       "    </tr>\n",
       "    <tr>\n",
       "      <th>3</th>\n",
       "      <td>A</td>\n",
       "      <td>A's</td>\n",
       "      <td>sb.</td>\n",
       "    </tr>\n",
       "    <tr>\n",
       "      <th>4</th>\n",
       "      <td>A</td>\n",
       "      <td>A'erne</td>\n",
       "      <td>sb.</td>\n",
       "    </tr>\n",
       "  </tbody>\n",
       "</table>\n",
       "</div>"
      ],
      "text/plain": [
       "  ord1    ord2 bøjning\n",
       "0    A       A     sb.\n",
       "1    A    A'et     sb.\n",
       "2    A   A'ets     sb.\n",
       "3    A     A's     sb.\n",
       "4    A  A'erne     sb."
      ]
     },
     "execution_count": 3,
     "metadata": {},
     "output_type": "execute_result"
    }
   ],
   "source": [
    "df.head()"
   ]
  },
  {
   "cell_type": "code",
   "execution_count": 61,
   "metadata": {},
   "outputs": [
    {
     "name": "stderr",
     "output_type": "stream",
     "text": [
      "415437it [00:09, 42457.63it/s]\n"
     ]
    }
   ],
   "source": [
    "verbs = []\n",
    "sbs = []\n",
    "for i, row in tqdm(df.iterrows()):\n",
    "    if row[\"bøjning\"] in [\"vb.\", \"ubøj. adj.\"]:\n",
    "        verbs.append((row[\"ord1\"], row[\"ord2\"]))\n",
    "    elif row[\"bøjning\"] in [\"sb.\", \"sb. pl.\"]:\n",
    "        sbs.append((row[\"ord1\"], row[\"ord2\"]))\n"
   ]
  },
  {
   "cell_type": "code",
   "execution_count": 62,
   "metadata": {},
   "outputs": [
    {
     "name": "stderr",
     "output_type": "stream",
     "text": [
      "100%|██████████| 58058/58058 [00:00<00:00, 2593487.35it/s]\n"
     ]
    },
    {
     "data": {
      "text/plain": [
       "7682"
      ]
     },
     "execution_count": 62,
     "metadata": {},
     "output_type": "execute_result"
    }
   ],
   "source": [
    "verbs_dict = {}\n",
    "for i in tqdm(range(len(verbs))):\n",
    "    if verbs[i][1][-4:] == \"ende\":\n",
    "        key = verbs[i][1][:-4] + \"ene\"\n",
    "        if key in verbs_dict:\n",
    "            if verbs[i][1] != verbs_dict[key]:\n",
    "                print(key, verbs_dict[key], verbs[i][1])\n",
    "        verbs_dict[key] = verbs[i][1]\n",
    "len(verbs_dict)"
   ]
  },
  {
   "cell_type": "code",
   "execution_count": 63,
   "metadata": {},
   "outputs": [
    {
     "name": "stderr",
     "output_type": "stream",
     "text": [
      "100%|██████████| 328686/328686 [00:00<00:00, 2822236.70it/s]\n"
     ]
    },
    {
     "data": {
      "text/plain": [
       "9340"
      ]
     },
     "execution_count": 63,
     "metadata": {},
     "output_type": "execute_result"
    }
   ],
   "source": [
    "sbs_dict = {}\n",
    "for i in tqdm(range(len(sbs))):\n",
    "    if sbs[i][1][-3:] == \"ene\":\n",
    "        key = sbs[i][1][:-3] + \"ende\"\n",
    "        if key in sbs_dict:\n",
    "            if sbs[i][1] != sbs_dict[key]:\n",
    "                print(key, sbs_dict[key], sbs[i][1])\n",
    "        sbs_dict[key] = sbs[i][1]\n",
    "len(sbs_dict)"
   ]
  },
  {
   "cell_type": "code",
   "execution_count": 64,
   "metadata": {},
   "outputs": [
    {
     "data": {
      "text/plain": [
       "[('abandonnerene', 'abandonnerende'),\n",
       " ('abdicerene', 'abdicerende'),\n",
       " ('abene', 'abende'),\n",
       " ('abonnerene', 'abonnerende'),\n",
       " ('aborterene', 'aborterende'),\n",
       " ('absenterene', 'absenterende'),\n",
       " ('absorberene', 'absorberende'),\n",
       " ('abstraherene', 'abstraherende'),\n",
       " ('accelererene', 'accelererende'),\n",
       " ('accentuerene', 'accentuerende')]"
      ]
     },
     "execution_count": 64,
     "metadata": {},
     "output_type": "execute_result"
    }
   ],
   "source": [
    "list(verbs_dict.items())[:10]"
   ]
  },
  {
   "cell_type": "code",
   "execution_count": 65,
   "metadata": {},
   "outputs": [],
   "source": [
    "with open(\"../../Datasets/verb_ending_dict.pickle\", \"wb\") as f:\n",
    "    pickle.dump(verbs_dict, f)\n",
    "with open(\"../../Datasets/sb_ending_dict.pickle\", \"wb\") as f:\n",
    "    pickle.dump(sbs_dict, f)"
   ]
  },
  {
   "cell_type": "code",
   "execution_count": null,
   "metadata": {},
   "outputs": [],
   "source": []
  }
 ],
 "metadata": {
  "kernelspec": {
   "display_name": "Python 3.11.2 64-bit",
   "language": "python",
   "name": "python3"
  },
  "language_info": {
   "codemirror_mode": {
    "name": "ipython",
    "version": 3
   },
   "file_extension": ".py",
   "mimetype": "text/x-python",
   "name": "python",
   "nbconvert_exporter": "python",
   "pygments_lexer": "ipython3",
   "version": "3.11.2"
  },
  "orig_nbformat": 4,
  "vscode": {
   "interpreter": {
    "hash": "b0fa6594d8f4cbf19f97940f81e996739fb7646882a419484c72d19e05852a7e"
   }
  }
 },
 "nbformat": 4,
 "nbformat_minor": 2
}
