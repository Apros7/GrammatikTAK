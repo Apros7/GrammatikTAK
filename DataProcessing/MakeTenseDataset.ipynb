{
 "cells": [
  {
   "cell_type": "code",
   "execution_count": 11,
   "metadata": {},
   "outputs": [],
   "source": [
    "import os\n",
    "import pandas as pd\n",
    "from tqdm import tqdm\n",
    "import pickle\n"
   ]
  },
  {
   "cell_type": "code",
   "execution_count": 12,
   "metadata": {},
   "outputs": [],
   "source": [
    "os.chdir(\"/Users/lucasvilsen/Desktop/GrammatikTAK/Datasets/\")\n",
    "filename = \"europarl-v7.da-en.da\"\n",
    "with open(filename, \"r\", encoding=\"UTF-8\") as file:\n",
    "    lines = file.readlines()\n",
    "with open(\"nutids_r.pickle\", \"rb\") as f:\n",
    "    nutids_r = pickle.load(f)\n",
    "with open(\"nutids_r_stem.pickle\", \"rb\") as f:\n",
    "    nutids_r_stem = pickle.load(f)"
   ]
  },
  {
   "cell_type": "code",
   "execution_count": 13,
   "metadata": {},
   "outputs": [
    {
     "name": "stderr",
     "output_type": "stream",
     "text": [
      "100%|██████████| 656266/656266 [00:02<00:00, 300917.44it/s]\n",
      "100%|██████████| 328134/328134 [00:27<00:00, 11830.82it/s] \n"
     ]
    }
   ],
   "source": [
    "import random\n",
    "\n",
    "step_rates = [1, 2, 3]\n",
    "pre_pad_result = []\n",
    "len_of_list = int(len(lines))\n",
    "for i in tqdm(range(0, len_of_list//3,step_rates[0])):\n",
    "    pre_pad_result.append((' '.join(lines[i:i+step_rates[0]])).split())\n",
    "for i in tqdm(range(len_of_list//3, 2*len_of_list//3,step_rates[1])):\n",
    "    pre_pad_result.append((' '.join(lines[i:i+step_rates[1]])).split())\n",
    "\n",
    "random.shuffle(pre_pad_result)"
   ]
  },
  {
   "cell_type": "code",
   "execution_count": 14,
   "metadata": {},
   "outputs": [],
   "source": [
    "scope = 10\n",
    "middle = int(scope/2)\n",
    "padding = int(scope/2)"
   ]
  },
  {
   "cell_type": "code",
   "execution_count": 15,
   "metadata": {},
   "outputs": [
    {
     "name": "stderr",
     "output_type": "stream",
     "text": [
      "100%|██████████| 984400/984400 [00:39<00:00, 24998.00it/s] \n"
     ]
    }
   ],
   "source": [
    "pre_cleaned_result = [[\"<PAD>\"]*padding + lst + [\"<PAD>\"]*padding for lst in tqdm(pre_pad_result)]"
   ]
  },
  {
   "cell_type": "code",
   "execution_count": 16,
   "metadata": {},
   "outputs": [
    {
     "name": "stderr",
     "output_type": "stream",
     "text": [
      "100%|██████████| 984400/984400 [01:21<00:00, 12106.52it/s]\n"
     ]
    }
   ],
   "source": [
    "char = \"*@;:!\\\"?«».,\"\n",
    "post_pad_result = [[word.translate(str.maketrans('', '', ''.join(char))) for word in pre_cleaned_lst] for pre_cleaned_lst in tqdm(pre_cleaned_result)]\n",
    "\n",
    "# for i in tqdm(range(len(pre_cleaned_result))):\n",
    "#     pre_cleaned_lst = pre_cleaned_result[i]\n",
    "#     lst = [word.translate(str.maketrans('', '', ''.join(char))) for word in pre_cleaned_lst]\n",
    "#     post_pad_result.append(lst)"
   ]
  },
  {
   "cell_type": "code",
   "execution_count": 17,
   "metadata": {},
   "outputs": [],
   "source": [
    "saved_post_pad_result = post_pad_result"
   ]
  },
  {
   "cell_type": "code",
   "execution_count": 18,
   "metadata": {},
   "outputs": [],
   "source": [
    "post_pad_result = saved_post_pad_result[:50000]"
   ]
  },
  {
   "cell_type": "code",
   "execution_count": 19,
   "metadata": {},
   "outputs": [
    {
     "name": "stderr",
     "output_type": "stream",
     "text": [
      "100%|██████████| 50000/50000 [00:01<00:00, 37801.45it/s]\n"
     ]
    }
   ],
   "source": [
    "bøjning = {0: \"infinitiv\", 1: \"førnutidsformen\"}\n",
    "half_scope = int(scope/2)\n",
    "big_lst = []\n",
    "output_lst = []\n",
    "\n",
    "\n",
    "for i in tqdm(range(len(post_pad_result))):\n",
    "    current_lst = post_pad_result[i]\n",
    "    for x in range(len(current_lst)):\n",
    "        current_word = current_lst[x]\n",
    "        try: stemmed_word = nutids_r_stem[current_word]\n",
    "        except: continue\n",
    "        current_dataset = current_lst[x-half_scope:x+half_scope+1]\n",
    "        try: current_dataset[half_scope] = stemmed_word\n",
    "        except: print(current_dataset); continue\n",
    "        big_lst.append((\" \".join(current_dataset)).lower())\n",
    "        if nutids_r[stemmed_word][0] == current_word:\n",
    "            output = 0\n",
    "        elif nutids_r[stemmed_word][1] == current_word:\n",
    "            output = 1\n",
    "        else:\n",
    "            print(\"ERROR\")\n",
    "        output_lst.append(output)\n"
   ]
  },
  {
   "cell_type": "code",
   "execution_count": 20,
   "metadata": {},
   "outputs": [
    {
     "name": "stdout",
     "output_type": "stream",
     "text": [
      "143961\n",
      "0    92156\n",
      "1    51805\n",
      "Name: label, dtype: int64\n",
      "143961\n"
     ]
    }
   ],
   "source": [
    "df = pd.DataFrame()\n",
    "df[\"comment_text\"] = big_lst\n",
    "df[\"label\"] = output_lst\n",
    "\n",
    "print(len(df))\n",
    "df = df[:6000000]\n",
    "\n",
    "def distribution(df):\n",
    "    print(df[\"label\"].value_counts())\n",
    "\n",
    "distribution(df)\n",
    "print(len(df))\n",
    "header = [\"comment_text\", \"label\"]\n",
    "df.to_csv(\"../Datasets/EuroparlNutidsr.csv\", encoding=\"UTF-8\", index=False, sep=\";\")"
   ]
  },
  {
   "cell_type": "markdown",
   "metadata": {},
   "source": [
    "--- \n",
    "### Making testset for nutids-r module"
   ]
  },
  {
   "cell_type": "code",
   "execution_count": 1,
   "metadata": {},
   "outputs": [],
   "source": [
    "import os\n",
    "import pandas as pd\n",
    "from tqdm import tqdm\n",
    "import pickle"
   ]
  },
  {
   "cell_type": "code",
   "execution_count": 2,
   "metadata": {},
   "outputs": [],
   "source": [
    "os.chdir(\"/Users/lucasvilsen/Desktop/GrammatikTAK/Datasets/\")\n",
    "filename = \"europarl-v7.da-en.da\"\n",
    "with open(filename, \"r\", encoding=\"UTF-8\") as file:\n",
    "    lines = file.readlines()\n",
    "with open(\"nutids_r_bøjninger.pickle\", \"rb\") as f:\n",
    "    nutids_r_bøjninger = pickle.load(f)\n",
    "with open(\"nutids_r_stem.pickle\", \"rb\") as f:\n",
    "    nutids_r_stem = pickle.load(f)"
   ]
  },
  {
   "cell_type": "code",
   "execution_count": 16,
   "metadata": {},
   "outputs": [
    {
     "name": "stderr",
     "output_type": "stream",
     "text": [
      "  1%|          | 12/963 [01:48<2:13:58,  8.45s/it]"
     ]
    },
    {
     "name": "stdout",
     "output_type": "stream",
     "text": [
      "hey\n",
      "hey\n",
      "hey\n",
      "hey\n",
      "hey\n",
      "hey\n",
      "hey\n",
      "hey\n",
      "hey\n",
      "hey\n",
      "hey\n",
      "hey\n",
      "hey\n",
      "Fru formand, fru Díez González og jeg havde stillet nogle spørgsmål om visse holdninger gengivet i en spansk avis, som næstformanden, fru de Palacio, har givet udtryk for.\n",
      "visse -> visser\n"
     ]
    },
    {
     "name": "stderr",
     "output_type": "stream",
     "text": [
      "  1%|          | 12/963 [01:50<2:26:36,  9.25s/it]\n"
     ]
    },
    {
     "ename": "ValueError",
     "evalue": "invalid literal for int() with base 10: ''",
     "output_type": "error",
     "traceback": [
      "\u001b[0;31m---------------------------------------------------------------------------\u001b[0m",
      "\u001b[0;31mValueError\u001b[0m                                Traceback (most recent call last)",
      "Cell \u001b[0;32mIn[16], line 31\u001b[0m\n\u001b[1;32m     29\u001b[0m     bøjet_ord \u001b[38;5;241m=\u001b[39m nutids_r_bøjninger[stemmed][\u001b[38;5;241m0\u001b[39m]\n\u001b[1;32m     30\u001b[0m \u001b[38;5;28mprint\u001b[39m(\u001b[38;5;124mf\u001b[39m\u001b[38;5;124m\"\u001b[39m\u001b[38;5;132;01m{\u001b[39;00mword\u001b[38;5;132;01m}\u001b[39;00m\u001b[38;5;124m -> \u001b[39m\u001b[38;5;132;01m{\u001b[39;00mbøjet_ord\u001b[38;5;132;01m}\u001b[39;00m\u001b[38;5;124m\"\u001b[39m)\n\u001b[0;32m---> 31\u001b[0m to_continue \u001b[38;5;241m=\u001b[39m \u001b[38;5;28;43mint\u001b[39;49m\u001b[43m(\u001b[49m\u001b[38;5;28;43minput\u001b[39;49m\u001b[43m(\u001b[49m\u001b[38;5;124;43mf\u001b[39;49m\u001b[38;5;124;43m\"\u001b[39;49m\u001b[38;5;124;43m1 for Ja, 2 for Nej.\u001b[39;49m\u001b[38;5;124;43m\"\u001b[39;49m\u001b[43m)\u001b[49m\u001b[43m)\u001b[49m\n\u001b[1;32m     32\u001b[0m clear_output()\n\u001b[1;32m     33\u001b[0m \u001b[38;5;28;01mif\u001b[39;00m to_continue \u001b[38;5;241m==\u001b[39m \u001b[38;5;241m2\u001b[39m:\n",
      "\u001b[0;31mValueError\u001b[0m: invalid literal for int() with base 10: ''"
     ]
    }
   ],
   "source": [
    "df = pd.read_csv(\"../Datasets/EuroparlNutidsr_testset.csv\", encoding=\"UTF-8\", sep=\";\")\n",
    "correct_sentences = list(df[\"correct\"])\n",
    "wrong_sentences = list(df[\"wrong\"])\n",
    "from IPython.display import clear_output\n",
    "\n",
    "def save_df():\n",
    "    df = pd.DataFrame()\n",
    "    df[\"wrong\"] = wrong_sentences\n",
    "    df[\"correct\"] = correct_sentences\n",
    "    df.to_csv(\"../Datasets/EuroparlNutidsr_testset.csv\", encoding=\"UTF-8\", index=False, sep=\";\")\n",
    "\n",
    "for line in tqdm(lines[49:1000]):\n",
    "    line = line.strip(\"\\n\")\n",
    "    words = line.split()\n",
    "    for i, word in enumerate(words):\n",
    "        print(\"hey\")\n",
    "        symbol = \"\"\n",
    "        if word[-1] in \".,?!\":\n",
    "            symbol = word[-1]\n",
    "            word = word[:-1]\n",
    "        try: stemmed = nutids_r_stem[word]\n",
    "        except: continue\n",
    "        if word[-1] == \"s\":\n",
    "            continue\n",
    "        print(line)\n",
    "        if nutids_r_bøjninger[stemmed][0] == word:\n",
    "            bøjet_ord = nutids_r_bøjninger[stemmed][1]\n",
    "        else:\n",
    "            bøjet_ord = nutids_r_bøjninger[stemmed][0]\n",
    "        print(f\"{word} -> {bøjet_ord}\")\n",
    "        to_continue = int(input(f\"1 for Ja, 2 for Nej.\"))\n",
    "        clear_output()\n",
    "        if to_continue == 2:\n",
    "            continue\n",
    "        words[i] = bøjet_ord + symbol\n",
    "    new_line = \" \".join(words)\n",
    "    wrong_sentences.append(new_line)\n",
    "    correct_sentences.append(line)\n",
    "    save_df()"
   ]
  },
  {
   "cell_type": "code",
   "execution_count": 20,
   "metadata": {},
   "outputs": [],
   "source": []
  },
  {
   "cell_type": "code",
   "execution_count": null,
   "metadata": {},
   "outputs": [],
   "source": []
  }
 ],
 "metadata": {
  "kernelspec": {
   "display_name": "Python 3.11.2 64-bit",
   "language": "python",
   "name": "python3"
  },
  "language_info": {
   "codemirror_mode": {
    "name": "ipython",
    "version": 3
   },
   "file_extension": ".py",
   "mimetype": "text/x-python",
   "name": "python",
   "nbconvert_exporter": "python",
   "pygments_lexer": "ipython3",
   "version": "3.11.2"
  },
  "orig_nbformat": 4,
  "vscode": {
   "interpreter": {
    "hash": "b0fa6594d8f4cbf19f97940f81e996739fb7646882a419484c72d19e05852a7e"
   }
  }
 },
 "nbformat": 4,
 "nbformat_minor": 2
}
