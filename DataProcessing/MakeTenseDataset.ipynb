{
 "cells": [
  {
   "cell_type": "code",
   "execution_count": 68,
   "metadata": {},
   "outputs": [],
   "source": [
    "import os\n",
    "import pandas as pd\n",
    "from tqdm import tqdm\n",
    "import pickle\n"
   ]
  },
  {
   "cell_type": "code",
   "execution_count": 69,
   "metadata": {},
   "outputs": [],
   "source": [
    "os.chdir(\"/Users/lucasvilsen/Desktop/GrammatikTAK/Datasets/\")\n",
    "filename = \"europarl-v7.da-en.da\"\n",
    "with open(filename, \"r\", encoding=\"UTF-8\") as file:\n",
    "    lines = file.readlines()\n",
    "with open(\"nutids_r.pickle\", \"rb\") as f:\n",
    "    nutids_r = pickle.load(f)\n",
    "with open(\"nutids_r_stem.pickle\", \"rb\") as f:\n",
    "    nutids_r_stem = pickle.load(f)"
   ]
  },
  {
   "cell_type": "code",
   "execution_count": 70,
   "metadata": {},
   "outputs": [
    {
     "name": "stderr",
     "output_type": "stream",
     "text": [
      "100%|██████████| 393760/393760 [00:06<00:00, 61210.68it/s]\n"
     ]
    }
   ],
   "source": [
    "step_rate = 5\n",
    "pre_pad_result = []\n",
    "for i in tqdm(range(0, len(lines),step_rate)):\n",
    "    pre_pad_result.append((' '.join(lines[i:i+step_rate])).split())"
   ]
  },
  {
   "cell_type": "code",
   "execution_count": 71,
   "metadata": {},
   "outputs": [],
   "source": [
    "scope = 10\n",
    "middle = int(scope/2)\n",
    "padding = int(scope/2)"
   ]
  },
  {
   "cell_type": "code",
   "execution_count": 77,
   "metadata": {},
   "outputs": [
    {
     "name": "stderr",
     "output_type": "stream",
     "text": [
      "100%|██████████| 393760/393760 [00:48<00:00, 8117.94it/s]  \n"
     ]
    }
   ],
   "source": [
    "pre_cleaned_result = [[\"<PAD>\"]*padding + lst + [\"<PAD>\"]*padding for lst in tqdm(pre_pad_result)]"
   ]
  },
  {
   "cell_type": "code",
   "execution_count": 78,
   "metadata": {},
   "outputs": [
    {
     "name": "stderr",
     "output_type": "stream",
     "text": [
      "100%|██████████| 393760/393760 [01:33<00:00, 4195.30it/s]\n"
     ]
    }
   ],
   "source": [
    "post_pad_result = []\n",
    "char = \"*@;:!\\\"?«».,\"\n",
    "\n",
    "for i in tqdm(range(len(pre_cleaned_result))):\n",
    "    pre_cleaned_lst = pre_cleaned_result[i]\n",
    "    lst = [word.translate(str.maketrans('', '', ''.join(char))) for word in pre_cleaned_lst]\n",
    "    post_pad_result.append(lst)"
   ]
  },
  {
   "cell_type": "code",
   "execution_count": 79,
   "metadata": {},
   "outputs": [],
   "source": [
    "saved_post_pad_result = post_pad_result"
   ]
  },
  {
   "cell_type": "code",
   "execution_count": 80,
   "metadata": {},
   "outputs": [],
   "source": [
    "post_pad_result = saved_post_pad_result[:100000]"
   ]
  },
  {
   "cell_type": "code",
   "execution_count": 81,
   "metadata": {},
   "outputs": [
    {
     "name": "stderr",
     "output_type": "stream",
     "text": [
      " 29%|██▉       | 29398/100000 [00:02<00:05, 13958.08it/s]\n"
     ]
    },
    {
     "ename": "IndexError",
     "evalue": "list assignment index out of range",
     "output_type": "error",
     "traceback": [
      "\u001b[0;31m---------------------------------------------------------------------------\u001b[0m",
      "\u001b[0;31mIndexError\u001b[0m                                Traceback (most recent call last)",
      "Cell \u001b[0;32mIn[81], line 14\u001b[0m\n\u001b[1;32m     12\u001b[0m \u001b[38;5;28;01mexcept\u001b[39;00m: \u001b[38;5;28;01mcontinue\u001b[39;00m\n\u001b[1;32m     13\u001b[0m current_dataset \u001b[38;5;241m=\u001b[39m current_lst[x\u001b[38;5;241m-\u001b[39mhalf_scope:x\u001b[38;5;241m+\u001b[39mhalf_scope\u001b[38;5;241m+\u001b[39m\u001b[38;5;241m1\u001b[39m]\n\u001b[0;32m---> 14\u001b[0m \u001b[43mcurrent_dataset\u001b[49m\u001b[43m[\u001b[49m\u001b[43mhalf_scope\u001b[49m\u001b[43m]\u001b[49m \u001b[38;5;241m=\u001b[39m stemmed_word\n\u001b[1;32m     15\u001b[0m big_lst\u001b[38;5;241m.\u001b[39mappend(\u001b[38;5;124m\"\u001b[39m\u001b[38;5;124m \u001b[39m\u001b[38;5;124m\"\u001b[39m\u001b[38;5;241m.\u001b[39mjoin(current_dataset))\n\u001b[1;32m     16\u001b[0m \u001b[38;5;28;01mif\u001b[39;00m nutids_r[stemmed_word][\u001b[38;5;241m0\u001b[39m] \u001b[38;5;241m==\u001b[39m current_word:\n",
      "\u001b[0;31mIndexError\u001b[0m: list assignment index out of range"
     ]
    }
   ],
   "source": [
    "bøjning = {0: \"infinitiv\", 1: \"førnutidsformen\"}\n",
    "half_scope = int(scope/2)\n",
    "big_lst = []\n",
    "output_lst = []\n",
    "\n",
    "\n",
    "for i in tqdm(range(len(post_pad_result))):\n",
    "    current_lst = post_pad_result[i]\n",
    "    for x in range(len(current_lst)):\n",
    "        current_word = current_lst[x]\n",
    "        try: stemmed_word = nutids_r_stem[current_word]\n",
    "        except: continue\n",
    "        current_dataset = current_lst[x-half_scope:x+half_scope+1]\n",
    "        try: current_dataset[half_scope] = stemmed_word\n",
    "        except: print(current_dataset)\n",
    "        big_lst.append(\" \".join(current_dataset))\n",
    "        if nutids_r[stemmed_word][0] == current_word:\n",
    "            output = 0\n",
    "        elif nutids_r[stemmed_word][1] == current_word:\n",
    "            output = 1\n",
    "        else:\n",
    "            print(\"ERROR\")\n",
    "        output_lst.append(output)\n"
   ]
  },
  {
   "cell_type": "code",
   "execution_count": null,
   "metadata": {},
   "outputs": [
    {
     "name": "stdout",
     "output_type": "stream",
     "text": [
      "217020\n",
      "0    113611\n",
      "1    103409\n",
      "Name: label, dtype: int64\n",
      "217020\n"
     ]
    }
   ],
   "source": [
    "df = pd.DataFrame()\n",
    "df[\"comment_text\"] = big_lst\n",
    "df[\"label\"] = output_lst\n",
    "\n",
    "print(len(df))\n",
    "df = df[:6000000]\n",
    "\n",
    "def distribution(df):\n",
    "    print(df[\"label\"].value_counts())\n",
    "\n",
    "distribution(df)\n",
    "print(len(df))\n",
    "header = [\"comment_text\", \"label\"]\n",
    "df.to_csv(\"../Datasets/EuroparlNutidsr.csv\", encoding=\"UTF-8\", index=False, sep=\";\")"
   ]
  },
  {
   "cell_type": "code",
   "execution_count": null,
   "metadata": {},
   "outputs": [],
   "source": []
  }
 ],
 "metadata": {
  "kernelspec": {
   "display_name": "Python 3.11.2 64-bit",
   "language": "python",
   "name": "python3"
  },
  "language_info": {
   "codemirror_mode": {
    "name": "ipython",
    "version": 3
   },
   "file_extension": ".py",
   "mimetype": "text/x-python",
   "name": "python",
   "nbconvert_exporter": "python",
   "pygments_lexer": "ipython3",
   "version": "3.11.2"
  },
  "orig_nbformat": 4,
  "vscode": {
   "interpreter": {
    "hash": "b0fa6594d8f4cbf19f97940f81e996739fb7646882a419484c72d19e05852a7e"
   }
  }
 },
 "nbformat": 4,
 "nbformat_minor": 2
}
