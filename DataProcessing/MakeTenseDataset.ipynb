{
 "cells": [
  {
   "cell_type": "code",
   "execution_count": 15,
   "metadata": {},
   "outputs": [],
   "source": [
    "import os\n",
    "import pandas as pd\n",
    "from tqdm import tqdm\n",
    "import pickle\n"
   ]
  },
  {
   "cell_type": "code",
   "execution_count": 23,
   "metadata": {},
   "outputs": [],
   "source": [
    "os.chdir(\"/Users/lucasvilsen/Desktop/GrammatikTAK/Datasets/\")\n",
    "filename = \"europarl-v7.da-en.da\"\n",
    "with open(filename, \"r\", encoding=\"UTF-8\") as file:\n",
    "    lines = file.readlines()\n",
    "with open(\"nutids_r.pickle\", \"rb\") as f:\n",
    "    nutids_r = pickle.load(f)\n",
    "with open(\"nutids_r_stem.pickle\", \"rb\") as f:\n",
    "    nutids_r_stem = pickle.load(f)"
   ]
  },
  {
   "cell_type": "code",
   "execution_count": 24,
   "metadata": {},
   "outputs": [
    {
     "name": "stderr",
     "output_type": "stream",
     "text": [
      "100%|██████████| 393760/393760 [00:05<00:00, 77298.42it/s] \n"
     ]
    }
   ],
   "source": [
    "step_rate = 5\n",
    "pre_pad_result = []\n",
    "for i in tqdm(range(0, len(lines),step_rate)):\n",
    "    pre_pad_result.append((' '.join(lines[i:i+step_rate])).split())"
   ]
  },
  {
   "cell_type": "code",
   "execution_count": 25,
   "metadata": {},
   "outputs": [],
   "source": [
    "scope = 10\n",
    "middle = int(scope/2-1)\n",
    "padding = int(scope/2-1)"
   ]
  },
  {
   "cell_type": "code",
   "execution_count": null,
   "metadata": {},
   "outputs": [],
   "source": [
    "post_pad_result = []\n",
    "for i in tqdm(range(len(pre_pad_result))):\n",
    "    lst = pre_pad_result[i]\n",
    "    lst = [\"<PAD>\"]*padding + lst + [\"<PAD>\"]*padding\n",
    "    post_pad_result.append(lst)"
   ]
  },
  {
   "cell_type": "code",
   "execution_count": null,
   "metadata": {},
   "outputs": [],
   "source": [
    "post_pad_result = post_pad_result[:5]"
   ]
  },
  {
   "cell_type": "code",
   "execution_count": null,
   "metadata": {},
   "outputs": [],
   "source": [
    "bøjning = [\"infinitiv\", \"førnutidsformen\"]\n",
    "\n",
    "for i in tqdm(range(len(post_pad_result))):\n",
    "    current_lst = post_pad_result[i]\n",
    "    for x in range(len(current_lst)):\n",
    "        current_word = current_lst[x]\n",
    "        try: stemmed_word = nutids_r_stem[current_word]\n",
    "        except: continue\n",
    "        print()\n"
   ]
  }
 ],
 "metadata": {
  "kernelspec": {
   "display_name": "Python 3.11.2 64-bit",
   "language": "python",
   "name": "python3"
  },
  "language_info": {
   "codemirror_mode": {
    "name": "ipython",
    "version": 3
   },
   "file_extension": ".py",
   "mimetype": "text/x-python",
   "name": "python",
   "nbconvert_exporter": "python",
   "pygments_lexer": "ipython3",
   "version": "3.11.2"
  },
  "orig_nbformat": 4,
  "vscode": {
   "interpreter": {
    "hash": "b0fa6594d8f4cbf19f97940f81e996739fb7646882a419484c72d19e05852a7e"
   }
  }
 },
 "nbformat": 4,
 "nbformat_minor": 2
}
