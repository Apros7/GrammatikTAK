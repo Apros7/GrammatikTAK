{
 "cells": [
  {
   "cell_type": "code",
   "execution_count": 1,
   "metadata": {},
   "outputs": [],
   "source": [
    "import pandas as pd\n",
    "import os"
   ]
  },
  {
   "cell_type": "code",
   "execution_count": 2,
   "metadata": {},
   "outputs": [],
   "source": [
    "os.chdir(\"/Users/lucasvilsen/Desktop/GrammatikTAK/Datasets/\")"
   ]
  },
  {
   "cell_type": "code",
   "execution_count": 3,
   "metadata": {},
   "outputs": [
    {
     "data": {
      "text/plain": [
       "488"
      ]
     },
     "execution_count": 3,
     "metadata": {},
     "output_type": "execute_result"
    }
   ],
   "source": [
    "filename = \"stavefejl_wikipedia.csv\"\n",
    "with open(filename, \"r\", encoding=\"UTF-8\") as file:\n",
    "    lines = file.readlines()\n",
    "\n",
    "cleaned_lines = [line.replace(\"\\n\", \"\") for line in lines]\n",
    "len(cleaned_lines)"
   ]
  },
  {
   "cell_type": "code",
   "execution_count": 15,
   "metadata": {},
   "outputs": [],
   "source": [
    "wrongs, rights = [], []\n",
    "\n",
    "for line in cleaned_lines:\n",
    "    words = line.split()\n",
    "    if len(words) != 2:\n",
    "        continue\n",
    "    wrong, right = words\n",
    "    wrongs.append(wrong)\n",
    "    right = right.strip(\"()\")\n",
    "    rights.append(right)\n"
   ]
  },
  {
   "cell_type": "code",
   "execution_count": 16,
   "metadata": {},
   "outputs": [
    {
     "data": {
      "text/plain": [
       "427"
      ]
     },
     "execution_count": 16,
     "metadata": {},
     "output_type": "execute_result"
    }
   ],
   "source": [
    "len(wrongs)"
   ]
  },
  {
   "cell_type": "code",
   "execution_count": 17,
   "metadata": {},
   "outputs": [
    {
     "data": {
      "text/plain": [
       "563"
      ]
     },
     "execution_count": 17,
     "metadata": {},
     "output_type": "execute_result"
    }
   ],
   "source": [
    "os.chdir(\"/Users/lucasvilsen/Desktop/GrammatikTAK/DataProcessing/SpellingErrors/\")\n",
    "df = pd.read_csv(\"other_spelling_mistakes.csv\", sep=\"\\t\")\n",
    "stavefejl = df[\"STAVEFEJL\"].tolist()\n",
    "korrekte = df[\"KORREKT STAVEMÅDE\"].tolist()\n",
    "for fejl, korrekt in zip(stavefejl, korrekte):\n",
    "    alle_fejl = fejl.split(\"//\")\n",
    "    for sub_fejl in alle_fejl:\n",
    "        sub_fejl.strip()\n",
    "        wrongs.append(sub_fejl)\n",
    "        rights.append(korrekt)\n",
    "len(wrongs)"
   ]
  },
  {
   "cell_type": "code",
   "execution_count": 18,
   "metadata": {},
   "outputs": [
    {
     "data": {
      "text/plain": [
       "553"
      ]
     },
     "execution_count": 18,
     "metadata": {},
     "output_type": "execute_result"
    }
   ],
   "source": [
    "misspellings = {k:v for (k, v) in zip(wrongs, rights)}\n",
    "len(misspellings)"
   ]
  },
  {
   "cell_type": "code",
   "execution_count": 19,
   "metadata": {},
   "outputs": [],
   "source": [
    "## sort alphabetical\n",
    "misspellings = {k:v for (k, v) in zip(wrongs, rights)}\n",
    "misspellings_alphabetical = dict(sorted(misspellings.items()))\n",
    "wrongs, rights = list(misspellings_alphabetical.keys()), list(misspellings_alphabetical.values())"
   ]
  },
  {
   "cell_type": "code",
   "execution_count": 20,
   "metadata": {},
   "outputs": [],
   "source": [
    "df = pd.DataFrame(zip(wrongs, rights), columns=[\"wrong\", \"right\"])\n",
    "df.to_csv(\"wikipedia_spelling_errors.csv\", encoding=\"UTF-8\", index=False, sep=\"|\")"
   ]
  },
  {
   "cell_type": "code",
   "execution_count": null,
   "metadata": {},
   "outputs": [],
   "source": []
  }
 ],
 "metadata": {
  "kernelspec": {
   "display_name": "Python 3.11.2 64-bit",
   "language": "python",
   "name": "python3"
  },
  "language_info": {
   "codemirror_mode": {
    "name": "ipython",
    "version": 3
   },
   "file_extension": ".py",
   "mimetype": "text/x-python",
   "name": "python",
   "nbconvert_exporter": "python",
   "pygments_lexer": "ipython3",
   "version": "3.11.2"
  },
  "orig_nbformat": 4,
  "vscode": {
   "interpreter": {
    "hash": "b0fa6594d8f4cbf19f97940f81e996739fb7646882a419484c72d19e05852a7e"
   }
  }
 },
 "nbformat": 4,
 "nbformat_minor": 2
}
