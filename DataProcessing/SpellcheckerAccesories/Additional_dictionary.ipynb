{
 "cells": [
  {
   "cell_type": "markdown",
   "metadata": {},
   "source": [
    "### Dictionary for words not found in official dictionary"
   ]
  },
  {
   "cell_type": "code",
   "execution_count": 6,
   "metadata": {},
   "outputs": [],
   "source": [
    "import pickle\n",
    "from tqdm import tqdm\n",
    "import pandas as pd"
   ]
  },
  {
   "cell_type": "code",
   "execution_count": 7,
   "metadata": {},
   "outputs": [],
   "source": [
    "dictionary = pickle.load(open(\"../../Datasets/dictionary.pickle\", \"rb\"))"
   ]
  },
  {
   "cell_type": "code",
   "execution_count": 10,
   "metadata": {},
   "outputs": [],
   "source": [
    "df = pd.read_csv(\"composite_words.csv\", sep=\"\\t\")\n",
    "always_true = df[df[\"forklaring\"] == \"altid sådan\"]\n",
    "composite_words = list(always_true[\"ord/ordforbindelse\"].values)\n",
    "composite_words = [word for word in composite_words if \"(\" not in word]\n",
    "# currently only correct 2-3 composite words in spellchecker\n",
    "composite_words = [word for word in composite_words if len(word.split()) < 4] "
   ]
  },
  {
   "cell_type": "code",
   "execution_count": 11,
   "metadata": {},
   "outputs": [
    {
     "name": "stderr",
     "output_type": "stream",
     "text": [
      "100%|██████████| 671/671 [00:00<00:00, 1244749.22it/s]\n"
     ]
    }
   ],
   "source": [
    "all_composite = []\n",
    "for comp_word in tqdm(composite_words):\n",
    "    words = comp_word.split()\n",
    "    for word in words: all_composite.append(word)"
   ]
  },
  {
   "cell_type": "code",
   "execution_count": 12,
   "metadata": {},
   "outputs": [
    {
     "name": "stderr",
     "output_type": "stream",
     "text": [
      "100%|██████████| 1093/1093 [00:02<00:00, 424.09it/s]\n"
     ]
    }
   ],
   "source": [
    "additional_dictionary = []\n",
    "for word in tqdm(all_composite):\n",
    "    if word in dictionary: continue\n",
    "    additional_dictionary.append(word)"
   ]
  },
  {
   "cell_type": "code",
   "execution_count": 13,
   "metadata": {},
   "outputs": [
    {
     "data": {
      "text/plain": [
       "243"
      ]
     },
     "execution_count": 13,
     "metadata": {},
     "output_type": "execute_result"
    }
   ],
   "source": [
    "len(additional_dictionary)"
   ]
  },
  {
   "cell_type": "code",
   "execution_count": 15,
   "metadata": {},
   "outputs": [
    {
     "data": {
      "text/html": [
       "<div>\n",
       "<style scoped>\n",
       "    .dataframe tbody tr th:only-of-type {\n",
       "        vertical-align: middle;\n",
       "    }\n",
       "\n",
       "    .dataframe tbody tr th {\n",
       "        vertical-align: top;\n",
       "    }\n",
       "\n",
       "    .dataframe thead th {\n",
       "        text-align: right;\n",
       "    }\n",
       "</style>\n",
       "<table border=\"1\" class=\"dataframe\">\n",
       "  <thead>\n",
       "    <tr style=\"text-align: right;\">\n",
       "      <th></th>\n",
       "      <th>row0</th>\n",
       "      <th>row1</th>\n",
       "    </tr>\n",
       "  </thead>\n",
       "  <tbody>\n",
       "    <tr>\n",
       "      <th>0</th>\n",
       "      <td>a c. (ac.)</td>\n",
       "      <td>a conto (aconto)</td>\n",
       "    </tr>\n",
       "    <tr>\n",
       "      <th>1</th>\n",
       "      <td>adr.</td>\n",
       "      <td>adresse</td>\n",
       "    </tr>\n",
       "    <tr>\n",
       "      <th>2</th>\n",
       "      <td>afs.</td>\n",
       "      <td>afsender</td>\n",
       "    </tr>\n",
       "    <tr>\n",
       "      <th>3</th>\n",
       "      <td>alm.</td>\n",
       "      <td>almindelig/almindeligt</td>\n",
       "    </tr>\n",
       "    <tr>\n",
       "      <th>4</th>\n",
       "      <td>alt.</td>\n",
       "      <td>alternativ/alternativt</td>\n",
       "    </tr>\n",
       "    <tr>\n",
       "      <th>5</th>\n",
       "      <td>a.m.b.a.</td>\n",
       "      <td>andelsselskab med begrænset ansvar</td>\n",
       "    </tr>\n",
       "    <tr>\n",
       "      <th>6</th>\n",
       "      <td>ang.</td>\n",
       "      <td>angående</td>\n",
       "    </tr>\n",
       "    <tr>\n",
       "      <th>7</th>\n",
       "      <td>ApS</td>\n",
       "      <td>anpartsselskab</td>\n",
       "    </tr>\n",
       "    <tr>\n",
       "      <th>8</th>\n",
       "      <td>a/s (A/S)</td>\n",
       "      <td>aktieselskab</td>\n",
       "    </tr>\n",
       "    <tr>\n",
       "      <th>9</th>\n",
       "      <td>att.</td>\n",
       "      <td>attention (til)</td>\n",
       "    </tr>\n",
       "    <tr>\n",
       "      <th>10</th>\n",
       "      <td>aut.</td>\n",
       "      <td>autoriseret</td>\n",
       "    </tr>\n",
       "    <tr>\n",
       "      <th>11</th>\n",
       "      <td>av (AV)</td>\n",
       "      <td>audiovisuel</td>\n",
       "    </tr>\n",
       "    <tr>\n",
       "      <th>12</th>\n",
       "      <td>– B –</td>\n",
       "      <td>NaN</td>\n",
       "    </tr>\n",
       "    <tr>\n",
       "      <th>13</th>\n",
       "      <td>bcc</td>\n",
       "      <td>blind carbon copy (skjult kopi)</td>\n",
       "    </tr>\n",
       "  </tbody>\n",
       "</table>\n",
       "</div>"
      ],
      "text/plain": [
       "          row0                                row1\n",
       "0   a c. (ac.)                    a conto (aconto)\n",
       "1         adr.                             adresse\n",
       "2         afs.                            afsender\n",
       "3         alm.              almindelig/almindeligt\n",
       "4         alt.              alternativ/alternativt\n",
       "5     a.m.b.a.  andelsselskab med begrænset ansvar\n",
       "6         ang.                            angående\n",
       "7          ApS                      anpartsselskab\n",
       "8    a/s (A/S)                        aktieselskab\n",
       "9         att.                     attention (til)\n",
       "10        aut.                         autoriseret\n",
       "11     av (AV)                         audiovisuel\n",
       "12       – B –                                 NaN\n",
       "13         bcc     blind carbon copy (skjult kopi)"
      ]
     },
     "execution_count": 15,
     "metadata": {},
     "output_type": "execute_result"
    }
   ],
   "source": [
    "df = pd.read_csv(\"forkortelser.csv\", sep=\"\\t\")\n",
    "df.head(14)"
   ]
  },
  {
   "cell_type": "code",
   "execution_count": 22,
   "metadata": {},
   "outputs": [
    {
     "name": "stderr",
     "output_type": "stream",
     "text": [
      "100%|██████████| 215/215 [00:00<00:00, 1215330.67it/s]\n"
     ]
    }
   ],
   "source": [
    "forkortelser = []\n",
    "for el in tqdm(df[\"row0\"]):\n",
    "    if \"-\" in el: continue\n",
    "    els = el.split()\n",
    "    if len(els) > 2: continue\n",
    "    if len(els) == 2: els[1] = els[1].strip(\"(\").strip(\")\"); forkortelser.append(els[0]); forkortelser.append(els[1])\n",
    "    else: forkortelser.append(els[0])\n"
   ]
  },
  {
   "cell_type": "code",
   "execution_count": 17,
   "metadata": {},
   "outputs": [],
   "source": [
    "for el in tqdm(forkortelser):\n",
    "    if el in dictionary: continue\n",
    "    additional_dictionary.append(el)"
   ]
  },
  {
   "cell_type": "code",
   "execution_count": 24,
   "metadata": {},
   "outputs": [],
   "source": [
    "additional_dictionary = list(set(additional_dictionary))"
   ]
  },
  {
   "cell_type": "code",
   "execution_count": 25,
   "metadata": {},
   "outputs": [
    {
     "data": {
      "text/plain": [
       "335"
      ]
     },
     "execution_count": 25,
     "metadata": {},
     "output_type": "execute_result"
    }
   ],
   "source": [
    "len(additional_dictionary)"
   ]
  },
  {
   "cell_type": "code",
   "execution_count": 26,
   "metadata": {},
   "outputs": [],
   "source": [
    "with open(\"additional_dictionary.pickle\", \"wb\") as file:\n",
    "    pickle.dump(additional_dictionary, file)"
   ]
  },
  {
   "cell_type": "code",
   "execution_count": null,
   "metadata": {},
   "outputs": [],
   "source": []
  }
 ],
 "metadata": {
  "kernelspec": {
   "display_name": "Python 3.11.2 64-bit",
   "language": "python",
   "name": "python3"
  },
  "language_info": {
   "codemirror_mode": {
    "name": "ipython",
    "version": 3
   },
   "file_extension": ".py",
   "mimetype": "text/x-python",
   "name": "python",
   "nbconvert_exporter": "python",
   "pygments_lexer": "ipython3",
   "version": "3.11.2"
  },
  "orig_nbformat": 4,
  "vscode": {
   "interpreter": {
    "hash": "b0fa6594d8f4cbf19f97940f81e996739fb7646882a419484c72d19e05852a7e"
   }
  }
 },
 "nbformat": 4,
 "nbformat_minor": 2
}
