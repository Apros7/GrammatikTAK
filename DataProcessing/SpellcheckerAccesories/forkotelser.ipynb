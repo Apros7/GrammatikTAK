{
 "cells": [
  {
   "cell_type": "markdown",
   "metadata": {},
   "source": [
    "Collected from:\n",
    "- https://syntaksis.dk/forkortelser/\n",
    "- http://www.ebn.dk/forkortelser/"
   ]
  },
  {
   "cell_type": "markdown",
   "metadata": {},
   "source": [
    "Noter omkring forkortelser:\n",
    "- "
   ]
  },
  {
   "cell_type": "code",
   "execution_count": 13,
   "metadata": {},
   "outputs": [],
   "source": [
    "import pandas as pd\n",
    "import os\n",
    "import pickle"
   ]
  },
  {
   "cell_type": "code",
   "execution_count": 3,
   "metadata": {},
   "outputs": [
    {
     "data": {
      "text/plain": [
       "['row0\\trow1\\n',\n",
       " 'a c. (ac.)\\ta conto (aconto)\\n',\n",
       " 'adr.\\tadresse\\n',\n",
       " 'afs.\\tafsender\\n',\n",
       " 'alm.\\talmindelig/almindeligt\\n',\n",
       " 'alt.\\talternativ/alternativt\\n',\n",
       " 'a.m.b.a.\\tandelsselskab med begrænset ansvar\\n',\n",
       " 'ang.\\tangående\\n',\n",
       " 'ApS\\tanpartsselskab\\n',\n",
       " 'a/s (A/S)\\taktieselskab\\n']"
      ]
     },
     "execution_count": 3,
     "metadata": {},
     "output_type": "execute_result"
    }
   ],
   "source": [
    "lines = open(\"forkortelser.csv\").readlines()\n",
    "lines[:10]"
   ]
  },
  {
   "cell_type": "code",
   "execution_count": 4,
   "metadata": {},
   "outputs": [
    {
     "data": {
      "text/html": [
       "<div>\n",
       "<style scoped>\n",
       "    .dataframe tbody tr th:only-of-type {\n",
       "        vertical-align: middle;\n",
       "    }\n",
       "\n",
       "    .dataframe tbody tr th {\n",
       "        vertical-align: top;\n",
       "    }\n",
       "\n",
       "    .dataframe thead th {\n",
       "        text-align: right;\n",
       "    }\n",
       "</style>\n",
       "<table border=\"1\" class=\"dataframe\">\n",
       "  <thead>\n",
       "    <tr style=\"text-align: right;\">\n",
       "      <th></th>\n",
       "      <th>row0</th>\n",
       "      <th>row1</th>\n",
       "    </tr>\n",
       "  </thead>\n",
       "  <tbody>\n",
       "    <tr>\n",
       "      <th>0</th>\n",
       "      <td>a c. (ac.)</td>\n",
       "      <td>a conto (aconto)</td>\n",
       "    </tr>\n",
       "    <tr>\n",
       "      <th>1</th>\n",
       "      <td>adr.</td>\n",
       "      <td>adresse</td>\n",
       "    </tr>\n",
       "    <tr>\n",
       "      <th>2</th>\n",
       "      <td>afs.</td>\n",
       "      <td>afsender</td>\n",
       "    </tr>\n",
       "    <tr>\n",
       "      <th>3</th>\n",
       "      <td>alm.</td>\n",
       "      <td>almindelig/almindeligt</td>\n",
       "    </tr>\n",
       "    <tr>\n",
       "      <th>4</th>\n",
       "      <td>alt.</td>\n",
       "      <td>alternativ/alternativt</td>\n",
       "    </tr>\n",
       "    <tr>\n",
       "      <th>5</th>\n",
       "      <td>a.m.b.a.</td>\n",
       "      <td>andelsselskab med begrænset ansvar</td>\n",
       "    </tr>\n",
       "    <tr>\n",
       "      <th>6</th>\n",
       "      <td>ang.</td>\n",
       "      <td>angående</td>\n",
       "    </tr>\n",
       "    <tr>\n",
       "      <th>7</th>\n",
       "      <td>ApS</td>\n",
       "      <td>anpartsselskab</td>\n",
       "    </tr>\n",
       "    <tr>\n",
       "      <th>8</th>\n",
       "      <td>a/s (A/S)</td>\n",
       "      <td>aktieselskab</td>\n",
       "    </tr>\n",
       "    <tr>\n",
       "      <th>9</th>\n",
       "      <td>att.</td>\n",
       "      <td>attention (til)</td>\n",
       "    </tr>\n",
       "    <tr>\n",
       "      <th>10</th>\n",
       "      <td>aut.</td>\n",
       "      <td>autoriseret</td>\n",
       "    </tr>\n",
       "    <tr>\n",
       "      <th>11</th>\n",
       "      <td>av (AV)</td>\n",
       "      <td>audiovisuel</td>\n",
       "    </tr>\n",
       "    <tr>\n",
       "      <th>12</th>\n",
       "      <td>– B –</td>\n",
       "      <td>NaN</td>\n",
       "    </tr>\n",
       "    <tr>\n",
       "      <th>13</th>\n",
       "      <td>bcc</td>\n",
       "      <td>blind carbon copy (skjult kopi)</td>\n",
       "    </tr>\n",
       "    <tr>\n",
       "      <th>14</th>\n",
       "      <td>bet.</td>\n",
       "      <td>betalt</td>\n",
       "    </tr>\n",
       "    <tr>\n",
       "      <th>15</th>\n",
       "      <td>bh (BH)</td>\n",
       "      <td>brystholder</td>\n",
       "    </tr>\n",
       "    <tr>\n",
       "      <th>16</th>\n",
       "      <td>bl.a.</td>\n",
       "      <td>blandt andet</td>\n",
       "    </tr>\n",
       "    <tr>\n",
       "      <th>17</th>\n",
       "      <td>bto.</td>\n",
       "      <td>brutto</td>\n",
       "    </tr>\n",
       "    <tr>\n",
       "      <th>18</th>\n",
       "      <td>– C –</td>\n",
       "      <td>NaN</td>\n",
       "    </tr>\n",
       "    <tr>\n",
       "      <th>19</th>\n",
       "      <td>ca.</td>\n",
       "      <td>cirka</td>\n",
       "    </tr>\n",
       "  </tbody>\n",
       "</table>\n",
       "</div>"
      ],
      "text/plain": [
       "          row0                                row1\n",
       "0   a c. (ac.)                    a conto (aconto)\n",
       "1         adr.                             adresse\n",
       "2         afs.                            afsender\n",
       "3         alm.              almindelig/almindeligt\n",
       "4         alt.              alternativ/alternativt\n",
       "5     a.m.b.a.  andelsselskab med begrænset ansvar\n",
       "6         ang.                            angående\n",
       "7          ApS                      anpartsselskab\n",
       "8    a/s (A/S)                        aktieselskab\n",
       "9         att.                     attention (til)\n",
       "10        aut.                         autoriseret\n",
       "11     av (AV)                         audiovisuel\n",
       "12       – B –                                 NaN\n",
       "13         bcc     blind carbon copy (skjult kopi)\n",
       "14        bet.                              betalt\n",
       "15     bh (BH)                         brystholder\n",
       "16       bl.a.                        blandt andet\n",
       "17        bto.                              brutto\n",
       "18       – C –                                 NaN\n",
       "19         ca.                               cirka"
      ]
     },
     "execution_count": 4,
     "metadata": {},
     "output_type": "execute_result"
    }
   ],
   "source": [
    "df = pd.read_csv(\"forkortelser.csv\", sep=\"\\t\")\n",
    "df.head(20)"
   ]
  },
  {
   "cell_type": "code",
   "execution_count": 5,
   "metadata": {},
   "outputs": [
    {
     "name": "stderr",
     "output_type": "stream",
     "text": [
      "100%|██████████| 215/215 [00:00<00:00, 289308.75it/s]\n"
     ]
    }
   ],
   "source": [
    "from tqdm import tqdm\n",
    "\n",
    "forkortelser = []\n",
    "for el in tqdm(df[\"row0\"]):\n",
    "    if \"-\" in el: continue\n",
    "    els = el.split()\n",
    "    if len(els) > 2: continue\n",
    "    if len(els) == 2: els[1] = els[1].strip(\"(\").strip(\")\"); forkortelser.append(els[0]); forkortelser.append(els[1])\n",
    "    else: forkortelser.append(els[0])"
   ]
  },
  {
   "cell_type": "code",
   "execution_count": 10,
   "metadata": {},
   "outputs": [
    {
     "name": "stderr",
     "output_type": "stream",
     "text": [
      "100%|██████████| 222/222 [00:00<00:00, 1680749.98it/s]\n"
     ]
    }
   ],
   "source": [
    "forkortelser_dict = {}\n",
    "for el in tqdm(forkortelser):\n",
    "    forkortelser_dict[el.replace(\".\", \"\")] = el"
   ]
  },
  {
   "cell_type": "code",
   "execution_count": 12,
   "metadata": {},
   "outputs": [
    {
     "data": {
      "text/plain": [
       "'d.'"
      ]
     },
     "execution_count": 12,
     "metadata": {},
     "output_type": "execute_result"
    }
   ],
   "source": [
    "forkortelser_dict[\"d\"]"
   ]
  },
  {
   "cell_type": "code",
   "execution_count": null,
   "metadata": {},
   "outputs": [],
   "source": [
    "with open(\"forkotelser_dict\", \"wb\") as f:\n",
    "    pickle.dump(forkortelser_dict, f)"
   ]
  }
 ],
 "metadata": {
  "kernelspec": {
   "display_name": "Python 3.11.2 64-bit",
   "language": "python",
   "name": "python3"
  },
  "language_info": {
   "codemirror_mode": {
    "name": "ipython",
    "version": 3
   },
   "file_extension": ".py",
   "mimetype": "text/x-python",
   "name": "python",
   "nbconvert_exporter": "python",
   "pygments_lexer": "ipython3",
   "version": "3.11.2"
  },
  "orig_nbformat": 4,
  "vscode": {
   "interpreter": {
    "hash": "b0fa6594d8f4cbf19f97940f81e996739fb7646882a419484c72d19e05852a7e"
   }
  }
 },
 "nbformat": 4,
 "nbformat_minor": 2
}
