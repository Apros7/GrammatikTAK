{
 "cells": [
  {
   "cell_type": "code",
   "execution_count": 4,
   "metadata": {},
   "outputs": [],
   "source": [
    "import pickle\n",
    "import os\n",
    "\n",
    "os.chdir(\"/Users/lucasvilsen/Desktop/GrammatikTAK/GrammatiktakBackend\")\n",
    "\n",
    "dictionary = pickle.load(open(\"Datasets/dictionary.pickle\", \"rb\"))"
   ]
  },
  {
   "cell_type": "code",
   "execution_count": 5,
   "metadata": {},
   "outputs": [],
   "source": [
    "hard_coded_frequent_spelling_errors = {\n",
    "    \"idag\": \"i dag\",\n",
    "    \"imorgen\": \"i morgen\",\n",
    "    \"igår\": \"i går\",\n",
    "    \"igang\": \"i gang\",\n",
    "}\n",
    "\n",
    "spelling_errors = {**hard_coded_frequent_spelling_errors, **pickle.load(open(\"Datasets/misspellings_dict.pickle\", \"rb\"))}"
   ]
  },
  {
   "cell_type": "code",
   "execution_count": 6,
   "metadata": {},
   "outputs": [
    {
     "name": "stdout",
     "output_type": "stream",
     "text": [
      "['ord', 'kineseriers', 'kassernes', 'overklasseløgs', 'harmoniers', 'uhyggestemningens', 'normannerhøvdinges', 'handlingsprogrammers', 'præget', 'vulkankraterne']\n",
      "False\n",
      "True\n"
     ]
    }
   ],
   "source": [
    "print(dictionary[:10])\n",
    "print(\"fødseldag\" in dictionary)\n",
    "print(\"fødseldag\" in spelling_errors.keys())"
   ]
  },
  {
   "cell_type": "code",
   "execution_count": 1,
   "metadata": {},
   "outputs": [
    {
     "data": {
      "text/plain": [
       "30"
      ]
     },
     "execution_count": 1,
     "metadata": {},
     "output_type": "execute_result"
    }
   ],
   "source": [
    "lst = ['håber', 'du', 'har', 'en', 'god', 'dag.', 'har', 'du', 'en', 'god', 'dag?', 'har', 'en', 'god', 'dag.', 'har', 'du', 'haft', 'en', 'god', 'dag?', 'har', 'du', 'spist', 'en', 'banan?', 'jeg', 'håber', 'du', 'hygger.']\n",
    "len(lst)"
   ]
  },
  {
   "cell_type": "markdown",
   "metadata": {},
   "source": [
    "### Translate API"
   ]
  },
  {
   "cell_type": "code",
   "execution_count": 18,
   "metadata": {},
   "outputs": [],
   "source": [
    "import translators as ts"
   ]
  },
  {
   "cell_type": "code",
   "execution_count": 21,
   "metadata": {},
   "outputs": [
    {
     "data": {
      "text/plain": [
       "('Er Islands ambassadør Brian Rasmussen?',\n",
       " \"Is Iceland's Ambassador Brian Rasmussen?\")"
      ]
     },
     "execution_count": 21,
     "metadata": {},
     "output_type": "execute_result"
    }
   ],
   "source": [
    "string = \"Hedder islands ambasadør brian rasmussen?\"\n",
    "response = ts.translate_text(string, translator='google', from_language='da', to_language='en')\n",
    "ts.translate_text(response, translator='google', from_language='en', to_language='da'), response"
   ]
  },
  {
   "cell_type": "code",
   "execution_count": 15,
   "metadata": {},
   "outputs": [
    {
     "data": {
      "text/plain": [
       "'If you want to approve and restart the server'"
      ]
     },
     "execution_count": 15,
     "metadata": {},
     "output_type": "execute_result"
    }
   ],
   "source": [
    "full_text = \"Hvis du vil approve og restarte serveren, så skal jeg nok nå så mange reviews\"\n",
    "phrase = \"Hvis du vil approve og restarte serveren\"\n",
    "response = ts.translate_text(phrase, translator='google', from_language='da', to_language='en')\n",
    "response\n"
   ]
  },
  {
   "cell_type": "code",
   "execution_count": 16,
   "metadata": {},
   "outputs": [
    {
     "data": {
      "text/plain": [
       "'Hvis du vil godkende og genstarte serveren'"
      ]
     },
     "execution_count": 16,
     "metadata": {},
     "output_type": "execute_result"
    }
   ],
   "source": [
    "ts.translate_text(response, translator='google', from_language='en', to_language='da')"
   ]
  },
  {
   "cell_type": "code",
   "execution_count": 17,
   "metadata": {},
   "outputs": [
    {
     "data": {
      "text/plain": [
       "'Hvis du vil godkende OG Restarte Serveren'"
      ]
     },
     "execution_count": 17,
     "metadata": {},
     "output_type": "execute_result"
    }
   ],
   "source": [
    "ts.translate_text(phrase, translator='google', from_language='en', to_language='da')"
   ]
  },
  {
   "cell_type": "markdown",
   "metadata": {},
   "source": [
    "### Danish Dictionary"
   ]
  },
  {
   "cell_type": "code",
   "execution_count": 1,
   "metadata": {},
   "outputs": [],
   "source": [
    "import pickle\n",
    "import os\n",
    "\n",
    "os.chdir(\"/Users/lucasvilsen/Desktop/GrammatikTAK/GrammatiktakBackend\")\n",
    "\n",
    "dictionary = pickle.load(open(\"Datasets/dictionary.pickle\", \"rb\"))"
   ]
  },
  {
   "cell_type": "code",
   "execution_count": 3,
   "metadata": {},
   "outputs": [
    {
     "data": {
      "text/plain": [
       "False"
      ]
     },
     "execution_count": 3,
     "metadata": {},
     "output_type": "execute_result"
    }
   ],
   "source": [
    "\"ide\" in dictionary"
   ]
  },
  {
   "cell_type": "code",
   "execution_count": null,
   "metadata": {},
   "outputs": [],
   "source": []
  }
 ],
 "metadata": {
  "kernelspec": {
   "display_name": "Python 3.11.2 64-bit",
   "language": "python",
   "name": "python3"
  },
  "language_info": {
   "codemirror_mode": {
    "name": "ipython",
    "version": 3
   },
   "file_extension": ".py",
   "mimetype": "text/x-python",
   "name": "python",
   "nbconvert_exporter": "python",
   "pygments_lexer": "ipython3",
   "version": "3.11.2"
  },
  "orig_nbformat": 4,
  "vscode": {
   "interpreter": {
    "hash": "b0fa6594d8f4cbf19f97940f81e996739fb7646882a419484c72d19e05852a7e"
   }
  }
 },
 "nbformat": 4,
 "nbformat_minor": 2
}
