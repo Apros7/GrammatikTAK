{
 "cells": [
  {
   "cell_type": "code",
   "execution_count": 3,
   "metadata": {},
   "outputs": [
    {
     "name": "stdout",
     "output_type": "stream",
     "text": [
      "ho\n"
     ]
    }
   ],
   "source": [
    "string = \"a\"\n",
    "if string:\n",
    "    print(\"ho\")\n",
    "else:\n",
    "    print(\"hey\")"
   ]
  },
  {
   "cell_type": "code",
   "execution_count": 4,
   "metadata": {},
   "outputs": [],
   "source": [
    "import pickle\n",
    "import os\n",
    "\n",
    "os.chdir(\"/Users/lucasvilsen/Desktop/GrammatikTAK/GrammatiktakBackend\")\n",
    "\n",
    "dictionary = pickle.load(open(\"Datasets/dictionary.pickle\", \"rb\"))"
   ]
  },
  {
   "cell_type": "code",
   "execution_count": 5,
   "metadata": {},
   "outputs": [],
   "source": [
    "hard_coded_frequent_spelling_errors = {\n",
    "    \"idag\": \"i dag\",\n",
    "    \"imorgen\": \"i morgen\",\n",
    "    \"igår\": \"i går\",\n",
    "    \"igang\": \"i gang\",\n",
    "}\n",
    "\n",
    "spelling_errors = {**hard_coded_frequent_spelling_errors, **pickle.load(open(\"Datasets/misspellings_dict.pickle\", \"rb\"))}"
   ]
  },
  {
   "cell_type": "code",
   "execution_count": 6,
   "metadata": {},
   "outputs": [
    {
     "name": "stdout",
     "output_type": "stream",
     "text": [
      "['ord', 'kineseriers', 'kassernes', 'overklasseløgs', 'harmoniers', 'uhyggestemningens', 'normannerhøvdinges', 'handlingsprogrammers', 'præget', 'vulkankraterne']\n",
      "False\n",
      "True\n"
     ]
    }
   ],
   "source": [
    "print(dictionary[:10])\n",
    "print(\"fødseldag\" in dictionary)\n",
    "print(\"fødseldag\" in spelling_errors.keys())"
   ]
  },
  {
   "cell_type": "code",
   "execution_count": null,
   "metadata": {},
   "outputs": [],
   "source": []
  }
 ],
 "metadata": {
  "kernelspec": {
   "display_name": "Python 3.11.2 64-bit",
   "language": "python",
   "name": "python3"
  },
  "language_info": {
   "codemirror_mode": {
    "name": "ipython",
    "version": 3
   },
   "file_extension": ".py",
   "mimetype": "text/x-python",
   "name": "python",
   "nbconvert_exporter": "python",
   "pygments_lexer": "ipython3",
   "version": "3.11.2"
  },
  "orig_nbformat": 4,
  "vscode": {
   "interpreter": {
    "hash": "b0fa6594d8f4cbf19f97940f81e996739fb7646882a419484c72d19e05852a7e"
   }
  }
 },
 "nbformat": 4,
 "nbformat_minor": 2
}
