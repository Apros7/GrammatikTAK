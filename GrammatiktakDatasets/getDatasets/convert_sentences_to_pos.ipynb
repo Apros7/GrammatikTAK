{
 "cells": [
  {
   "cell_type": "code",
   "execution_count": 40,
   "metadata": {},
   "outputs": [],
   "source": [
    "import os\n",
    "import pandas as pd\n",
    "from tqdm import tqdm\n",
    "import pickle"
   ]
  },
  {
   "cell_type": "code",
   "execution_count": 41,
   "metadata": {},
   "outputs": [],
   "source": [
    "os.chdir(\"/Users/lucasvilsen/Desktop/GrammatikTAK/Datasets/\")\n",
    "filename = \"europarl-v7.da-en.da\"\n",
    "with open(filename, \"r\", encoding=\"UTF-8\") as file:\n",
    "    lines = file.readlines()\n",
    "with open(\"nutids_r_bøjninger.pickle\", \"rb\") as f:\n",
    "    nutids_r_bøjninger = pickle.load(f)\n",
    "with open(\"nutids_r_stem.pickle\", \"rb\") as f:\n",
    "    nutids_r_stem = pickle.load(f)"
   ]
  },
  {
   "cell_type": "code",
   "execution_count": 42,
   "metadata": {},
   "outputs": [],
   "source": [
    "sent = []\n",
    "pos = []"
   ]
  },
  {
   "cell_type": "code",
   "execution_count": 43,
   "metadata": {},
   "outputs": [
    {
     "data": {
      "text/html": [
       "<div>\n",
       "<style scoped>\n",
       "    .dataframe tbody tr th:only-of-type {\n",
       "        vertical-align: middle;\n",
       "    }\n",
       "\n",
       "    .dataframe tbody tr th {\n",
       "        vertical-align: top;\n",
       "    }\n",
       "\n",
       "    .dataframe thead th {\n",
       "        text-align: right;\n",
       "    }\n",
       "</style>\n",
       "<table border=\"1\" class=\"dataframe\">\n",
       "  <thead>\n",
       "    <tr style=\"text-align: right;\">\n",
       "      <th></th>\n",
       "      <th>sent</th>\n",
       "      <th>pos</th>\n",
       "    </tr>\n",
       "  </thead>\n",
       "  <tbody>\n",
       "    <tr>\n",
       "      <th>0</th>\n",
       "      <td>Genoptagelse af sessionen</td>\n",
       "      <td>NOUN ADP NOUN</td>\n",
       "    </tr>\n",
       "    <tr>\n",
       "      <th>1</th>\n",
       "      <td>Jeg erklærer Europa-Parlamentets session, der ...</td>\n",
       "      <td>PRON VERB NOUN PUNCT PRON AUX VERB NOUN DET AD...</td>\n",
       "    </tr>\n",
       "    <tr>\n",
       "      <th>2</th>\n",
       "      <td>Som De kan se, indfandt det store \"år 2000-pro...</td>\n",
       "      <td>ADP PRON AUX VERB VERB DET ADJ NOUN X PRON PUN...</td>\n",
       "    </tr>\n",
       "    <tr>\n",
       "      <th>3</th>\n",
       "      <td>De har udtrykt ønske om en debat om dette emne...</td>\n",
       "      <td>PRON AUX VERB NOUN ADP DET NOUN ADP DET NOUN A...</td>\n",
       "    </tr>\n",
       "    <tr>\n",
       "      <th>4</th>\n",
       "      <td>I mellemtiden ønsker jeg - som også en del kol...</td>\n",
       "      <td>ADP NOUN VERB PRON PUNCT ADP ADV DET NOUN NOUN...</td>\n",
       "    </tr>\n",
       "    <tr>\n",
       "      <th>...</th>\n",
       "      <td>...</td>\n",
       "      <td>...</td>\n",
       "    </tr>\n",
       "    <tr>\n",
       "      <th>6995</th>\n",
       "      <td>Fru formand, mine damer og herrer, som vi har ...</td>\n",
       "      <td>X PUNCT DET NOUN CCONJ NOUN ADP PRON AUX VERB ...</td>\n",
       "    </tr>\n",
       "    <tr>\n",
       "      <th>6996</th>\n",
       "      <td>Kulturudvalgets beslutninger lander jo ikke ud...</td>\n",
       "      <td>NOUN NOUN VERB ADV ADV ADP NOUN ADV ADP NOUN A...</td>\n",
       "    </tr>\n",
       "    <tr>\n",
       "      <th>6997</th>\n",
       "      <td>Således viser enstemmighedsprincippet sig at v...</td>\n",
       "      <td>ADV VERB NOUN PRON PART AUX DET ADJ NOUN</td>\n",
       "    </tr>\n",
       "    <tr>\n",
       "      <th>6998</th>\n",
       "      <td>Næsten to år har kampen om et bæredygtigt komp...</td>\n",
       "      <td>ADV NUM NOUN AUX NOUN ADP DET ADJ NOUN VERB SC...</td>\n",
       "    </tr>\n",
       "    <tr>\n",
       "      <th>6999</th>\n",
       "      <td>Selv ikke udløbet af de foregående programmer,...</td>\n",
       "      <td>ADV ADV NOUN ADP DET ADJ NOUN PUNCT PROPN CCON...</td>\n",
       "    </tr>\n",
       "  </tbody>\n",
       "</table>\n",
       "<p>7000 rows × 2 columns</p>\n",
       "</div>"
      ],
      "text/plain": [
       "                                                   sent  \\\n",
       "0                             Genoptagelse af sessionen   \n",
       "1     Jeg erklærer Europa-Parlamentets session, der ...   \n",
       "2     Som De kan se, indfandt det store \"år 2000-pro...   \n",
       "3     De har udtrykt ønske om en debat om dette emne...   \n",
       "4     I mellemtiden ønsker jeg - som også en del kol...   \n",
       "...                                                 ...   \n",
       "6995  Fru formand, mine damer og herrer, som vi har ...   \n",
       "6996  Kulturudvalgets beslutninger lander jo ikke ud...   \n",
       "6997  Således viser enstemmighedsprincippet sig at v...   \n",
       "6998  Næsten to år har kampen om et bæredygtigt komp...   \n",
       "6999  Selv ikke udløbet af de foregående programmer,...   \n",
       "\n",
       "                                                    pos  \n",
       "0                                         NOUN ADP NOUN  \n",
       "1     PRON VERB NOUN PUNCT PRON AUX VERB NOUN DET AD...  \n",
       "2     ADP PRON AUX VERB VERB DET ADJ NOUN X PRON PUN...  \n",
       "3     PRON AUX VERB NOUN ADP DET NOUN ADP DET NOUN A...  \n",
       "4     ADP NOUN VERB PRON PUNCT ADP ADV DET NOUN NOUN...  \n",
       "...                                                 ...  \n",
       "6995  X PUNCT DET NOUN CCONJ NOUN ADP PRON AUX VERB ...  \n",
       "6996  NOUN NOUN VERB ADV ADV ADP NOUN ADV ADP NOUN A...  \n",
       "6997           ADV VERB NOUN PRON PART AUX DET ADJ NOUN  \n",
       "6998  ADV NUM NOUN AUX NOUN ADP DET ADJ NOUN VERB SC...  \n",
       "6999  ADV ADV NOUN ADP DET ADJ NOUN PUNCT PROPN CCON...  \n",
       "\n",
       "[7000 rows x 2 columns]"
      ]
     },
     "execution_count": 43,
     "metadata": {},
     "output_type": "execute_result"
    }
   ],
   "source": [
    "df = pd.read_csv(\"../Datasets/EuroparlSentToPos.csv\", encoding=\"UTF-8\", sep=\";\")\n",
    "sent = list(df[\"sent\"])\n",
    "pos = list(df[\"pos\"])\n",
    "\n",
    "df"
   ]
  },
  {
   "cell_type": "code",
   "execution_count": 44,
   "metadata": {},
   "outputs": [
    {
     "name": "stderr",
     "output_type": "stream",
     "text": [
      "2023-05-09 13:05:30 INFO: Checking for updates to resources.json in case models have been updated.  Note: this behavior can be turned off with download_method=None or download_method=DownloadMethod.REUSE_RESOURCES\n"
     ]
    },
    {
     "data": {
      "application/vnd.jupyter.widget-view+json": {
       "model_id": "d0a557b47239454e8cc1c51a0e73a333",
       "version_major": 2,
       "version_minor": 0
      },
      "text/plain": [
       "Downloading https://raw.githubusercontent.com/stanfordnlp/stanza-resources/main/resources_1.5.0.json:   0%|   …"
      ]
     },
     "metadata": {},
     "output_type": "display_data"
    },
    {
     "name": "stderr",
     "output_type": "stream",
     "text": [
      "2023-05-09 13:05:31 INFO: Loading these models for language: da (Danish):\n",
      "=======================\n",
      "| Processor | Package |\n",
      "-----------------------\n",
      "| tokenize  | ddt     |\n",
      "| pos       | ddt     |\n",
      "=======================\n",
      "\n",
      "2023-05-09 13:05:31 WARNING: GPU requested, but is not available!\n",
      "2023-05-09 13:05:31 INFO: Using device: cpu\n",
      "2023-05-09 13:05:31 INFO: Loading: tokenize\n",
      "2023-05-09 13:05:31 INFO: Loading: pos\n",
      "2023-05-09 13:05:31 INFO: Done loading processors!\n"
     ]
    }
   ],
   "source": [
    "import stanza\n",
    "\n",
    "pos_model = stanza.Pipeline(\"da\", processors='tokenize,pos', use_gpu=True, cache_directory='./cache', tokenize_pretokenized=True, n_process=8)\n",
    "\n",
    "def get_pos_tags(words):\n",
    "    doc = pos_model(\" \".join(words))\n",
    "    results = [word.upos for sentence in doc.sentences for i, word in enumerate(sentence.words)]\n",
    "    return results"
   ]
  },
  {
   "cell_type": "code",
   "execution_count": 45,
   "metadata": {},
   "outputs": [
    {
     "name": "stderr",
     "output_type": "stream",
     "text": [
      " 42%|████▏     | 9759/23000 [30:10<58:06,  3.80it/s]  "
     ]
    }
   ],
   "source": [
    "for line in tqdm(lines[7000:30000]):\n",
    "    true_words = line.split()\n",
    "    relative_pos = get_pos_tags(true_words)\n",
    "    sent.append(\" \".join(true_words))\n",
    "    pos.append(\" \".join(relative_pos))\n"
   ]
  },
  {
   "cell_type": "code",
   "execution_count": 39,
   "metadata": {},
   "outputs": [
    {
     "data": {
      "text/html": [
       "<div>\n",
       "<style scoped>\n",
       "    .dataframe tbody tr th:only-of-type {\n",
       "        vertical-align: middle;\n",
       "    }\n",
       "\n",
       "    .dataframe tbody tr th {\n",
       "        vertical-align: top;\n",
       "    }\n",
       "\n",
       "    .dataframe thead th {\n",
       "        text-align: right;\n",
       "    }\n",
       "</style>\n",
       "<table border=\"1\" class=\"dataframe\">\n",
       "  <thead>\n",
       "    <tr style=\"text-align: right;\">\n",
       "      <th></th>\n",
       "      <th>sent</th>\n",
       "      <th>pos</th>\n",
       "    </tr>\n",
       "  </thead>\n",
       "  <tbody>\n",
       "    <tr>\n",
       "      <th>0</th>\n",
       "      <td>Genoptagelse af sessionen</td>\n",
       "      <td>NOUN ADP NOUN</td>\n",
       "    </tr>\n",
       "    <tr>\n",
       "      <th>1</th>\n",
       "      <td>Jeg erklærer Europa-Parlamentets session, der ...</td>\n",
       "      <td>PRON VERB NOUN PUNCT PRON AUX VERB NOUN DET AD...</td>\n",
       "    </tr>\n",
       "    <tr>\n",
       "      <th>2</th>\n",
       "      <td>Som De kan se, indfandt det store \"år 2000-pro...</td>\n",
       "      <td>ADP PRON AUX VERB VERB DET ADJ NOUN X PRON PUN...</td>\n",
       "    </tr>\n",
       "    <tr>\n",
       "      <th>3</th>\n",
       "      <td>De har udtrykt ønske om en debat om dette emne...</td>\n",
       "      <td>PRON AUX VERB NOUN ADP DET NOUN ADP DET NOUN A...</td>\n",
       "    </tr>\n",
       "    <tr>\n",
       "      <th>4</th>\n",
       "      <td>I mellemtiden ønsker jeg - som også en del kol...</td>\n",
       "      <td>ADP NOUN VERB PRON PUNCT ADP ADV DET NOUN NOUN...</td>\n",
       "    </tr>\n",
       "    <tr>\n",
       "      <th>...</th>\n",
       "      <td>...</td>\n",
       "      <td>...</td>\n",
       "    </tr>\n",
       "    <tr>\n",
       "      <th>6995</th>\n",
       "      <td>Fru formand, mine damer og herrer, som vi har ...</td>\n",
       "      <td>X PUNCT DET NOUN CCONJ NOUN ADP PRON AUX VERB ...</td>\n",
       "    </tr>\n",
       "    <tr>\n",
       "      <th>6996</th>\n",
       "      <td>Kulturudvalgets beslutninger lander jo ikke ud...</td>\n",
       "      <td>NOUN NOUN VERB ADV ADV ADP NOUN ADV ADP NOUN A...</td>\n",
       "    </tr>\n",
       "    <tr>\n",
       "      <th>6997</th>\n",
       "      <td>Således viser enstemmighedsprincippet sig at v...</td>\n",
       "      <td>ADV VERB NOUN PRON PART AUX DET ADJ NOUN</td>\n",
       "    </tr>\n",
       "    <tr>\n",
       "      <th>6998</th>\n",
       "      <td>Næsten to år har kampen om et bæredygtigt komp...</td>\n",
       "      <td>ADV NUM NOUN AUX NOUN ADP DET ADJ NOUN VERB SC...</td>\n",
       "    </tr>\n",
       "    <tr>\n",
       "      <th>6999</th>\n",
       "      <td>Selv ikke udløbet af de foregående programmer,...</td>\n",
       "      <td>ADV ADV NOUN ADP DET ADJ NOUN PUNCT PROPN CCON...</td>\n",
       "    </tr>\n",
       "  </tbody>\n",
       "</table>\n",
       "<p>7000 rows × 2 columns</p>\n",
       "</div>"
      ],
      "text/plain": [
       "                                                   sent  \\\n",
       "0                             Genoptagelse af sessionen   \n",
       "1     Jeg erklærer Europa-Parlamentets session, der ...   \n",
       "2     Som De kan se, indfandt det store \"år 2000-pro...   \n",
       "3     De har udtrykt ønske om en debat om dette emne...   \n",
       "4     I mellemtiden ønsker jeg - som også en del kol...   \n",
       "...                                                 ...   \n",
       "6995  Fru formand, mine damer og herrer, som vi har ...   \n",
       "6996  Kulturudvalgets beslutninger lander jo ikke ud...   \n",
       "6997  Således viser enstemmighedsprincippet sig at v...   \n",
       "6998  Næsten to år har kampen om et bæredygtigt komp...   \n",
       "6999  Selv ikke udløbet af de foregående programmer,...   \n",
       "\n",
       "                                                    pos  \n",
       "0                                         NOUN ADP NOUN  \n",
       "1     PRON VERB NOUN PUNCT PRON AUX VERB NOUN DET AD...  \n",
       "2     ADP PRON AUX VERB VERB DET ADJ NOUN X PRON PUN...  \n",
       "3     PRON AUX VERB NOUN ADP DET NOUN ADP DET NOUN A...  \n",
       "4     ADP NOUN VERB PRON PUNCT ADP ADV DET NOUN NOUN...  \n",
       "...                                                 ...  \n",
       "6995  X PUNCT DET NOUN CCONJ NOUN ADP PRON AUX VERB ...  \n",
       "6996  NOUN NOUN VERB ADV ADV ADP NOUN ADV ADP NOUN A...  \n",
       "6997           ADV VERB NOUN PRON PART AUX DET ADJ NOUN  \n",
       "6998  ADV NUM NOUN AUX NOUN ADP DET ADJ NOUN VERB SC...  \n",
       "6999  ADV ADV NOUN ADP DET ADJ NOUN PUNCT PROPN CCON...  \n",
       "\n",
       "[7000 rows x 2 columns]"
      ]
     },
     "execution_count": 39,
     "metadata": {},
     "output_type": "execute_result"
    }
   ],
   "source": [
    "df = pd.DataFrame(zip(sent, pos), columns=[\"sent\", \"pos\"])\n",
    "df.to_csv(\"../Datasets/EuroparlSentToPos.csv\", encoding=\"UTF-8\", index=False, sep=\";\")\n",
    "df"
   ]
  },
  {
   "cell_type": "code",
   "execution_count": null,
   "metadata": {},
   "outputs": [],
   "source": []
  }
 ],
 "metadata": {
  "kernelspec": {
   "display_name": "Python 3.11.2 64-bit",
   "language": "python",
   "name": "python3"
  },
  "language_info": {
   "codemirror_mode": {
    "name": "ipython",
    "version": 3
   },
   "file_extension": ".py",
   "mimetype": "text/x-python",
   "name": "python",
   "nbconvert_exporter": "python",
   "pygments_lexer": "ipython3",
   "version": "3.11.2"
  },
  "orig_nbformat": 4,
  "vscode": {
   "interpreter": {
    "hash": "b0fa6594d8f4cbf19f97940f81e996739fb7646882a419484c72d19e05852a7e"
   }
  }
 },
 "nbformat": 4,
 "nbformat_minor": 2
}
